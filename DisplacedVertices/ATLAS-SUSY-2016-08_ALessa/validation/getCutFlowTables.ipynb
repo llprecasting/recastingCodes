{
 "cells": [
  {
   "cell_type": "code",
   "execution_count": 39,
   "metadata": {},
   "outputs": [],
   "source": [
    "import pandas as pd"
   ]
  },
  {
   "cell_type": "markdown",
   "metadata": {},
   "source": [
    "### Strong Production"
   ]
  },
  {
   "cell_type": "code",
   "execution_count": 40,
   "metadata": {},
   "outputs": [],
   "source": [
    "recastPD = pd.read_pickle('./cutFlow_comb_strong.pcl')"
   ]
  },
  {
   "cell_type": "code",
   "execution_count": 41,
   "metadata": {},
   "outputs": [],
   "source": [
    "atlasCutFlow = {}\n",
    "atlasCutFlow['$m_{\\\\tilde g} (GeV)$'] = []\n",
    "atlasCutFlow['$m_{\\\\tilde \\chi_1^0} (GeV)$'] = []\n",
    "atlasCutFlow['$\\\\tau(\\\\tilde \\chi_1^0) (ns)$'] = []\n",
    "atlasCutFlow.update({\"Total\" : [],\n",
    "            \"Jet selection\" : [],\n",
    "            \"$R_{xy},z <$ 300 mm\" : [],\n",
    "            \"$R_{DV} > 4$ mm\" : [],\n",
    "            \"$d_0 > 2$ mm\" : [],\n",
    "            \"$nTracks >= 5$\" : [],\n",
    "            \"mDV > 10 GeV\" : [],\n",
    "            \"final Acc*Eff\" : []\n",
    "            })"
   ]
  },
  {
   "cell_type": "code",
   "execution_count": 42,
   "metadata": {},
   "outputs": [],
   "source": [
    "with open('../ATLAS_data/HEPData-ins2628398-v1-csv/acceptance_highpt_strong.csv', 'r') as f:\n",
    "    blocks = f.read().split('#: Luminosity [fb$^{-1}$],139')[1:]\n",
    "for b in blocks:\n",
    "    lines = [l for l in b.split('\\n') if l.strip()]\n",
    "    header_lines = [l for l in lines if l[0] == '#']\n",
    "    data_lines = [l for l in lines if l[0] != '#' and 'Selections,Acceptance' not in l]\n",
    "    mGluino = float([l for l in header_lines if '$m(\\\\tilde{g})$ [GeV]' in l][0].split(',')[1])\n",
    "    mLLP = float([l for l in header_lines if '$m(\\\\tilde{\\chi}^0_1)$' in l][0].split(',')[1])\n",
    "    tau =  float([l for l in header_lines if '$\\\\tau$ [ns]' in l][0].split(',')[1])\n",
    "    data = [mGluino,mLLP,tau,1.0]+[float(l.split(',')[-1]) for l in data_lines]+[0.0]\n",
    "    for ik,k in enumerate(atlasCutFlow):\n",
    "        atlasCutFlow[k].append(data[ik])\n",
    "    \n",
    "    "
   ]
  },
  {
   "cell_type": "code",
   "execution_count": 43,
   "metadata": {},
   "outputs": [],
   "source": [
    "atlasPD = pd.DataFrame.from_dict(atlasCutFlow, orient='index')\n",
    "atlasPD.loc['final Acc*Eff'] = [27.8/1e2,14.4/1e2,11.5/1e2,9.2/1e2]"
   ]
  },
  {
   "cell_type": "code",
   "execution_count": 44,
   "metadata": {},
   "outputs": [
    {
     "name": "stderr",
     "output_type": "stream",
     "text": [
      "/tmp/ipykernel_154820/2776082500.py:11: FutureWarning: Setting an item of incompatible dtype is deprecated and will raise in a future error of pandas. Value '0.999 (0.999)' has dtype incompatible with float64, please explicitly cast to a compatible dtype first.\n",
      "  combData.loc[index] = merged\n",
      "/tmp/ipykernel_154820/2776082500.py:11: FutureWarning: Setting an item of incompatible dtype is deprecated and will raise in a future error of pandas. Value '0.967 (0.966)' has dtype incompatible with float64, please explicitly cast to a compatible dtype first.\n",
      "  combData.loc[index] = merged\n",
      "/tmp/ipykernel_154820/2776082500.py:11: FutureWarning: Setting an item of incompatible dtype is deprecated and will raise in a future error of pandas. Value '0.985 (0.972)' has dtype incompatible with float64, please explicitly cast to a compatible dtype first.\n",
      "  combData.loc[index] = merged\n",
      "/tmp/ipykernel_154820/2776082500.py:11: FutureWarning: Setting an item of incompatible dtype is deprecated and will raise in a future error of pandas. Value '0.999 (0.961)' has dtype incompatible with float64, please explicitly cast to a compatible dtype first.\n",
      "  combData.loc[index] = merged\n"
     ]
    }
   ],
   "source": [
    "combData = recastPD.copy()\n",
    "for index in recastPD.index.values:\n",
    "    recastVals = recastPD.loc[index]\n",
    "    atlasVals = atlasPD.loc[index]\n",
    "    if index == 'Total' or '(GeV)' in index or '(ns)' in index:\n",
    "        combData.loc[index] = [float('%1.3f' %x) for x in recastVals]\n",
    "        continue\n",
    "    merged = ['%1.3f (%1.3f)' %x for x in zip(recastVals,atlasVals)]\n",
    "    # print(index)\n",
    "    # print(merged)\n",
    "    combData.loc[index] = merged"
   ]
  },
  {
   "cell_type": "code",
   "execution_count": 45,
   "metadata": {},
   "outputs": [
    {
     "name": "stdout",
     "output_type": "stream",
     "text": [
      "|                              | 0             | 1             | 2             | 3             |\n",
      "|:-----------------------------|:--------------|:--------------|:--------------|:--------------|\n",
      "| $m_{\\tilde g} (GeV)$         | 2000.0        | 2000.0        | 2400.0        | 2000.0        |\n",
      "| $m_{\\tilde \\chi_1^0} (GeV)$  | 850.0         | 50.0          | 200.0         | 1250.0        |\n",
      "| $\\tau(\\tilde \\chi_1^0) (ns)$ | 0.01          | 0.1           | 1.0           | 10.0          |\n",
      "| Total                        | 1.0           | 1.0           | 1.0           | 1.0           |\n",
      "| Jet selection                | 0.999 (0.999) | 0.967 (0.966) | 0.985 (0.972) | 0.999 (0.961) |\n",
      "| $R_{xy},z <$ 300 mm          | 0.999 (0.999) | 0.788 (0.787) | 0.442 (0.447) | 0.311 (0.317) |\n",
      "| $R_{DV} > 4$ mm              | 0.298 (0.296) | 0.772 (0.770) | 0.434 (0.438) | 0.304 (0.309) |\n",
      "| $d_0 > 2$ mm                 | 0.296 (0.296) | 0.767 (0.756) | 0.433 (0.437) | 0.304 (0.309) |\n",
      "| $nTracks >= 5$               | 0.296 (0.296) | 0.766 (0.755) | 0.433 (0.437) | 0.304 (0.309) |\n",
      "| mDV > 10 GeV                 | 0.296 (0.296) | 0.760 (0.747) | 0.433 (0.437) | 0.304 (0.309) |\n",
      "| final Acc*Eff                | 0.274 (0.278) | 0.140 (0.144) | 0.112 (0.115) | 0.090 (0.092) |\n"
     ]
    }
   ],
   "source": [
    "print(combData.to_markdown())"
   ]
  },
  {
   "cell_type": "markdown",
   "metadata": {},
   "source": [
    "### EWK Production"
   ]
  },
  {
   "cell_type": "code",
   "execution_count": 46,
   "metadata": {},
   "outputs": [],
   "source": [
    "# recastPD = None\n",
    "# allDFs = []\n",
    "# for f in glob.glob('./ewk_cutFlow/Events/run_*/*_cutflow.pcl'):\n",
    "#     allDFs.append(pd.read_pickle(f))\n",
    "# allDFs = sorted(allDFs, key = lambda df: df.T[['$m_{\\\\tilde \\chi_1^0} (GeV)$','$\\\\tau(\\\\tilde \\chi_1^0) (ns)$']].values[0].tolist())    \n",
    "\n",
    "# recastPD = pd.concat(allDFs,axis=1,ignore_index=True)\n",
    "# recastPD.to_pickle('ewk_cutFlow.pcl')\n",
    "recastPD = pd.read_pickle('ewk_cutFlow.pcl')"
   ]
  },
  {
   "cell_type": "code",
   "execution_count": 47,
   "metadata": {},
   "outputs": [],
   "source": [
    "atlasCutFlow = {}\n",
    "atlasCutFlow['$m_{\\\\tilde \\chi_1^0} (GeV)$'] = []\n",
    "atlasCutFlow['$\\\\tau(\\\\tilde \\chi_1^0) (ns)$'] = []\n",
    "atlasCutFlow.update({\"Total\" : [],\n",
    "            \"Jet selection\" : [],\n",
    "            \"$R_{xy},z <$ 300 mm\" : [],\n",
    "            \"$R_{DV} > 4$ mm\" : [],\n",
    "            \"$d_0 > 2$ mm\" : [],\n",
    "            \"$nTracks >= 5$\" : [],\n",
    "            \"mDV > 10 GeV\" : [],\n",
    "            \"final Acc*Eff\" : []\n",
    "            })\n"
   ]
  },
  {
   "cell_type": "code",
   "execution_count": 48,
   "metadata": {},
   "outputs": [],
   "source": [
    "with open('../ATLAS_data/HEPData-ins2628398-v1-csv/acceptance_trackless_ewk.csv', 'r') as f:\n",
    "    blocks = f.read().split('#: Luminosity [fb$^{-1}$],139')[1:]\n",
    "for b in blocks:\n",
    "    lines = [l for l in b.split('\\n') if l.strip()]\n",
    "    header_lines = [l for l in lines if l[0] == '#']\n",
    "    data_lines = [l for l in lines if l[0] != '#' and 'Selections,Acceptance' not in l]\n",
    "    mLLP = float([l for l in header_lines if '$m(\\\\tilde{\\chi}^0_1)$' in l][0].split(',')[1])\n",
    "    tau =  float([l for l in header_lines if '$\\\\tau$ [ns]' in l][0].split(',')[1])\n",
    "    data = [mLLP,tau,1.0]+[float(l.split(',')[-1]) for l in data_lines]+[0.0]\n",
    "    for ik,k in enumerate(atlasCutFlow):\n",
    "        atlasCutFlow[k].append(data[ik])\n",
    "    \n",
    "    "
   ]
  },
  {
   "cell_type": "code",
   "execution_count": 49,
   "metadata": {},
   "outputs": [],
   "source": [
    "atlasPD = pd.DataFrame.from_dict(atlasCutFlow, orient='index')\n",
    "atlasPD.loc['final Acc*Eff'] = [31.1/1e2,14.3/1e2,12.2/1e2,8.3/1e2]"
   ]
  },
  {
   "cell_type": "code",
   "execution_count": 50,
   "metadata": {},
   "outputs": [
    {
     "name": "stderr",
     "output_type": "stream",
     "text": [
      "/tmp/ipykernel_154820/2776082500.py:11: FutureWarning: Setting an item of incompatible dtype is deprecated and will raise in a future error of pandas. Value '0.502 (0.495)' has dtype incompatible with float64, please explicitly cast to a compatible dtype first.\n",
      "  combData.loc[index] = merged\n",
      "/tmp/ipykernel_154820/2776082500.py:11: FutureWarning: Setting an item of incompatible dtype is deprecated and will raise in a future error of pandas. Value '0.513 (0.501)' has dtype incompatible with float64, please explicitly cast to a compatible dtype first.\n",
      "  combData.loc[index] = merged\n",
      "/tmp/ipykernel_154820/2776082500.py:11: FutureWarning: Setting an item of incompatible dtype is deprecated and will raise in a future error of pandas. Value '0.984 (0.968)' has dtype incompatible with float64, please explicitly cast to a compatible dtype first.\n",
      "  combData.loc[index] = merged\n",
      "/tmp/ipykernel_154820/2776082500.py:11: FutureWarning: Setting an item of incompatible dtype is deprecated and will raise in a future error of pandas. Value '0.986 (0.985)' has dtype incompatible with float64, please explicitly cast to a compatible dtype first.\n",
      "  combData.loc[index] = merged\n"
     ]
    }
   ],
   "source": [
    "combData = recastPD.copy()\n",
    "for index in recastPD.index.values:\n",
    "    recastVals = recastPD.loc[index]\n",
    "    atlasVals = atlasPD.loc[index]\n",
    "    if index == 'Total' or '(GeV)' in index or '(ns)' in index:\n",
    "        combData.loc[index] = [float('%1.3f' %x) for x in recastVals]\n",
    "        continue\n",
    "    merged = ['%1.3f (%1.3f)' %x for x in zip(recastVals,atlasVals)]\n",
    "    # print(index)\n",
    "    # print(merged)\n",
    "    combData.loc[index] = merged"
   ]
  },
  {
   "cell_type": "code",
   "execution_count": 51,
   "metadata": {},
   "outputs": [
    {
     "name": "stdout",
     "output_type": "stream",
     "text": [
      "|                              | 0             | 1             | 2             | 3             |\n",
      "|:-----------------------------|:--------------|:--------------|:--------------|:--------------|\n",
      "| $m_{\\tilde \\chi_1^0} (GeV)$  | 500.0         | 500.0         | 1300.0        | 1300.0        |\n",
      "| $\\tau(\\tilde \\chi_1^0) (ns)$ | 0.1           | 1.0           | 0.1           | 1.0           |\n",
      "| Total                        | 1.0           | 1.0           | 1.0           | 1.0           |\n",
      "| Jet selection                | 0.502 (0.495) | 0.513 (0.501) | 0.984 (0.968) | 0.986 (0.985) |\n",
      "| $R_{xy},z <$ 300 mm          | 0.502 (0.495) | 0.416 (0.410) | 0.984 (0.968) | 0.924 (0.921) |\n",
      "| $R_{DV} > 4$ mm              | 0.465 (0.465) | 0.403 (0.398) | 0.865 (0.859) | 0.905 (0.899) |\n",
      "| $d_0 > 2$ mm                 | 0.464 (0.465) | 0.402 (0.398) | 0.863 (0.859) | 0.905 (0.899) |\n",
      "| $nTracks >= 5$               | 0.464 (0.465) | 0.402 (0.398) | 0.863 (0.859) | 0.905 (0.899) |\n",
      "| mDV > 10 GeV                 | 0.464 (0.465) | 0.402 (0.398) | 0.863 (0.859) | 0.905 (0.899) |\n",
      "| final Acc*Eff                | 0.288 (0.311) | 0.142 (0.143) | 0.104 (0.122) | 0.080 (0.083) |\n"
     ]
    }
   ],
   "source": [
    "print(combData.to_markdown())"
   ]
  },
  {
   "cell_type": "code",
   "execution_count": null,
   "metadata": {},
   "outputs": [],
   "source": []
  },
  {
   "cell_type": "code",
   "execution_count": null,
   "metadata": {},
   "outputs": [],
   "source": []
  }
 ],
 "metadata": {
  "kernelspec": {
   "display_name": "Python 3 (ipykernel)",
   "language": "python",
   "name": "python3"
  },
  "language_info": {
   "codemirror_mode": {
    "name": "ipython",
    "version": 3
   },
   "file_extension": ".py",
   "mimetype": "text/x-python",
   "name": "python",
   "nbconvert_exporter": "python",
   "pygments_lexer": "ipython3",
   "version": "3.10.12"
  }
 },
 "nbformat": 4,
 "nbformat_minor": 4
}
