{
 "cells": [
  {
   "cell_type": "code",
   "execution_count": 1,
   "metadata": {},
   "outputs": [],
   "source": [
    "import matplotlib.pyplot as plt\n",
    "import numpy as np\n",
    "import pandas as pd\n",
    "import seaborn as sns\n",
    "from scipy.interpolate import interp1d\n",
    "sns.set_style('ticks',{'font.family':'Times New Roman', 'font.serif':'Times New Roman'})\n",
    "sns.set_context('paper', font_scale=1.8)\n",
    "sns.set_palette(sns.color_palette(\"Paired\"))"
   ]
  },
  {
   "cell_type": "markdown",
   "metadata": {},
   "source": [
    "## Validation of efficiencies for a 2 TeV gluino and lifetime = 1ns"
   ]
  },
  {
   "cell_type": "markdown",
   "metadata": {},
   "source": [
    "#### ATLAS Values"
   ]
  },
  {
   "cell_type": "code",
   "execution_count": 2,
   "metadata": {},
   "outputs": [],
   "source": [
    "nobs = 0\n",
    "bg = 0.02\n",
    "bg_error = 0.02\n",
    "lum = 32.7\n",
    "xsecSRlimit = 0.0914421298569*1e-3 #(pb) From  statistics.upperLimit(0,0.02,0.02,32.7)\n",
    "#gluino xsection at mgluino=1400: 25.2977*fb, weight for 1k events = 0.8272\n",
    "atlasULs = np.genfromtxt('../ATLAS_data/HEPData-ins1630632-v2-csv/Table14.csv',\n",
    "                         delimiter=',',names=True,skip_header=10,skip_footer=65)"
   ]
  },
  {
   "cell_type": "code",
   "execution_count": 3,
   "metadata": {},
   "outputs": [
    {
     "data": {
      "text/html": [
       "<div>\n",
       "<style scoped>\n",
       "    .dataframe tbody tr th:only-of-type {\n",
       "        vertical-align: middle;\n",
       "    }\n",
       "\n",
       "    .dataframe tbody tr th {\n",
       "        vertical-align: top;\n",
       "    }\n",
       "\n",
       "    .dataframe thead th {\n",
       "        text-align: right;\n",
       "    }\n",
       "</style>\n",
       "<table border=\"1\" class=\"dataframe\">\n",
       "  <thead>\n",
       "    <tr style=\"text-align: right;\">\n",
       "      <th></th>\n",
       "      <th>6</th>\n",
       "      <th>17</th>\n",
       "    </tr>\n",
       "  </thead>\n",
       "  <tbody>\n",
       "    <tr>\n",
       "      <th>Luminosity (1/fb)</th>\n",
       "      <td>32.8</td>\n",
       "      <td>32.8</td>\n",
       "    </tr>\n",
       "    <tr>\n",
       "      <th>$N_s$</th>\n",
       "      <td>168.4</td>\n",
       "      <td>21.69</td>\n",
       "    </tr>\n",
       "    <tr>\n",
       "      <th>$N_s$ Err</th>\n",
       "      <td>1.301</td>\n",
       "      <td>0.3841</td>\n",
       "    </tr>\n",
       "    <tr>\n",
       "      <th>AccEff</th>\n",
       "      <td>0.3171</td>\n",
       "      <td>0.04062</td>\n",
       "    </tr>\n",
       "    <tr>\n",
       "      <th>AccEffErr</th>\n",
       "      <td>0.002449</td>\n",
       "      <td>0.000719</td>\n",
       "    </tr>\n",
       "    <tr>\n",
       "      <th>VertexEff Strategy</th>\n",
       "      <td>official</td>\n",
       "      <td>official</td>\n",
       "    </tr>\n",
       "    <tr>\n",
       "      <th>mDV cut</th>\n",
       "      <td>10.0</td>\n",
       "      <td>10.0</td>\n",
       "    </tr>\n",
       "    <tr>\n",
       "      <th>Total</th>\n",
       "      <td>(530.9, 1.0)</td>\n",
       "      <td>(534.0, 1.0)</td>\n",
       "    </tr>\n",
       "    <tr>\n",
       "      <th>Total Error</th>\n",
       "      <td>(3.099, 0.0)</td>\n",
       "      <td>(3.108, 0.0)</td>\n",
       "    </tr>\n",
       "    <tr>\n",
       "      <th>Jet+MET selection</th>\n",
       "      <td>(476.4, 0.8972)</td>\n",
       "      <td>(156.7, 0.2935)</td>\n",
       "    </tr>\n",
       "    <tr>\n",
       "      <th>Jet+MET selection Error</th>\n",
       "      <td>(2.935, 0.005529)</td>\n",
       "      <td>(1.684, 0.003153)</td>\n",
       "    </tr>\n",
       "    <tr>\n",
       "      <th>DV selection</th>\n",
       "      <td>(168.4, 0.3171)</td>\n",
       "      <td>(21.69, 0.04062)</td>\n",
       "    </tr>\n",
       "    <tr>\n",
       "      <th>DV selection Error</th>\n",
       "      <td>(1.301, 0.002449)</td>\n",
       "      <td>(0.3841, 0.0007193)</td>\n",
       "    </tr>\n",
       "    <tr>\n",
       "      <th>mLLP</th>\n",
       "      <td>1400.0</td>\n",
       "      <td>1400.0</td>\n",
       "    </tr>\n",
       "    <tr>\n",
       "      <th>mLSP</th>\n",
       "      <td>100.0</td>\n",
       "      <td>1300.0</td>\n",
       "    </tr>\n",
       "    <tr>\n",
       "      <th>width</th>\n",
       "      <td>0.0</td>\n",
       "      <td>0.0</td>\n",
       "    </tr>\n",
       "    <tr>\n",
       "      <th>tau_ns</th>\n",
       "      <td>1.0</td>\n",
       "      <td>1.0</td>\n",
       "    </tr>\n",
       "    <tr>\n",
       "      <th>Total MC Events</th>\n",
       "      <td>29353</td>\n",
       "      <td>29523</td>\n",
       "    </tr>\n",
       "    <tr>\n",
       "      <th>Total xsec (pb)</th>\n",
       "      <td>0.016187</td>\n",
       "      <td>0.016281</td>\n",
       "    </tr>\n",
       "  </tbody>\n",
       "</table>\n",
       "</div>"
      ],
      "text/plain": [
       "                                        6                    17\n",
       "Luminosity (1/fb)                     32.8                 32.8\n",
       "$N_s$                                168.4                21.69\n",
       "$N_s$ Err                            1.301               0.3841\n",
       "AccEff                              0.3171              0.04062\n",
       "AccEffErr                         0.002449             0.000719\n",
       "VertexEff Strategy                official             official\n",
       "mDV cut                               10.0                 10.0\n",
       "Total                         (530.9, 1.0)         (534.0, 1.0)\n",
       "Total Error                   (3.099, 0.0)         (3.108, 0.0)\n",
       "Jet+MET selection          (476.4, 0.8972)      (156.7, 0.2935)\n",
       "Jet+MET selection Error  (2.935, 0.005529)    (1.684, 0.003153)\n",
       "DV selection               (168.4, 0.3171)     (21.69, 0.04062)\n",
       "DV selection Error       (1.301, 0.002449)  (0.3841, 0.0007193)\n",
       "mLLP                                1400.0               1400.0\n",
       "mLSP                                 100.0               1300.0\n",
       "width                                  0.0                  0.0\n",
       "tau_ns                                 1.0                  1.0\n",
       "Total MC Events                      29353                29523\n",
       "Total xsec (pb)                   0.016187             0.016281"
      ]
     },
     "execution_count": 3,
     "metadata": {},
     "output_type": "execute_result"
    }
   ],
   "source": [
    "recastData = pd.read_pickle('./gluino_all.pcl')\n",
    "# Restrict to mLSP = 100\n",
    "recastData = recastData[(recastData['mLLP'] == 2000.0)]\n",
    "recastData = recastData[np.round(recastData['tau_ns']) == 1.0]"
   ]
  },
  {
   "cell_type": "code",
   "execution_count": 36,
   "metadata": {},
   "outputs": [],
   "source": [
    "# Add sigma_UL\n",
    "recastData['UL'] = xsecSRlimit/recastData['AccEff']"
   ]
  },
  {
   "cell_type": "code",
   "execution_count": 37,
   "metadata": {},
   "outputs": [
    {
     "name": "stdout",
     "output_type": "stream",
     "text": [
      "[[1.00000000e+02 1.07697406e+00]\n",
      " [2.00000000e+02 1.07356274e+00]\n",
      " [4.00000000e+02 1.10262557e+00]\n",
      " [6.00000000e+02 1.13560939e+00]\n",
      " [8.00000000e+02 1.12650644e+00]\n",
      " [1.00000000e+03 1.12595520e+00]\n",
      " [1.20000000e+03 1.16491386e+00]\n",
      " [1.40000000e+03 1.16610944e+00]\n",
      " [1.60000000e+03 1.16750088e+00]\n",
      " [1.80000000e+03 1.02716079e+00]\n",
      " [1.87000000e+03 8.76538120e-01]\n",
      " [1.90000000e+03 5.99148733e-01]]\n"
     ]
    }
   ],
   "source": [
    "#Compute ratios\n",
    "ratio = []\n",
    "atlasULF = interp1d(atlasULs['Neutralino1_mass_GeV'],atlasULs['Observed_limit_pb'],fill_value='extrapolate',bounds_error=False)\n",
    "for irow,row in recastData.iterrows():\n",
    "    mLSP = row['mLSP']    \n",
    "    ratio.append([mLSP,row['UL']/atlasULF(mLSP)])\n",
    "ratio = np.array(ratio)\n",
    "print(ratio)"
   ]
  },
  {
   "cell_type": "markdown",
   "metadata": {},
   "source": [
    "#### Compare values"
   ]
  },
  {
   "cell_type": "code",
   "execution_count": 38,
   "metadata": {},
   "outputs": [
    {
     "data": {
      "image/png": "[encoded data removed]",
      "text/plain": [
       "<Figure size 800x600 with 2 Axes>"
      ]
     },
     "metadata": {},
     "output_type": "display_data"
    }
   ],
   "source": [
    "#Define subplots and their properties:\n",
    "f, axarr = plt.subplots(2,sharex=True, gridspec_kw = {'height_ratios':[3, 1]},figsize=(8,6))\n",
    "plt.subplots_adjust(left=0.12, bottom=0.12, right=0.97, top=None, wspace=None, hspace=0.1)\n",
    "\n",
    "#Plot curves\n",
    "axarr[0].plot(atlasULs['Neutralino1_mass_GeV'],atlasULs['Observed_limit_pb'],'o-',color='black',linewidth=3.0,label='ATLAS')\n",
    "axarr[0].plot(recastData['mLSP'],recastData['UL'],'o--',color='red',linewidth=3.0,label='recast')\n",
    "axarr[0].set_ylabel(r'$\\sigma_{UL}$ (pb)', fontsize=20)\n",
    "axarr[0].set_yscale('log')\n",
    "# axarr[0].set_xscale('log')\n",
    "axarr[0].tick_params(labelsize=20)\n",
    "\n",
    "#Plot ratio\n",
    "axarr[1].plot(ratio[:,0],ratio[:,1],color='red',linewidth=3.0)\n",
    "axarr[1].axhline(y=1.)\n",
    "axarr[1].set_ylabel('Ratio', fontsize=18) #Y-label\n",
    "# axarr[1].set_yscale('log')\n",
    "axarr[1].set_xlabel(r'$m_{LSP}$ (GeV)', fontsize=20)\n",
    "axarr[1].set_ylim(0.5,1.5)\n",
    "axarr[1].set_yticks([0.5,0.75,1.0,1.25,1.5])\n",
    "axarr[1].grid(True)\n",
    "axarr[1].tick_params(labelsize=20)\n",
    "axarr[0].legend(fontsize=18)\n",
    "f.tight_layout()\n",
    "plt.show()"
   ]
  },
  {
   "cell_type": "code",
   "execution_count": 39,
   "metadata": {},
   "outputs": [],
   "source": [
    "f.savefig('validationPlot_mgluino2000_tau1ns.png')\n",
    "# f.savefig('validationPlot_mgluino2000_tau1ns.pdf')"
   ]
  },
  {
   "cell_type": "code",
   "execution_count": null,
   "metadata": {},
   "outputs": [],
   "source": []
  }
 ],
 "metadata": {
  "kernelspec": {
   "display_name": "Python 3",
   "language": "python",
   "name": "python3"
  },
  "language_info": {
   "codemirror_mode": {
    "name": "ipython",
    "version": 3
   },
   "file_extension": ".py",
   "mimetype": "text/x-python",
   "name": "python",
   "nbconvert_exporter": "python",
   "pygments_lexer": "ipython3",
   "version": "3.10.12"
  }
 },
 "nbformat": 4,
 "nbformat_minor": 2
}
