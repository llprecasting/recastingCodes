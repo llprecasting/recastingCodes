{
 "cells": [
  {
   "cell_type": "code",
   "execution_count": 1,
   "metadata": {},
   "outputs": [],
   "source": [
    "import pandas as pd"
   ]
  },
  {
   "cell_type": "code",
   "execution_count": 2,
   "metadata": {},
   "outputs": [],
   "source": [
    "data = pd.read_pickle('./pp2GoGo_strong/Events/run_01/strong_2000_850_tau_0.01_atlas_2018_42.pcl')"
   ]
  },
  {
   "cell_type": "code",
   "execution_count": 3,
   "metadata": {},
   "outputs": [
    {
     "data": {
      "text/html": [
       "<div>\n",
       "<style scoped>\n",
       "    .dataframe tbody tr th:only-of-type {\n",
       "        vertical-align: middle;\n",
       "    }\n",
       "\n",
       "    .dataframe tbody tr th {\n",
       "        vertical-align: top;\n",
       "    }\n",
       "\n",
       "    .dataframe thead th {\n",
       "        text-align: right;\n",
       "    }\n",
       "</style>\n",
       "<table border=\"1\" class=\"dataframe\">\n",
       "  <thead>\n",
       "    <tr style=\"text-align: right;\">\n",
       "      <th></th>\n",
       "      <th>0</th>\n",
       "      <th>1</th>\n",
       "    </tr>\n",
       "  </thead>\n",
       "  <tbody>\n",
       "    <tr>\n",
       "      <th>Luminosity (1/fb)</th>\n",
       "      <td>139.0</td>\n",
       "      <td>139.0</td>\n",
       "    </tr>\n",
       "    <tr>\n",
       "      <th>SR</th>\n",
       "      <td>HighPT</td>\n",
       "      <td>Trackless</td>\n",
       "    </tr>\n",
       "    <tr>\n",
       "      <th>$N_s$</th>\n",
       "      <td>0.3383</td>\n",
       "      <td>0.01366</td>\n",
       "    </tr>\n",
       "    <tr>\n",
       "      <th>Total</th>\n",
       "      <td>(72.57, 1.0)</td>\n",
       "      <td>(72.57, 1.0)</td>\n",
       "    </tr>\n",
       "    <tr>\n",
       "      <th>Jet selection</th>\n",
       "      <td>(72.57, 1.0)</td>\n",
       "      <td>(72.57, 1.0)</td>\n",
       "    </tr>\n",
       "    <tr>\n",
       "      <th>DV selection</th>\n",
       "      <td>(0.3383, 0.004661)</td>\n",
       "      <td>(0.01366, 0.0001883)</td>\n",
       "    </tr>\n",
       "    <tr>\n",
       "      <th>mLLP</th>\n",
       "      <td>850.0</td>\n",
       "      <td>850.0</td>\n",
       "    </tr>\n",
       "    <tr>\n",
       "      <th>mLSP</th>\n",
       "      <td>2000.0</td>\n",
       "      <td>2000.0</td>\n",
       "    </tr>\n",
       "    <tr>\n",
       "      <th>width</th>\n",
       "      <td>0.0</td>\n",
       "      <td>0.0</td>\n",
       "    </tr>\n",
       "    <tr>\n",
       "      <th>tau_ns</th>\n",
       "      <td>0.01</td>\n",
       "      <td>0.01</td>\n",
       "    </tr>\n",
       "    <tr>\n",
       "      <th>Total MC Events</th>\n",
       "      <td>1000</td>\n",
       "      <td>1000</td>\n",
       "    </tr>\n",
       "    <tr>\n",
       "      <th>Total xsec (pb)</th>\n",
       "      <td>0.000522</td>\n",
       "      <td>0.000522</td>\n",
       "    </tr>\n",
       "  </tbody>\n",
       "</table>\n",
       "</div>"
      ],
      "text/plain": [
       "                                    0                     1\n",
       "Luminosity (1/fb)               139.0                 139.0\n",
       "SR                             HighPT             Trackless\n",
       "$N_s$                          0.3383               0.01366\n",
       "Total                    (72.57, 1.0)          (72.57, 1.0)\n",
       "Jet selection            (72.57, 1.0)          (72.57, 1.0)\n",
       "DV selection       (0.3383, 0.004661)  (0.01366, 0.0001883)\n",
       "mLLP                            850.0                 850.0\n",
       "mLSP                           2000.0                2000.0\n",
       "width                             0.0                   0.0\n",
       "tau_ns                           0.01                  0.01\n",
       "Total MC Events                  1000                  1000\n",
       "Total xsec (pb)              0.000522              0.000522"
      ]
     },
     "execution_count": 3,
     "metadata": {},
     "output_type": "execute_result"
    }
   ],
   "source": [
    "data.T"
   ]
  },
  {
   "cell_type": "code",
   "execution_count": null,
   "metadata": {},
   "outputs": [],
   "source": []
  }
 ],
 "metadata": {
  "kernelspec": {
   "display_name": "Python 3 (ipykernel)",
   "language": "python",
   "name": "python3"
  },
  "language_info": {
   "codemirror_mode": {
    "name": "ipython",
    "version": 3
   },
   "file_extension": ".py",
   "mimetype": "text/x-python",
   "name": "python",
   "nbconvert_exporter": "python",
   "pygments_lexer": "ipython3",
   "version": "3.10.12"
  }
 },
 "nbformat": 4,
 "nbformat_minor": 4
}
