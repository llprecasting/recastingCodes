{
 "cells": [
  {
   "cell_type": "code",
   "execution_count": 1,
   "metadata": {},
   "outputs": [
    {
     "name": "stdout",
     "output_type": "stream",
     "text": [
      "Welcome to JupyROOT 6.30/02\n"
     ]
    },
    {
     "data": {
      "text/plain": [
       "True"
      ]
     },
     "execution_count": 1,
     "metadata": {},
     "output_type": "execute_result"
    }
   ],
   "source": [
    "import os,glob\n",
    "import numpy as np\n",
    "import pandas as pd\n",
    "import glob\n",
    "import pyslha\n",
    "import time\n",
    "import progressbar as P\n",
    "from atlas_susy_2018_13_Recast import getLLPs, getDisplacedJets, getJets\n",
    "import matplotlib.pyplot as plt\n",
    "import os,glob\n",
    "import numpy as np\n",
    "import seaborn as sns\n",
    "from scipy.special import kn,zetac\n",
    "import pyslha\n",
    "sns.set() #Set style\n",
    "sns.set_style('ticks',{'font.family':'serif', 'font.serif':'Times New Roman'})\n",
    "sns.set_context('paper', font_scale=1.8)\n",
    "sns.set_palette(sns.color_palette(\"Paired\"))\n",
    "\n",
    "delphesDir = os.path.abspath(\"./DelphesLLP\")\n",
    "os.environ['ROOT_INCLUDE_PATH'] = os.path.join(delphesDir,\"external\")\n",
    "\n",
    "import ROOT\n",
    "\n",
    "ROOT.gSystem.Load(os.path.join(delphesDir,\"libDelphes.so\"))\n",
    "\n",
    "ROOT.gInterpreter.Declare('#include \"classes/SortableObject.h\"')\n",
    "ROOT.gInterpreter.Declare('#include \"classes/DelphesClasses.h\"')\n",
    "ROOT.gInterpreter.Declare('#include \"external/ExRootAnalysis/ExRootTreeReader.h\"')\n"
   ]
  },
  {
   "cell_type": "code",
   "execution_count": 2,
   "metadata": {},
   "outputs": [],
   "source": [
    "inputFile = './pp2GoGo/Events/run_07/gluino_tau_1_delphes_events.root'"
   ]
  },
  {
   "cell_type": "code",
   "execution_count": 3,
   "metadata": {},
   "outputs": [],
   "source": [
    "f = ROOT.TFile(inputFile,'read')\n",
    "tree = f.Get(\"Delphes\")\n",
    "nevts = tree.GetEntries()\n",
    "\n",
    "wHighPT = 0.0\n",
    "wTrackless = 0.0\n",
    "for ievt in range(nevts):    \n",
    "\n",
    "    tree.GetEntry(ievt)\n",
    "    llps = getLLPs(tree.llps,tree.llpDaughters)\n",
    "    jets = getJets(tree.GenJet,pTmin=25.,etaMax=5.0)\n",
    "    jetsDisp = getDisplacedJets(jets,llps)\n",
    "    \n",
    "    # Event acceptance:\n",
    "    highPT_acc = acceptance(jets,jetsDisp,sr='HighPT')\n",
    "    trackless_acc = acceptance(jets,jetsDisp,sr='Trackless')                        \n",
    "    if (not highPT_acc) and (not trackless_acc):\n",
    "        continue\n",
    "    \n",
    "    # Event efficiency\n",
    "    highPT_eff = eventEff(jets,llpCandidates,sr='HighPT')\n",
    "    trackless_eff = eventEff(jets,llpCandidates,sr='Trackless')\n",
    "    \n",
    "    # Vertex acceptances:\n",
    "    v_acc = np.array([vertexAcc(llp) for llp in llpCandidates])\n",
    "    \n",
    "    # Vertex efficiencies:\n",
    "    v_eff = np.array([vertexEff(llp) for llp in llpCandidates])\n",
    "    \n",
    "    wvertex = 1.0-np.prod(1.0-v_acc*v_eff)\n",
    "    \n",
    "    # Add to the total weight in each SR:\n",
    "    wHighPT += weight*highPT_acc*highPT_eff*wvertex\n",
    "    wTrackless += weight*highPT_acc*highPT_eff*wvertex\n",
    "    \n",
    "    \n",
    "return {'highPT (pb)' : wHighPT, 'trackless (pb)' : wTrackless}\n",
    "    \n"
   ]
  },
  {
   "cell_type": "code",
   "execution_count": null,
   "metadata": {},
   "outputs": [],
   "source": []
  }
 ],
 "metadata": {
  "kernelspec": {
   "display_name": "Python 3 (ipykernel)",
   "language": "python",
   "name": "python3"
  },
  "language_info": {
   "codemirror_mode": {
    "name": "ipython",
    "version": 3
   },
   "file_extension": ".py",
   "mimetype": "text/x-python",
   "name": "python",
   "nbconvert_exporter": "python",
   "pygments_lexer": "ipython3",
   "version": "3.10.12"
  }
 },
 "nbformat": 4,
 "nbformat_minor": 2
}
