{
 "cells": [
  {
   "cell_type": "code",
   "execution_count": 1,
   "metadata": {},
   "outputs": [
    {
     "name": "stdout",
     "output_type": "stream",
     "text": [
      "Welcome to JupyROOT 6.28/06\n"
     ]
    },
    {
     "data": {
      "text/plain": [
       "True"
      ]
     },
     "execution_count": 1,
     "metadata": {},
     "output_type": "execute_result"
    }
   ],
   "source": [
    "import os,glob\n",
    "import numpy as np\n",
    "import pandas as pd\n",
    "import glob\n",
    "import pyslha\n",
    "import time\n",
    "import progressbar as P\n",
    "from atlas_susy_2018_13_Recast import getLLPs, getDisplacedJets\n",
    "import matplotlib.pyplot as plt\n",
    "import os,glob\n",
    "import numpy as np\n",
    "import seaborn as sns\n",
    "from scipy.special import kn,zetac\n",
    "import pyslha\n",
    "sns.set() #Set style\n",
    "sns.set_style('ticks',{'font.family':'serif', 'font.serif':'Times New Roman'})\n",
    "sns.set_context('paper', font_scale=1.8)\n",
    "sns.set_palette(sns.color_palette(\"Paired\"))\n",
    "\n",
    "delphesDir = os.path.abspath(\"./DelphesLLP\")\n",
    "os.environ['ROOT_INCLUDE_PATH'] = os.path.join(delphesDir,\"external\")\n",
    "\n",
    "import ROOT\n",
    "\n",
    "ROOT.gSystem.Load(os.path.join(delphesDir,\"libDelphes.so\"))\n",
    "\n",
    "ROOT.gInterpreter.Declare('#include \"classes/SortableObject.h\"')\n",
    "ROOT.gInterpreter.Declare('#include \"classes/DelphesClasses.h\"')\n",
    "ROOT.gInterpreter.Declare('#include \"external/ExRootAnalysis/ExRootTreeReader.h\"')\n"
   ]
  },
  {
   "cell_type": "code",
   "execution_count": 2,
   "metadata": {},
   "outputs": [],
   "source": [
    "inputFile = './pp2GoGo_strong/Events/run_01/strong_2000_850_tau_0.01_delphes_events.root'"
   ]
  },
  {
   "cell_type": "code",
   "execution_count": 3,
   "metadata": {},
   "outputs": [],
   "source": [
    "f = ROOT.TFile(inputFile,'read')\n",
    "tree = f.Get(\"Delphes\")\n",
    "nevts = tree.GetEntries()\n",
    "\n",
    "l_dec = []\n",
    "r_dec = []\n",
    "beta = []\n",
    "gbeta  = []\n",
    "mDV = []\n",
    "nTracks = []\n",
    "for ievt in range(nevts):    \n",
    "\n",
    "    tree.GetEntry(ievt)\n",
    "    llpCandidates = getLLPs(tree.bsm,tree.bsmDirectDaughters,tree.bsmFinalDaughters)\n",
    "    for llp in llpCandidates:\n",
    "        l_dec.append(np.sqrt(llp.Xd**2 + llp.Yd**2 + llp.Zd**2))\n",
    "        r_dec.append(np.sqrt(llp.Xd**2 + llp.Yd**2))\n",
    "        beta.append(llp.beta)\n",
    "        gbeta.append(llp.gbeta)\n",
    "        mDV.append(llp.mDV)\n",
    "        nTracks.append(llp.nTracks)\n",
    "    break\n"
   ]
  },
  {
   "cell_type": "code",
   "execution_count": 4,
   "metadata": {},
   "outputs": [
    {
     "name": "stdout",
     "output_type": "stream",
     "text": [
      "-321 1 66.20381927490234 -1 -1\n"
     ]
    }
   ],
   "source": [
    "n = tree.bsmDirectDaughters.GetEntries()\n",
    "for i in range(n):\n",
    "    d = tree.bsmDirectDaughters.At(i)\n",
    "    if abs(d.E-66.2038192) < 1e-4:\n",
    "        print(d.PID,d.Status,d.E,d.M1,d.M2)"
   ]
  },
  {
   "cell_type": "code",
   "execution_count": 5,
   "metadata": {},
   "outputs": [
    {
     "name": "stdout",
     "output_type": "stream",
     "text": [
      "-321 1 66.20381927490234 753 756 -1 -1\n"
     ]
    }
   ],
   "source": [
    "n = tree.Particle.GetEntries()\n",
    "for i in range(n):\n",
    "    d = tree.Particle.At(i)\n",
    "    if d.PID != -321:\n",
    "        continue\n",
    "    if abs(d.E-66.2038192) < 1e-4:\n",
    "        print(d.PID,d.Status,d.E,d.M1,d.M2,d.D1,d.D2)"
   ]
  },
  {
   "cell_type": "code",
   "execution_count": 4,
   "metadata": {},
   "outputs": [
    {
     "name": "stdout",
     "output_type": "stream",
     "text": [
      "1000023\n"
     ]
    }
   ],
   "source": [
    "llp = llpCandidates[0]\n",
    "print(llp.PID)"
   ]
  },
  {
   "cell_type": "code",
   "execution_count": 4,
   "metadata": {},
   "outputs": [
    {
     "name": "stdout",
     "output_type": "stream",
     "text": [
      "405\n"
     ]
    }
   ],
   "source": [
    "print(len(llp._selectedDecays))"
   ]
  },
  {
   "cell_type": "code",
   "execution_count": 8,
   "metadata": {},
   "outputs": [
    {
     "name": "stdout",
     "output_type": "stream",
     "text": [
      "[-3.47262248e-05  5.53857535e-06 -1.17358286e-05  9.77478339e-06]\n"
     ]
    }
   ],
   "source": [
    "# Consistency checks:\n",
    "pTot = np.array([llp.E,llp.Px,llp.Py,llp.Pz])\n",
    "pNorm = np.linalg.norm(pTot)\n",
    "for d in llp.finalDaughters:                \n",
    "    pTot -= np.array([d.E,d.Px,d.Py,d.Pz])\n",
    "    # print(d.PID,pTot)\n",
    "print(pTot)"
   ]
  },
  {
   "cell_type": "code",
   "execution_count": 6,
   "metadata": {},
   "outputs": [
    {
     "data": {
      "text/plain": [
       "536.2083881849927"
      ]
     },
     "execution_count": 6,
     "metadata": {},
     "output_type": "execute_result"
    }
   ],
   "source": [
    "llp.mDV"
   ]
  },
  {
   "cell_type": "code",
   "execution_count": 7,
   "metadata": {},
   "outputs": [
    {
     "name": "stdout",
     "output_type": "stream",
     "text": [
      "321 1 92.95435333251953\n",
      "-321 1 66.20381927490234\n",
      "-211 1 62.65273666381836\n",
      "211 1 66.33820343017578\n",
      "[ 632.71822815 -186.39606993 -267.61104745  -80.33525421]\n",
      "536.2083881849927\n"
     ]
    }
   ],
   "source": [
    "pTot = np.zeros(4)\n",
    "for d in llp._selectedDecays:\n",
    "    if d.Charge == 0: continue\n",
    "    p = np.array([0.,d.Px,d.Py,d.Pz])\n",
    "    mpion = 0.140\n",
    "    p[0] = np.sqrt(mpion**2 + np.dot(p[1:],p[1:]))\n",
    "    if p[0] > 5e1:\n",
    "        print(d.PID,d.Status,d.E)\n",
    "    pTot = pTot + p\n",
    "    \n",
    "mDV = np.sqrt(pTot[0]**2 - np.dot(pTot[1:],pTot[1:]))\n",
    "print(pTot)\n",
    "print(mDV)"
   ]
  },
  {
   "cell_type": "code",
   "execution_count": 18,
   "metadata": {},
   "outputs": [
    {
     "name": "stdout",
     "output_type": "stream",
     "text": [
      "-3 23\n",
      "-2 23\n",
      "-1 23\n",
      "[1979.77287693 -605.10147095 1447.94355965  856.922966  ]\n",
      "849.9972544182796\n"
     ]
    }
   ],
   "source": [
    "pTot = np.zeros(4)\n",
    "for d in llp.directDaughters:\n",
    "    # if d.Charge == 0: continue\n",
    "    p = np.array([0.,d.Px,d.Py,d.Pz])\n",
    "    mpion = 0.140\n",
    "    p[0] = np.sqrt(mpion**2 + np.dot(p[1:],p[1:]))\n",
    "    if p[0] > 1e2:\n",
    "        print(d.PID,d.Status)\n",
    "    pTot = pTot + p\n",
    "    \n",
    "mDV = np.sqrt(pTot[0]**2 - np.dot(pTot[1:],pTot[1:]))\n",
    "print(pTot)\n",
    "print(mDV)"
   ]
  },
  {
   "cell_type": "code",
   "execution_count": null,
   "metadata": {},
   "outputs": [],
   "source": []
  },
  {
   "cell_type": "code",
   "execution_count": 5,
   "metadata": {},
   "outputs": [],
   "source": [
    "l_dec = np.array(l_dec)\n",
    "r_dec = np.array(r_dec)\n",
    "beta = np.array(beta)\n",
    "gbeta = np.array(gbeta)\n",
    "mDV = np.array(mDV)\n",
    "nTracks = np.array(nTracks)"
   ]
  },
  {
   "cell_type": "code",
   "execution_count": 8,
   "metadata": {},
   "outputs": [
    {
     "data": {
      "image/png": "[encoded data removed]",
      "text/plain": [
       "<Figure size 640x480 with 1 Axes>"
      ]
     },
     "metadata": {},
     "output_type": "display_data"
    }
   ],
   "source": [
    "plt.hist(mDV,bins=100,density=True)\n",
    "plt.grid()\n",
    "plt.show()"
   ]
  },
  {
   "cell_type": "code",
   "execution_count": 9,
   "metadata": {},
   "outputs": [
    {
     "data": {
      "image/png": "[encoded data removed]",
      "text/plain": [
       "<Figure size 640x480 with 1 Axes>"
      ]
     },
     "metadata": {},
     "output_type": "display_data"
    }
   ],
   "source": [
    "plt.hist(nTracks,bins=100,density=True)\n",
    "plt.grid()\n",
    "plt.show()"
   ]
  },
  {
   "cell_type": "code",
   "execution_count": null,
   "metadata": {},
   "outputs": [],
   "source": []
  },
  {
   "cell_type": "code",
   "execution_count": null,
   "metadata": {},
   "outputs": [],
   "source": []
  },
  {
   "cell_type": "code",
   "execution_count": 76,
   "metadata": {},
   "outputs": [],
   "source": [
    "l0 = l_dec/gbeta"
   ]
  },
  {
   "cell_type": "code",
   "execution_count": 80,
   "metadata": {},
   "outputs": [],
   "source": [
    "bins=np.linspace(0.,50,11)"
   ]
  },
  {
   "cell_type": "code",
   "execution_count": 81,
   "metadata": {},
   "outputs": [],
   "source": [
    "def fDecayedAt(l0_mm,dl0_mm,tau_ns):\n",
    "    c = 3e8*1e3 # (c in mm/s)\n",
    "    tau = tau_ns*1e-9 # (proper lifetime in s)\n",
    "    fDec = (dl0_mm/(c*tau))*np.exp(-l0_mm/(c*tau))\n",
    "    return fDec # Fraction of particles which have decayed between l0 and l0+dl0"
   ]
  },
  {
   "cell_type": "code",
   "execution_count": 82,
   "metadata": {},
   "outputs": [],
   "source": [
    "dl0_mm = bins[1]-bins[0]\n",
    "tau_ns = 0.1\n",
    "f = np.array([fDecayedAt(l,dl0_mm,tau_ns) for l in bins])"
   ]
  },
  {
   "cell_type": "code",
   "execution_count": 83,
   "metadata": {},
   "outputs": [
    {
     "data": {
      "image/png": "[encoded data removed]",
      "text/plain": [
       "<Figure size 640x480 with 1 Axes>"
      ]
     },
     "metadata": {},
     "output_type": "display_data"
    }
   ],
   "source": [
    "plt.hist(l0,bins=bins,density=False,histtype='step',weights=[1./len(l0)]*len(l0))\n",
    "plt.plot(bins,f)\n",
    "plt.grid()\n",
    "plt.show()\n"
   ]
  },
  {
   "cell_type": "code",
   "execution_count": 52,
   "metadata": {},
   "outputs": [
    {
     "name": "stdout",
     "output_type": "stream",
     "text": [
      "0.621316422845395\n"
     ]
    }
   ],
   "source": [
    "gb_mean = np.mean(gbeta)\n",
    "print(gb_mean)"
   ]
  },
  {
   "cell_type": "code",
   "execution_count": 53,
   "metadata": {},
   "outputs": [
    {
     "data": {
      "text/plain": [
       "0.11695323174516004"
      ]
     },
     "execution_count": 53,
     "metadata": {},
     "output_type": "execute_result"
    }
   ],
   "source": [
    "Rmin = 4.0\n",
    "c = 3e8*1e3 # (c in mm/s)\n",
    "tau = tau_ns*1e-9 # (proper lifetime in s)\n",
    "np.exp(-Rmin/(gb_mean*c*tau))"
   ]
  },
  {
   "cell_type": "code",
   "execution_count": 54,
   "metadata": {},
   "outputs": [
    {
     "data": {
      "text/plain": [
       "0.12082249349609765"
      ]
     },
     "execution_count": 54,
     "metadata": {},
     "output_type": "execute_result"
    }
   ],
   "source": [
    "len([l for l in l_dec if l > 4.0])/len(l_dec)"
   ]
  },
  {
   "cell_type": "code",
   "execution_count": 57,
   "metadata": {},
   "outputs": [
    {
     "data": {
      "text/plain": [
       "0.051280768461076646"
      ]
     },
     "execution_count": 57,
     "metadata": {},
     "output_type": "execute_result"
    }
   ],
   "source": [
    "len([l for l in r_dec if l > 4.0])/len(r_dec)"
   ]
  },
  {
   "cell_type": "code",
   "execution_count": 59,
   "metadata": {},
   "outputs": [
    {
     "name": "stdout",
     "output_type": "stream",
     "text": [
      "19988\n"
     ]
    }
   ],
   "source": [
    "print(len(r_dec))"
   ]
  },
  {
   "cell_type": "code",
   "execution_count": 85,
   "metadata": {},
   "outputs": [
    {
     "data": {
      "text/plain": [
       "0.09750000000000003"
      ]
     },
     "execution_count": 85,
     "metadata": {},
     "output_type": "execute_result"
    }
   ],
   "source": [
    "1-(1.-0.05)**2"
   ]
  },
  {
   "cell_type": "code",
   "execution_count": null,
   "metadata": {},
   "outputs": [],
   "source": []
  }
 ],
 "metadata": {
  "kernelspec": {
   "display_name": "Python 3 (ipykernel)",
   "language": "python",
   "name": "python3"
  },
  "language_info": {
   "codemirror_mode": {
    "name": "ipython",
    "version": 3
   },
   "file_extension": ".py",
   "mimetype": "text/x-python",
   "name": "python",
   "nbconvert_exporter": "python",
   "pygments_lexer": "ipython3",
   "version": "3.10.12"
  }
 },
 "nbformat": 4,
 "nbformat_minor": 4
}
