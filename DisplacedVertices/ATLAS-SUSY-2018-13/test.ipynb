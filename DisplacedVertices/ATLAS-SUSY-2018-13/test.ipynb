{
 "cells": [
  {
   "cell_type": "code",
   "execution_count": 1,
   "metadata": {},
   "outputs": [
    {
     "name": "stdout",
     "output_type": "stream",
     "text": [
      "Welcome to JupyROOT 6.30/02\n"
     ]
    },
    {
     "data": {
      "text/plain": [
       "True"
      ]
     },
     "execution_count": 1,
     "metadata": {},
     "output_type": "execute_result"
    }
   ],
   "source": [
    "import os,glob\n",
    "import numpy as np\n",
    "import pandas as pd\n",
    "import glob\n",
    "import pyslha\n",
    "import time\n",
    "import progressbar as P\n",
    "from atlas_susy_2018_13_Recast import getLLPCandidates, getDisplacedJets\n",
    "import matplotlib.pyplot as plt\n",
    "import os,glob\n",
    "import numpy as np\n",
    "import seaborn as sns\n",
    "from scipy.special import kn,zetac\n",
    "import pyslha\n",
    "sns.set() #Set style\n",
    "sns.set_style('ticks',{'font.family':'serif', 'font.serif':'Times New Roman'})\n",
    "sns.set_context('paper', font_scale=1.8)\n",
    "sns.set_palette(sns.color_palette(\"Paired\"))\n",
    "\n",
    "delphesDir = os.path.abspath(\"./DelphesLLP\")\n",
    "os.environ['ROOT_INCLUDE_PATH'] = os.path.join(delphesDir,\"external\")\n",
    "\n",
    "import ROOT\n",
    "\n",
    "ROOT.gSystem.Load(os.path.join(delphesDir,\"libDelphes.so\"))\n",
    "\n",
    "ROOT.gInterpreter.Declare('#include \"classes/SortableObject.h\"')\n",
    "ROOT.gInterpreter.Declare('#include \"classes/DelphesClasses.h\"')\n",
    "ROOT.gInterpreter.Declare('#include \"external/ExRootAnalysis/ExRootTreeReader.h\"')\n"
   ]
  },
  {
   "cell_type": "code",
   "execution_count": 2,
   "metadata": {},
   "outputs": [],
   "source": [
    "inputFile = './pp2GoGo/Events/run_07/gluino_tau_1_delphes_events.root'"
   ]
  },
  {
   "cell_type": "code",
   "execution_count": 3,
   "metadata": {},
   "outputs": [],
   "source": [
    "f = ROOT.TFile(inputFile,'read')\n",
    "tree = f.Get(\"Delphes\")\n",
    "nevts = tree.GetEntries()\n",
    "\n",
    "r_dec = []\n",
    "for ievt in range(nevts):    \n",
    "\n",
    "    tree.GetEntry(ievt)\n",
    "    llpCandidates = getLLPCandidates(tree.llps,tree.llpDaughters)\n",
    "    for llp in llpCandidates:\n",
    "        r_dec.append(llp.r_decay)\n",
    "    \n"
   ]
  },
  {
   "cell_type": "code",
   "execution_count": 4,
   "metadata": {},
   "outputs": [
    {
     "data": {
      "image/png": "[encoded data removed]",
      "text/plain": [
       "<Figure size 432x288 with 1 Axes>"
      ]
     },
     "metadata": {},
     "output_type": "display_data"
    }
   ],
   "source": [
    "plt.hist(r_dec,bins=np.linspace(0.,100,20))\n",
    "# plt.yscale('log')\n",
    "# plt.xlim(0.,100.)\n",
    "plt.show()\n"
   ]
  },
  {
   "cell_type": "code",
   "execution_count": 5,
   "metadata": {},
   "outputs": [
    {
     "name": "stdout",
     "output_type": "stream",
     "text": [
      "d= 1615\n",
      "1000021 0 664 -73.08136749267578 1733.0087890625 -73.08136749267578\n",
      "   -1 23 0 0\n",
      "   1 23 0 0\n",
      "   1000022 1 0 0\n",
      "   -211 1 -1 -1\n",
      "   211 1 -1 -1\n",
      "1000021 665 1614 128.61924743652344 1862.2821044921875 128.61924743652344\n",
      "   -1 23 1 1\n",
      "   1 23 1 1\n",
      "   1000022 23 1 1\n",
      "   1000022 1 -1 -1\n",
      "   -211 1 -1 -1\n"
     ]
    }
   ],
   "source": [
    "f = ROOT.TFile(inputFile,'read')\n",
    "tree = f.Get(\"Delphes\")\n",
    "nevts = tree.GetEntries()\n",
    "\n",
    "tree.GetEntry(0)\n",
    "print('d=',tree.llpDaughters.GetEntries())\n",
    "llpCandidates = getLLPCandidates(tree.llps,tree.llpDaughters)\n",
    "\n",
    "for llp in llpCandidates:\n",
    "    print(llp.PID,llp.D1,llp.D2,llp.Xd,llp.E,llp.X)\n",
    "    for i in range(llp.D1,llp.D1+5):\n",
    "        dd = tree.llpDaughters.At(i)\n",
    "        print('  ',dd.PID,dd.Status,dd.M1,dd.M2)\n",
    "        "
   ]
  },
  {
   "cell_type": "code",
   "execution_count": 13,
   "metadata": {},
   "outputs": [
    {
     "name": "stdout",
     "output_type": "stream",
     "text": [
      "njet= 4\n",
      "1184.402099609375\n",
      "666.4342041015625\n",
      "382.39056396484375\n",
      "26.800453186035156\n"
     ]
    }
   ],
   "source": [
    "njet = tree.GenJet.GetEntries()\n",
    "print('njet=',njet)\n",
    "for j in range(njet):\n",
    "    print(tree.GenJet.At(j).PT)"
   ]
  },
  {
   "cell_type": "code",
   "execution_count": 7,
   "metadata": {},
   "outputs": [],
   "source": [
    "jets = getDisplacedJets(tree.GenJet,tree.llps,tree.llpDaughters)"
   ]
  },
  {
   "cell_type": "code",
   "execution_count": 8,
   "metadata": {},
   "outputs": [
    {
     "data": {
      "text/plain": [
       "3"
      ]
     },
     "execution_count": 8,
     "metadata": {},
     "output_type": "execute_result"
    }
   ],
   "source": [
    "len(jets)"
   ]
  },
  {
   "cell_type": "code",
   "execution_count": 9,
   "metadata": {},
   "outputs": [
    {
     "name": "stdout",
     "output_type": "stream",
     "text": [
      "-73.08136749267578 68.16239166259766 -38.72924041748047\n",
      "128.61924743652344 -121.34330749511719 131.07666015625\n"
     ]
    }
   ],
   "source": [
    "for llp in llpCandidates:\n",
    "    print(llp.Xd,llp.Yd,llp.Zd)"
   ]
  },
  {
   "cell_type": "code",
   "execution_count": 12,
   "metadata": {},
   "outputs": [
    {
     "name": "stdout",
     "output_type": "stream",
     "text": [
      "jet: 1184.402099609375 1000021 -73.08136749267578\n",
      "jet: 666.4342041015625 1000021 128.61924743652344\n",
      "jet: 382.39056396484375 1000021 128.61924743652344\n"
     ]
    }
   ],
   "source": [
    "for j in jets:\n",
    "    print('jet:',j.PT,j.llp.PID,j.llp.X)"
   ]
  },
  {
   "cell_type": "code",
   "execution_count": 19,
   "metadata": {},
   "outputs": [
    {
     "name": "stdout",
     "output_type": "stream",
     "text": [
      "jet= 1184.402099609375\n",
      "-1 0.24454289890040573 0\n",
      "1 0.17897295077371433 0\n",
      "-1 3.000517490978887 1\n",
      "1 4.615221662097984 1\n",
      "\n",
      "\n",
      "jet= 666.4342041015625\n",
      "-1 4.603117522585323 0\n",
      "1 4.613850260593925 0\n",
      "-1 1.9385068678804618 1\n",
      "1 0.010790823449570322 1\n",
      "\n",
      "\n",
      "jet= 382.39056396484375\n",
      "-1 3.0588282552695945 0\n",
      "1 2.948049030493578 0\n",
      "-1 0.023640926652934085 1\n",
      "1 1.944297458591697 1\n",
      "\n",
      "\n",
      "jet= 26.800453186035156\n",
      "-1 3.5231930875621207 0\n",
      "1 3.1001211705977285 0\n",
      "-1 3.9435215235879295 1\n",
      "1 5.868649206117747 1\n",
      "\n",
      "\n"
     ]
    }
   ],
   "source": [
    "for ij in range(tree.GenJet.GetEntries()):\n",
    "    jet = tree.GenJet.At(ij)\n",
    "    print('jet=',jet.PT)\n",
    "    for iid in range(tree.llpDaughters.GetEntries()):\n",
    "        d = tree.llpDaughters.At(iid)\n",
    "        if d.M1 < 0: continue\n",
    "        if d.PID == 1000022: continue\n",
    "        deltaR = np.sqrt((jet.Eta-d.Eta)**2 + (jet.Phi-d.Phi)**2)\n",
    "        print(d.PID,deltaR,d.M1)\n",
    "    print('\\n')\n",
    "    "
   ]
  },
  {
   "cell_type": "code",
   "execution_count": null,
   "metadata": {},
   "outputs": [],
   "source": []
  }
 ],
 "metadata": {
  "kernelspec": {
   "display_name": "Python 3 (ipykernel)",
   "language": "python",
   "name": "python3"
  },
  "language_info": {
   "codemirror_mode": {
    "name": "ipython",
    "version": 3
   },
   "file_extension": ".py",
   "mimetype": "text/x-python",
   "name": "python",
   "nbconvert_exporter": "python",
   "pygments_lexer": "ipython3",
   "version": "3.10.12"
  }
 },
 "nbformat": 4,
 "nbformat_minor": 2
}
