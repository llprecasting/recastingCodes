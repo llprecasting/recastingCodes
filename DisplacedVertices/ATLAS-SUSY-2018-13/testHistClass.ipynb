{
 "cells": [
  {
   "cell_type": "code",
   "execution_count": 1,
   "metadata": {},
   "outputs": [],
   "source": [
    "import os,glob\n",
    "from typing import Any\n",
    "import numpy as np\n",
    "import glob\n",
    "import itertools"
   ]
  },
  {
   "cell_type": "code",
   "execution_count": 4,
   "metadata": {},
   "outputs": [],
   "source": [
    "from ATLAS_data.atlasBins import atlas_bins"
   ]
  },
  {
   "cell_type": "code",
   "execution_count": 5,
   "metadata": {},
   "outputs": [],
   "source": [
    "xbins = atlas_bins['HighPT']['nTracks']\n",
    "ybins = atlas_bins['HighPT']['mDV']"
   ]
  },
  {
   "cell_type": "code",
   "execution_count": 38,
   "metadata": {},
   "outputs": [],
   "source": [
    "class BinnedData(object):\n",
    "    \"\"\"\n",
    "    Simple class to store and handle 2D binned data.\n",
    "    Similar to a 3D array.\n",
    "    \"\"\"\n",
    "\n",
    "    def __init__(self,xbins,ybins):\n",
    "\n",
    "        self.xbins = np.array(sorted(xbins[:]))\n",
    "        self.ybins = np.array(sorted(ybins[:]))\n",
    "        self.values = np.zeros((len(self.xbins),len(self.ybins)))\n",
    "\n",
    "    def getIndex(self,x,y):\n",
    "        # First check if it is within range\n",
    "        if not (self.xbins[0] <= x <= self.xbins[-1]):\n",
    "            return None\n",
    "        if not (self.ybins[0] <= y <= self.ybins[-1]):\n",
    "            return None\n",
    "    \n",
    "        ix = np.digitize(x,self.xbins)-1\n",
    "        iy = np.digitize(y,self.ybins)-1\n",
    "        \n",
    "        return (ix,iy)\n",
    "    \n",
    "    \n",
    "    \n",
    "    def fill(self,x,y,weight):\n",
    "\n",
    "        ibin = self.getIndex(self,x,y)\n",
    "        if ibin is not None:\n",
    "            self.values[ibin[0],ibin[1]] += weight"
   ]
  },
  {
   "cell_type": "code",
   "execution_count": 39,
   "metadata": {},
   "outputs": [],
   "source": [
    "binD = BinnedData(xbins,ybins)"
   ]
  },
  {
   "cell_type": "code",
   "execution_count": 40,
   "metadata": {},
   "outputs": [
    {
     "name": "stdout",
     "output_type": "stream",
     "text": [
      "[ 2.  3.  4.  5.  6.  7.  8.  9. 10.]\n",
      "[ 2.039   2.3415  2.7243  3.2088  3.822   4.598   5.5801  6.8231  8.3961\n",
      " 10.     12.906  16.095  20.13   25.237  31.701  39.881  50.233  63.334\n",
      " 79.916 ]\n"
     ]
    }
   ],
   "source": [
    "print(xbins)\n",
    "print(ybins)"
   ]
  },
  {
   "cell_type": "code",
   "execution_count": 41,
   "metadata": {},
   "outputs": [
    {
     "name": "stdout",
     "output_type": "stream",
     "text": [
      "(6, 9)\n"
     ]
    }
   ],
   "source": [
    "print(binD.getIndex(8,12.))"
   ]
  },
  {
   "cell_type": "code",
   "execution_count": null,
   "metadata": {},
   "outputs": [],
   "source": []
  }
 ],
 "metadata": {
  "kernelspec": {
   "display_name": "Python 3",
   "language": "python",
   "name": "python3"
  },
  "language_info": {
   "codemirror_mode": {
    "name": "ipython",
    "version": 3
   },
   "file_extension": ".py",
   "mimetype": "text/x-python",
   "name": "python",
   "nbconvert_exporter": "python",
   "pygments_lexer": "ipython3",
   "version": "3.10.12"
  }
 },
 "nbformat": 4,
 "nbformat_minor": 2
}
