{
 "cells": [
  {
   "cell_type": "code",
   "execution_count": 1,
   "metadata": {},
   "outputs": [],
   "source": [
    "import os,glob\n",
    "from typing import Any\n",
    "import numpy as np\n",
    "import glob\n",
    "import itertools"
   ]
  },
  {
   "cell_type": "code",
   "execution_count": 4,
   "metadata": {},
   "outputs": [],
   "source": [
    "from ATLAS_data.atlasBins import atlas_bins"
   ]
  },
  {
   "cell_type": "code",
   "execution_count": 5,
   "metadata": {},
   "outputs": [],
   "source": [
    "xbins = atlas_bins['HighPT']['nTracks']\n",
    "ybins = atlas_bins['HighPT']['mDV']"
   ]
  },
  {
   "cell_type": "code",
   "execution_count": 44,
   "metadata": {},
   "outputs": [],
   "source": [
    "class BinnedData(object):\n",
    "    \"\"\"\n",
    "    Simple class to store and handle 2D binned data.\n",
    "    Similar to a 3D array.\n",
    "    \"\"\"\n",
    "\n",
    "    def __init__(self,xbins,ybins):\n",
    "\n",
    "        self.xbins = np.array(sorted(xbins[:]))\n",
    "        self.ybins = np.array(sorted(ybins[:]))\n",
    "        self.values = np.zeros((len(self.xbins),len(self.ybins)))\n",
    "\n",
    "    def getIndex(self,x,y):\n",
    "        # First check if it is within range\n",
    "        if not (self.xbins[0] <= x <= self.xbins[-1]):\n",
    "            return None\n",
    "        if not (self.ybins[0] <= y <= self.ybins[-1]):\n",
    "            return None\n",
    "    \n",
    "        ix = np.digitize(x,self.xbins)-1\n",
    "        iy = np.digitize(y,self.ybins)-1\n",
    "        \n",
    "        return (ix,iy)\n",
    "    \n",
    "    \n",
    "    \n",
    "    def fill(self,x,y,weight):\n",
    "\n",
    "        ibin = self.getIndex(x,y)\n",
    "        if ibin is not None:\n",
    "            self.values[ibin[0],ibin[1]] += weight"
   ]
  },
  {
   "cell_type": "code",
   "execution_count": 45,
   "metadata": {},
   "outputs": [],
   "source": [
    "binD = BinnedData(xbins,ybins)"
   ]
  },
  {
   "cell_type": "code",
   "execution_count": 46,
   "metadata": {},
   "outputs": [],
   "source": [
    "binD.fill(8,12.91,5.)"
   ]
  },
  {
   "cell_type": "code",
   "execution_count": 47,
   "metadata": {},
   "outputs": [
    {
     "data": {
      "text/plain": [
       "array([[0., 0., 0., 0., 0., 0., 0., 0., 0., 0., 0., 0., 0., 0., 0., 0.,\n",
       "        0., 0., 0.],\n",
       "       [0., 0., 0., 0., 0., 0., 0., 0., 0., 0., 0., 0., 0., 0., 0., 0.,\n",
       "        0., 0., 0.],\n",
       "       [0., 0., 0., 0., 0., 0., 0., 0., 0., 0., 0., 0., 0., 0., 0., 0.,\n",
       "        0., 0., 0.],\n",
       "       [0., 0., 0., 0., 0., 0., 0., 0., 0., 0., 0., 0., 0., 0., 0., 0.,\n",
       "        0., 0., 0.],\n",
       "       [0., 0., 0., 0., 0., 0., 0., 0., 0., 0., 0., 0., 0., 0., 0., 0.,\n",
       "        0., 0., 0.],\n",
       "       [0., 0., 0., 0., 0., 0., 0., 0., 0., 0., 0., 0., 0., 0., 0., 0.,\n",
       "        0., 0., 0.],\n",
       "       [0., 0., 0., 0., 0., 0., 0., 0., 0., 0., 5., 0., 0., 0., 0., 0.,\n",
       "        0., 0., 0.],\n",
       "       [0., 0., 0., 0., 0., 0., 0., 0., 0., 0., 0., 0., 0., 0., 0., 0.,\n",
       "        0., 0., 0.],\n",
       "       [0., 0., 0., 0., 0., 0., 0., 0., 0., 0., 0., 0., 0., 0., 0., 0.,\n",
       "        0., 0., 0.]])"
      ]
     },
     "execution_count": 47,
     "metadata": {},
     "output_type": "execute_result"
    }
   ],
   "source": [
    "binD.values"
   ]
  }
 ],
 "metadata": {
  "kernelspec": {
   "display_name": "Python 3",
   "language": "python",
   "name": "python3"
  },
  "language_info": {
   "codemirror_mode": {
    "name": "ipython",
    "version": 3
   },
   "file_extension": ".py",
   "mimetype": "text/x-python",
   "name": "python",
   "nbconvert_exporter": "python",
   "pygments_lexer": "ipython3",
   "version": "3.10.12"
  }
 },
 "nbformat": 4,
 "nbformat_minor": 2
}
