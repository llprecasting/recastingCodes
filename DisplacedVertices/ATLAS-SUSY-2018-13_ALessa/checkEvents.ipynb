{
 "cells": [
  {
   "cell_type": "code",
   "execution_count": 1,
   "metadata": {},
   "outputs": [
    {
     "name": "stdout",
     "output_type": "stream",
     "text": [
      "Welcome to JupyROOT 6.30/06\n"
     ]
    }
   ],
   "source": [
    "import numpy as np\n",
    "import seaborn as sns\n",
    "import os\n",
    "from matplotlib import pyplot as plt\n",
    "from ATLAS_data.effFunctions import eventEff,vertexEff\n",
    "from ATLAS_data.atlasBins import atlas_bins\n",
    "from helper import LLP\n",
    "from atlas_susy_2018_13_Recast import getLLPs,getJets,getDisplacedJets,eventAcc,vertexAcc,getModelDict\n",
    "\n",
    "plt.rcParams.update({\n",
    "    \"text.usetex\": True,\n",
    "    \"font.family\": \"sans-serif\",\n",
    "    \"font.sans-serif\": [\"Helvetica\"]})\n",
    "\n",
    "plt.rcParams.update({\"savefig.dpi\" : 300}) #Figure resolution\n",
    "\n",
    "delphesDir = os.path.abspath(\"./DelphesLLP\")\n",
    "os.environ['ROOT_INCLUDE_PATH'] = os.path.join(delphesDir,\"external\")\n",
    "\n",
    "import ROOT\n",
    "import xml.etree.ElementTree as ET\n",
    "\n",
    "\n",
    "ROOT.gSystem.Load(os.path.join(delphesDir,\"libDelphes.so\"))\n",
    "\n",
    "ROOT.gInterpreter.Declare('#include \"classes/SortableObject.h\"')\n",
    "ROOT.gInterpreter.Declare('#include \"classes/DelphesClasses.h\"')\n",
    "ROOT.gInterpreter.Declare('#include \"external/ExRootAnalysis/ExRootTreeReader.h\"')\n",
    "\n",
    "\n",
    "#Define plotting style:\n",
    "sns.set() #Set style\n",
    "sns.set_style('ticks',{'font.family':'Times New Roman', 'font.serif':'Times New Roman'})\n",
    "sns.set_context('paper', font_scale=1.8)\n",
    "cm = plt.colormaps['YlGnBu']"
   ]
  },
  {
   "cell_type": "code",
   "execution_count": 10,
   "metadata": {},
   "outputs": [],
   "source": [
    "inputFile = './hs_test/Events/run_01/hs_16_tau_3.00e-03_delphes_events.root'"
   ]
  },
  {
   "cell_type": "code",
   "execution_count": 33,
   "metadata": {},
   "outputs": [
    {
     "name": "stdout",
     "output_type": "stream",
     "text": [
      "762 Acc =  0.0 1.0\n",
      "[0. 1.]\n",
      "[False  True]\n",
      "[[1]]\n"
     ]
    },
    {
     "ename": "ValueError",
     "evalue": "either both or neither of x and y should be given",
     "output_type": "error",
     "traceback": [
      "\u001b[0;31m---------------------------------------------------------------------------\u001b[0m",
      "\u001b[0;31mValueError\u001b[0m                                Traceback (most recent call last)",
      "Cell \u001b[0;32mIn[33], line 47\u001b[0m\n\u001b[1;32m     45\u001b[0m \u001b[38;5;28mprint\u001b[39m(v_acc \u001b[38;5;241m>\u001b[39m \u001b[38;5;241m0.\u001b[39m)\n\u001b[1;32m     46\u001b[0m \u001b[38;5;28mprint\u001b[39m(np\u001b[38;5;241m.\u001b[39margwhere(v_acc \u001b[38;5;241m>\u001b[39m \u001b[38;5;241m0.\u001b[39m))\n\u001b[0;32m---> 47\u001b[0m \u001b[38;5;28mprint\u001b[39m(\u001b[43mnp\u001b[49m\u001b[38;5;241;43m.\u001b[39;49m\u001b[43mwhere\u001b[49m\u001b[43m(\u001b[49m\u001b[43mv_acc\u001b[49m\u001b[43m \u001b[49m\u001b[38;5;241;43m>\u001b[39;49m\u001b[38;5;241;43m0.\u001b[39;49m\u001b[43m,\u001b[49m\u001b[43mllps\u001b[49m\u001b[43m)\u001b[49m)\n\u001b[1;32m     48\u001b[0m llps \u001b[38;5;241m=\u001b[39m llps[np\u001b[38;5;241m.\u001b[39margwhere(v_acc \u001b[38;5;241m>\u001b[39m \u001b[38;5;241m0.\u001b[39m)[\u001b[38;5;241m0\u001b[39m]]\n\u001b[1;32m     50\u001b[0m pts\u001b[38;5;241m.\u001b[39mappend\n",
      "\u001b[0;31mValueError\u001b[0m: either both or neither of x and y should be given"
     ]
    }
   ],
   "source": [
    "f = ROOT.TFile(inputFile,'read')\n",
    "tree = f.Get(\"Delphes\")\n",
    "nevts = tree.GetEntries()\n",
    "ntotal = 0\n",
    "totalweightPB = 0.0\n",
    "norm = 1.0/nevts\n",
    "lumi = 139.0\n",
    "pts = []\n",
    "for ievt in range(nevts):    \n",
    "    ntotal += 1\n",
    "    tree.GetEntry(ievt)   \n",
    "    weightPB = tree.Event.At(0).Weight\n",
    "    ns = weightPB*1e3*lumi # number of signal events\n",
    "\n",
    "    llps = getLLPs(tree.bsm,tree.bsmDirectDaughters,tree.bsmFinalDaughters)    \n",
    "    # print(len(tree.bsm))\n",
    "    jets = getJets(tree.GenJet,pTmin=25.,etaMax=5.0)\n",
    "    # print(f'Nj = {len(jets)}')\n",
    "    # for j in jets:\n",
    "        # print(j.PT)\n",
    "\n",
    "    jetsDisp = getDisplacedJets(jets,llps)\n",
    "    # print(f'Ndisp = {len(jetsDisp)}')\n",
    "    # for j in jetsDisp:\n",
    "        # print(j.PT)\n",
    "\n",
    "    # Event acceptance:\n",
    "    highPT_acc = eventAcc(jets,jetsDisp,sr='HighPT')\n",
    "    trackless_acc = eventAcc(jets,jetsDisp,sr='Trackless')              \n",
    "\n",
    "    if (highPT_acc+trackless_acc > 0):\n",
    "        print(ievt,'Acc = ',highPT_acc,trackless_acc)          \n",
    "\n",
    "    if (not highPT_acc) and (not trackless_acc):\n",
    "        continue\n",
    "    \n",
    "    # Event efficiency\n",
    "    highPT_eff = eventEff(jets,llps,sr='HighPT')\n",
    "    trackless_eff = eventEff(jets,llps,sr='Trackless')\n",
    "\n",
    "    # Vertex acceptances:\n",
    "    v_acc = np.array([vertexAcc(llp,Rmax=300.0,zmax=300.0,Rmin=4.0,\n",
    "                                d0min=2.0,nmin=0,mDVmin=0.0)  for llp in llps])\n",
    "    \n",
    "    # Vertex efficiencies:\n",
    "    v_eff = np.array([vertexEff(llp) for llp in llps])\n",
    "\n",
    "    wvertex = 1.0-np.prod(1.0-v_acc*v_eff)\n",
    "\n",
    "    print('eff=',ns*highPT_acc*highPT_eff*wvertex,ns*trackless_acc*trackless_eff*wvertex)\n",
    "\n",
    "f.Close()"
   ]
  },
  {
   "cell_type": "code",
   "execution_count": null,
   "metadata": {},
   "outputs": [],
   "source": []
  }
 ],
 "metadata": {
  "kernelspec": {
   "display_name": "Python 3",
   "language": "python",
   "name": "python3"
  },
  "language_info": {
   "codemirror_mode": {
    "name": "ipython",
    "version": 3
   },
   "file_extension": ".py",
   "mimetype": "text/x-python",
   "name": "python",
   "nbconvert_exporter": "python",
   "pygments_lexer": "ipython3",
   "version": "3.12.3"
  }
 },
 "nbformat": 4,
 "nbformat_minor": 2
}
