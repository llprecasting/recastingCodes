{
 "cells": [
  {
   "cell_type": "code",
   "execution_count": 1,
   "id": "a581cdcd",
   "metadata": {},
   "outputs": [],
   "source": [
    "import numpy as np\n",
    "import pandas as pd\n",
    "import os,sys"
   ]
  },
  {
   "cell_type": "code",
   "execution_count": 2,
   "id": "279b6c76",
   "metadata": {},
   "outputs": [],
   "source": [
    "cutFlowFile = './HEPData-ins2080541-v1-csv/CutFlow,Chargino.csv'\n",
    "# cutFlowFile = './HEPData-ins2080541-v1-csv/CutFlow,Stau.csv'\n",
    "# cutFlowFile = './HEPData-ins2080541-v1-csv/CutFlow,R-hadron.csv'\n",
    "# cutFlowFile = './HEPData-ins2080541-v1-csv/CutFlow,R-hadron,compressed.csv'"
   ]
  },
  {
   "cell_type": "code",
   "execution_count": 3,
   "id": "1a270dbe",
   "metadata": {},
   "outputs": [],
   "source": [
    "# Get blocks for each parameter point (it is assumed they are separated by the '#: Coupling' tag)\n",
    "with open(cutFlowFile,'r') as f:\n",
    "    data = f.read()\n",
    "    tag = '#: Model'\n",
    "    blocks = data.split(tag)\n",
    "    for ib,b in enumerate(blocks):\n",
    "        blocks[ib] = tag.replace('# :','')+b\n",
    "        break\n",
    "# Skip header\n",
    "blocks = blocks[1:]\n"
   ]
  },
  {
   "cell_type": "code",
   "execution_count": 4,
   "id": "f12efecb",
   "metadata": {},
   "outputs": [
    {
     "name": "stdout",
     "output_type": "stream",
     "text": [
      "2200.0 10\n",
      "2200.0 10\n"
     ]
    }
   ],
   "source": [
    "dataDict = {}\n",
    "for b in blocks:\n",
    "    b = b.split('\\n')\n",
    "    mass = eval(b[0].split('=')[1].split(',')[0].replace('TeV','*TeV').replace('GeV','*GeV'),\n",
    "                {'TeV' : 1000.0,'GeV' : 1.0})\n",
    "    tau = eval(b[1].split(',')[1].replace('ns','*ns'),\n",
    "                {'ns' : 1})\n",
    "    print(mass,tau)\n",
    "    dataDict['mLLP'] = [mass]\n",
    "    dataDict['tau_ns'] = [tau]\n",
    "    dataType = b[2].split(',')[1]\n",
    "    for l in b[3:]:\n",
    "        l = l.strip()\n",
    "        if not l: continue\n",
    "        cut,val = l.rsplit(',',1)\n",
    "        val = eval(val)\n",
    "        if not cut in dataDict:\n",
    "            dataDict[cut] = [[0.,0.]]\n",
    "        if dataType == 'Events':\n",
    "            dataDict[cut][0][0] = val\n",
    "        else:\n",
    "            dataDict[cut][0][1] = val"
   ]
  },
  {
   "cell_type": "code",
   "execution_count": 5,
   "id": "1d42ad77",
   "metadata": {},
   "outputs": [],
   "source": [
    "for k,v in dataDict.items():\n",
    "    if isinstance(v[0],list):\n",
    "        dataDict[k][0] = tuple(v[0])"
   ]
  },
  {
   "cell_type": "code",
   "execution_count": 6,
   "id": "eb5c7e8d",
   "metadata": {},
   "outputs": [],
   "source": [
    "# Create dataFrame\n",
    "df = pd.DataFrame.from_dict(dataDict)\n",
    "# Fix notation\n",
    "df.rename(columns={'\"$dE/dx\\in[1.8,2.4] {MeV~cm^{2}/g}$\"' : '(SR-Low - no mass Window)',\n",
    "                   '$dE/dx>2.4 {MeV~cm^{2}/g}$' : '(SR-High - no mass Window)',\n",
    "                  '\"$m_{T}({track},{p}_{{T}}^{{ miss}}) > 130$ GeV\"' : '$m_{T}({track},{p}_{{T}}^{{ miss}}) > 130$ GeV'},\n",
    "                  inplace=True)"
   ]
  },
  {
   "cell_type": "code",
   "execution_count": 7,
   "id": "a4664b84",
   "metadata": {},
   "outputs": [],
   "source": [
    "pickleFile = os.path.basename(cutFlowFile).replace(',','_').replace('.csv','.pcl')\n",
    "df.to_pickle(pickleFile)"
   ]
  },
  {
   "cell_type": "code",
   "execution_count": 8,
   "id": "955ee724",
   "metadata": {},
   "outputs": [
    {
     "data": {
      "text/html": [
       "<div>\n",
       "<style scoped>\n",
       "    .dataframe tbody tr th:only-of-type {\n",
       "        vertical-align: middle;\n",
       "    }\n",
       "\n",
       "    .dataframe tbody tr th {\n",
       "        vertical-align: top;\n",
       "    }\n",
       "\n",
       "    .dataframe thead th {\n",
       "        text-align: right;\n",
       "    }\n",
       "</style>\n",
       "<table border=\"1\" class=\"dataframe\">\n",
       "  <thead>\n",
       "    <tr style=\"text-align: right;\">\n",
       "      <th></th>\n",
       "      <th>0</th>\n",
       "    </tr>\n",
       "  </thead>\n",
       "  <tbody>\n",
       "    <tr>\n",
       "      <th>mLLP</th>\n",
       "      <td>2200.0</td>\n",
       "    </tr>\n",
       "    <tr>\n",
       "      <th>tau_ns</th>\n",
       "      <td>10</td>\n",
       "    </tr>\n",
       "    <tr>\n",
       "      <th>Total</th>\n",
       "      <td>(49.5, 1.0)</td>\n",
       "    </tr>\n",
       "    <tr>\n",
       "      <th>Event and jet Cleaning</th>\n",
       "      <td>(49.0, 0.99)</td>\n",
       "    </tr>\n",
       "    <tr>\n",
       "      <th>Trigger</th>\n",
       "      <td>(47.1, 0.951)</td>\n",
       "    </tr>\n",
       "    <tr>\n",
       "      <th>Primary vertex</th>\n",
       "      <td>(47.1, 0.951)</td>\n",
       "    </tr>\n",
       "    <tr>\n",
       "      <th>$E_{T}^{miss}&gt;170$ GeV</th>\n",
       "      <td>(45.7, 0.924)</td>\n",
       "    </tr>\n",
       "    <tr>\n",
       "      <th>Track in PV</th>\n",
       "      <td>(35.1, 0.71)</td>\n",
       "    </tr>\n",
       "    <tr>\n",
       "      <th>$p_{T} &gt; 50$ GeV</th>\n",
       "      <td>(25.2, 0.509)</td>\n",
       "    </tr>\n",
       "    <tr>\n",
       "      <th>Track quality requirements</th>\n",
       "      <td>(19.6, 0.397)</td>\n",
       "    </tr>\n",
       "    <tr>\n",
       "      <th>Track isolation</th>\n",
       "      <td>(16.9, 0.342)</td>\n",
       "    </tr>\n",
       "    <tr>\n",
       "      <th>$p_{T} &gt; 120$ GeV</th>\n",
       "      <td>(16.8, 0.34)</td>\n",
       "    </tr>\n",
       "    <tr>\n",
       "      <th>Track momentum uncertainty</th>\n",
       "      <td>(15.1, 0.306)</td>\n",
       "    </tr>\n",
       "    <tr>\n",
       "      <th>$|\\eta|&lt;1.8$</th>\n",
       "      <td>(14.2, 0.287)</td>\n",
       "    </tr>\n",
       "    <tr>\n",
       "      <th>$m_{T}({track},{p}_{{T}}^{{ miss}}) &gt; 130$ GeV</th>\n",
       "      <td>(12.8, 0.259)</td>\n",
       "    </tr>\n",
       "    <tr>\n",
       "      <th>Electron veto</th>\n",
       "      <td>(12.8, 0.258)</td>\n",
       "    </tr>\n",
       "    <tr>\n",
       "      <th>Hadron/tau veto</th>\n",
       "      <td>(12.3, 0.249)</td>\n",
       "    </tr>\n",
       "    <tr>\n",
       "      <th>(SR-Low - no mass Window)</th>\n",
       "      <td>(1.67, 0.034)</td>\n",
       "    </tr>\n",
       "    <tr>\n",
       "      <th>(SR-High - no mass Window)</th>\n",
       "      <td>(9.34, 0.189)</td>\n",
       "    </tr>\n",
       "  </tbody>\n",
       "</table>\n",
       "</div>"
      ],
      "text/plain": [
       "                                                            0\n",
       "mLLP                                                   2200.0\n",
       "tau_ns                                                     10\n",
       "Total                                             (49.5, 1.0)\n",
       "Event and jet Cleaning                           (49.0, 0.99)\n",
       "Trigger                                         (47.1, 0.951)\n",
       "Primary vertex                                  (47.1, 0.951)\n",
       "$E_{T}^{miss}>170$ GeV                          (45.7, 0.924)\n",
       "Track in PV                                      (35.1, 0.71)\n",
       "$p_{T} > 50$ GeV                                (25.2, 0.509)\n",
       "Track quality requirements                      (19.6, 0.397)\n",
       "Track isolation                                 (16.9, 0.342)\n",
       "$p_{T} > 120$ GeV                                (16.8, 0.34)\n",
       "Track momentum uncertainty                      (15.1, 0.306)\n",
       "$|\\eta|<1.8$                                    (14.2, 0.287)\n",
       "$m_{T}({track},{p}_{{T}}^{{ miss}}) > 130$ GeV  (12.8, 0.259)\n",
       "Electron veto                                   (12.8, 0.258)\n",
       "Hadron/tau veto                                 (12.3, 0.249)\n",
       "(SR-Low - no mass Window)                       (1.67, 0.034)\n",
       "(SR-High - no mass Window)                      (9.34, 0.189)"
      ]
     },
     "execution_count": 8,
     "metadata": {},
     "output_type": "execute_result"
    }
   ],
   "source": [
    "df.T"
   ]
  },
  {
   "cell_type": "code",
   "execution_count": null,
   "id": "7b079b3a",
   "metadata": {},
   "outputs": [],
   "source": []
  }
 ],
 "metadata": {
  "kernelspec": {
   "display_name": "Python 3 (ipykernel)",
   "language": "python",
   "name": "python3"
  },
  "language_info": {
   "codemirror_mode": {
    "name": "ipython",
    "version": 3
   },
   "file_extension": ".py",
   "mimetype": "text/x-python",
   "name": "python",
   "nbconvert_exporter": "python",
   "pygments_lexer": "ipython3",
   "version": "3.9.7"
  }
 },
 "nbformat": 4,
 "nbformat_minor": 5
}
