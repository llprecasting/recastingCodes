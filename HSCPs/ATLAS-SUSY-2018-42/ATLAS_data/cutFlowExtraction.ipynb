{
 "cells": [
  {
   "cell_type": "code",
   "execution_count": 1,
   "id": "a581cdcd",
   "metadata": {},
   "outputs": [],
   "source": [
    "import numpy as np\n",
    "import pandas as pd\n",
    "import os,sys"
   ]
  },
  {
   "cell_type": "code",
   "execution_count": 2,
   "id": "279b6c76",
   "metadata": {},
   "outputs": [],
   "source": [
    "# cutFlowFile = './HEPData-ins2080541-v1-csv/CutFlow,Chargino.csv'\n",
    "cutFlowFile = './HEPData-ins2080541-v1-csv/CutFlow,Stau.csv'"
   ]
  },
  {
   "cell_type": "code",
   "execution_count": 3,
   "id": "1a270dbe",
   "metadata": {},
   "outputs": [],
   "source": [
    "# Get blocks for each parameter point (it is assumed they are separated by the '#: Coupling' tag)\n",
    "with open(cutFlowFile,'r') as f:\n",
    "    data = f.read()\n",
    "    tag = '#: Model'\n",
    "    blocks = data.split(tag)\n",
    "    for ib,b in enumerate(blocks):\n",
    "        blocks[ib] = tag.replace('# :','')+b\n",
    "        break\n",
    "# Skip header\n",
    "blocks = blocks[1:]\n"
   ]
  },
  {
   "cell_type": "code",
   "execution_count": 4,
   "id": "f12efecb",
   "metadata": {},
   "outputs": [],
   "source": [
    "dataDict = {}\n",
    "for b in blocks:\n",
    "    b = b.split('\\n')\n",
    "    mass = eval(b[0].split('=')[1].replace('TeV','*TeV').replace('GeV','*GeV'),\n",
    "                {'TeV' : 1000.0,'GeV' : 1.0})\n",
    "    tau = eval(b[1].split(',')[1].replace('ns','*ns'),\n",
    "                {'ns' : 1})\n",
    "    dataDict['mLLP'] = [mass]\n",
    "    dataDict['tau_ns'] = [tau]\n",
    "    dataType = b[2].split(',')[1]\n",
    "    for l in b[3:]:\n",
    "        l = l.strip()\n",
    "        if not l: continue\n",
    "        cut,val = l.rsplit(',',1)\n",
    "        val = eval(val)\n",
    "        if not cut in dataDict:\n",
    "            dataDict[cut] = [[0.,0.]]\n",
    "        if dataType == 'Events':\n",
    "            dataDict[cut][0][0] = val\n",
    "        else:\n",
    "            dataDict[cut][0][1] = val"
   ]
  },
  {
   "cell_type": "code",
   "execution_count": 5,
   "id": "1d42ad77",
   "metadata": {},
   "outputs": [],
   "source": [
    "for k,v in dataDict.items():\n",
    "    if isinstance(v[0],list):\n",
    "        dataDict[k][0] = tuple(v[0])"
   ]
  },
  {
   "cell_type": "code",
   "execution_count": 6,
   "id": "eb5c7e8d",
   "metadata": {},
   "outputs": [],
   "source": [
    "# Create dataFrame\n",
    "df = pd.DataFrame.from_dict(dataDict)\n",
    "# Fix notation\n",
    "df.rename(columns={'\"$dE/dx\\in[1.8,2.4] {MeV~cm^{2}/g}$\"' : '(SR-Low - no mass Window)',\n",
    "                   '$dE/dx>2.4 {MeV~cm^{2}/g}$' : '(SR-High - no mass Window)',\n",
    "                  '\"$m_{T}({track},{p}_{{T}}^{{ miss}}) > 130$ GeV\"' : '$m_{T}({track},{p}_{{T}}^{{ miss}}) > 130$ GeV'},\n",
    "                  inplace=True)"
   ]
  },
  {
   "cell_type": "code",
   "execution_count": 7,
   "id": "a4664b84",
   "metadata": {},
   "outputs": [],
   "source": [
    "pickleFile = os.path.basename(cutFlowFile).replace(',','_').replace('.csv','.pcl')\n",
    "df.to_pickle(pickleFile)"
   ]
  },
  {
   "cell_type": "code",
   "execution_count": 8,
   "id": "955ee724",
   "metadata": {},
   "outputs": [
    {
     "data": {
      "text/html": [
       "<div>\n",
       "<style scoped>\n",
       "    .dataframe tbody tr th:only-of-type {\n",
       "        vertical-align: middle;\n",
       "    }\n",
       "\n",
       "    .dataframe tbody tr th {\n",
       "        vertical-align: top;\n",
       "    }\n",
       "\n",
       "    .dataframe thead th {\n",
       "        text-align: right;\n",
       "    }\n",
       "</style>\n",
       "<table border=\"1\" class=\"dataframe\">\n",
       "  <thead>\n",
       "    <tr style=\"text-align: right;\">\n",
       "      <th></th>\n",
       "      <th>mLLP</th>\n",
       "      <th>tau_ns</th>\n",
       "      <th>Total</th>\n",
       "      <th>Event and jet Cleaning</th>\n",
       "      <th>Trigger</th>\n",
       "      <th>Primary vertex</th>\n",
       "      <th>$E_{T}^{miss}&gt;170$ GeV</th>\n",
       "      <th>Track in PV</th>\n",
       "      <th>$p_{T} &gt; 50$ GeV</th>\n",
       "      <th>Track quality requirements</th>\n",
       "      <th>Track isolation</th>\n",
       "      <th>$p_{T} &gt; 120$ GeV</th>\n",
       "      <th>Track momentum uncertainty</th>\n",
       "      <th>$|\\eta|&lt;1.8$</th>\n",
       "      <th>$m_{T}({track},{p}_{{T}}^{{ miss}}) &gt; 130$ GeV</th>\n",
       "      <th>Electron veto</th>\n",
       "      <th>Hadron/tau veto</th>\n",
       "      <th>(SR-Low - no mass Window)</th>\n",
       "      <th>(SR-High - no mass Window)</th>\n",
       "    </tr>\n",
       "  </thead>\n",
       "  <tbody>\n",
       "    <tr>\n",
       "      <th>0</th>\n",
       "      <td>400.0</td>\n",
       "      <td>10</td>\n",
       "      <td>(258.0, 1.0)</td>\n",
       "      <td>(256.0, 0.991)</td>\n",
       "      <td>(129.0, 0.499)</td>\n",
       "      <td>(129.0, 0.499)</td>\n",
       "      <td>(87.0, 0.337)</td>\n",
       "      <td>(84.9, 0.328)</td>\n",
       "      <td>(83.7, 0.324)</td>\n",
       "      <td>(80.4, 0.311)</td>\n",
       "      <td>(79.4, 0.307)</td>\n",
       "      <td>(78.9, 0.305)</td>\n",
       "      <td>(78.3, 0.303)</td>\n",
       "      <td>(73.3, 0.284)</td>\n",
       "      <td>(60.6, 0.234)</td>\n",
       "      <td>(60.0, 0.232)</td>\n",
       "      <td>(58.8, 0.228)</td>\n",
       "      <td>(6.79, 0.026)</td>\n",
       "      <td>(6.18, 0.024)</td>\n",
       "    </tr>\n",
       "  </tbody>\n",
       "</table>\n",
       "</div>"
      ],
      "text/plain": [
       "    mLLP  tau_ns         Total Event and jet Cleaning         Trigger  \\\n",
       "0  400.0      10  (258.0, 1.0)         (256.0, 0.991)  (129.0, 0.499)   \n",
       "\n",
       "   Primary vertex $E_{T}^{miss}>170$ GeV    Track in PV $p_{T} > 50$ GeV  \\\n",
       "0  (129.0, 0.499)          (87.0, 0.337)  (84.9, 0.328)    (83.7, 0.324)   \n",
       "\n",
       "  Track quality requirements Track isolation $p_{T} > 120$ GeV  \\\n",
       "0              (80.4, 0.311)   (79.4, 0.307)     (78.9, 0.305)   \n",
       "\n",
       "  Track momentum uncertainty   $|\\eta|<1.8$  \\\n",
       "0              (78.3, 0.303)  (73.3, 0.284)   \n",
       "\n",
       "  $m_{T}({track},{p}_{{T}}^{{ miss}}) > 130$ GeV  Electron veto  \\\n",
       "0                                  (60.6, 0.234)  (60.0, 0.232)   \n",
       "\n",
       "  Hadron/tau veto (SR-Low - no mass Window) (SR-High - no mass Window)  \n",
       "0   (58.8, 0.228)             (6.79, 0.026)              (6.18, 0.024)  "
      ]
     },
     "execution_count": 8,
     "metadata": {},
     "output_type": "execute_result"
    }
   ],
   "source": [
    "df"
   ]
  },
  {
   "cell_type": "code",
   "execution_count": null,
   "id": "7b079b3a",
   "metadata": {},
   "outputs": [],
   "source": []
  }
 ],
 "metadata": {
  "kernelspec": {
   "display_name": "Python 3 (ipykernel)",
   "language": "python",
   "name": "python3"
  },
  "language_info": {
   "codemirror_mode": {
    "name": "ipython",
    "version": 3
   },
   "file_extension": ".py",
   "mimetype": "text/x-python",
   "name": "python",
   "nbconvert_exporter": "python",
   "pygments_lexer": "ipython3",
   "version": "3.9.7"
  }
 },
 "nbformat": 4,
 "nbformat_minor": 5
}
