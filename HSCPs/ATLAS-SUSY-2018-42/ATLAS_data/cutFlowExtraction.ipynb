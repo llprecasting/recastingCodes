{
 "cells": [
  {
   "cell_type": "code",
   "execution_count": 1,
   "id": "a581cdcd",
   "metadata": {},
   "outputs": [],
   "source": [
    "import numpy as np\n",
    "import pandas as pd\n",
    "import os,sys"
   ]
  },
  {
   "cell_type": "code",
   "execution_count": 2,
   "id": "279b6c76",
   "metadata": {},
   "outputs": [],
   "source": [
    "cutFlowFile = './HEPData-ins2080541-v1-csv/CutFlow,Chargino.csv'\n",
    "# cutFlowFile = './HEPData-ins2080541-v1-csv/CutFlow,Stau.csv'\n",
    "# cutFlowFile = './HEPData-ins2080541-v1-csv/CutFlow,R-hadron.csv'\n",
    "# cutFlowFile = './HEPData-ins2080541-v1-csv/CutFlow,R-hadron,compressed.csv'"
   ]
  },
  {
   "cell_type": "code",
   "execution_count": 3,
   "id": "1a270dbe",
   "metadata": {},
   "outputs": [],
   "source": [
    "# Get blocks for each parameter point (it is assumed they are separated by the '#: Coupling' tag)\n",
    "with open(cutFlowFile,'r') as f:\n",
    "    data = f.read()\n",
    "    tag = '#: Model'\n",
    "    blocks = data.split(tag)\n",
    "    for ib,b in enumerate(blocks):\n",
    "        blocks[ib] = tag.replace('# :','')+b\n",
    "        break\n",
    "# Skip header\n",
    "blocks = blocks[1:]\n"
   ]
  },
  {
   "cell_type": "code",
   "execution_count": 4,
   "id": "f12efecb",
   "metadata": {},
   "outputs": [
    {
     "name": "stdout",
     "output_type": "stream",
     "text": [
      "1300.0 10\n",
      "1300.0 10\n"
     ]
    }
   ],
   "source": [
    "dataDict = {}\n",
    "for b in blocks:\n",
    "    b = b.split('\\n')\n",
    "    mass = eval(b[0].split('=')[1].split(',')[0].replace('TeV','*TeV').replace('GeV','*GeV'),\n",
    "                {'TeV' : 1000.0,'GeV' : 1.0})\n",
    "    tau = eval(b[1].split(',')[1].replace('ns','*ns'),\n",
    "                {'ns' : 1})\n",
    "    print(mass,tau)\n",
    "    dataDict['mLLP'] = [mass]\n",
    "    dataDict['tau_ns'] = [tau]\n",
    "    dataType = b[2].split(',')[1]\n",
    "    for l in b[3:]:\n",
    "        l = l.strip()\n",
    "        if not l: continue\n",
    "        cut,val = l.rsplit(',',1)\n",
    "        val = eval(val)\n",
    "        if not cut in dataDict:\n",
    "            dataDict[cut] = [[0.,0.]]\n",
    "        if dataType == 'Events':\n",
    "            dataDict[cut][0][0] = val\n",
    "        else:\n",
    "            dataDict[cut][0][1] = val"
   ]
  },
  {
   "cell_type": "code",
   "execution_count": 5,
   "id": "1d42ad77",
   "metadata": {},
   "outputs": [],
   "source": [
    "for k,v in dataDict.items():\n",
    "    if isinstance(v[0],list):\n",
    "        dataDict[k][0] = tuple(v[0])"
   ]
  },
  {
   "cell_type": "code",
   "execution_count": 6,
   "id": "eb5c7e8d",
   "metadata": {},
   "outputs": [],
   "source": [
    "# Create dataFrame\n",
    "df = pd.DataFrame.from_dict(dataDict)\n",
    "# Fix notation\n",
    "df.rename(columns={'\"$dE/dx\\in[1.8,2.4] {MeV~cm^{2}/g}$\"' : '(SR-Low - no mass Window)',\n",
    "                   '$dE/dx>2.4 {MeV~cm^{2}/g}$' : '(SR-High - no mass Window)',\n",
    "                  '\"$m_{T}({track},{p}_{{T}}^{{ miss}}) > 130$ GeV\"' : '$m_{T}({track},{p}_{{T}}^{{ miss}}) > 130$ GeV'},\n",
    "                  inplace=True)"
   ]
  },
  {
   "cell_type": "code",
   "execution_count": 7,
   "id": "a4664b84",
   "metadata": {},
   "outputs": [],
   "source": [
    "pickleFile = os.path.basename(cutFlowFile).replace(',','_').replace('.csv','.pcl')\n",
    "df.to_pickle(pickleFile)"
   ]
  },
  {
   "cell_type": "code",
   "execution_count": 8,
   "id": "955ee724",
   "metadata": {},
   "outputs": [
    {
     "data": {
      "text/html": [
       "<div>\n",
       "<style scoped>\n",
       "    .dataframe tbody tr th:only-of-type {\n",
       "        vertical-align: middle;\n",
       "    }\n",
       "\n",
       "    .dataframe tbody tr th {\n",
       "        vertical-align: top;\n",
       "    }\n",
       "\n",
       "    .dataframe thead th {\n",
       "        text-align: right;\n",
       "    }\n",
       "</style>\n",
       "<table border=\"1\" class=\"dataframe\">\n",
       "  <thead>\n",
       "    <tr style=\"text-align: right;\">\n",
       "      <th></th>\n",
       "      <th>0</th>\n",
       "    </tr>\n",
       "  </thead>\n",
       "  <tbody>\n",
       "    <tr>\n",
       "      <th>mLLP</th>\n",
       "      <td>1300.0</td>\n",
       "    </tr>\n",
       "    <tr>\n",
       "      <th>tau_ns</th>\n",
       "      <td>10</td>\n",
       "    </tr>\n",
       "    <tr>\n",
       "      <th>Total</th>\n",
       "      <td>(20.8, 1.0)</td>\n",
       "    </tr>\n",
       "    <tr>\n",
       "      <th>Event and jet Cleaning</th>\n",
       "      <td>(20.6, 0.995)</td>\n",
       "    </tr>\n",
       "    <tr>\n",
       "      <th>Trigger</th>\n",
       "      <td>(11.2, 0.539)</td>\n",
       "    </tr>\n",
       "    <tr>\n",
       "      <th>Primary vertex</th>\n",
       "      <td>(11.2, 0.539)</td>\n",
       "    </tr>\n",
       "    <tr>\n",
       "      <th>$E_{T}^{miss}&gt;170$ GeV</th>\n",
       "      <td>(7.9, 0.381)</td>\n",
       "    </tr>\n",
       "    <tr>\n",
       "      <th>Track in PV</th>\n",
       "      <td>(7.8, 0.378)</td>\n",
       "    </tr>\n",
       "    <tr>\n",
       "      <th>$p_{T} &gt; 50$ GeV</th>\n",
       "      <td>(6.8, 0.326)</td>\n",
       "    </tr>\n",
       "    <tr>\n",
       "      <th>Track quality requirements</th>\n",
       "      <td>(5.8, 0.279)</td>\n",
       "    </tr>\n",
       "    <tr>\n",
       "      <th>Track isolation</th>\n",
       "      <td>(5.1, 0.244)</td>\n",
       "    </tr>\n",
       "    <tr>\n",
       "      <th>$p_{T} &gt; 120$ GeV</th>\n",
       "      <td>(5.0, 0.242)</td>\n",
       "    </tr>\n",
       "    <tr>\n",
       "      <th>Track momentum uncertainty</th>\n",
       "      <td>(4.8, 0.231)</td>\n",
       "    </tr>\n",
       "    <tr>\n",
       "      <th>$|\\eta|&lt;1.8$</th>\n",
       "      <td>(4.39, 0.211)</td>\n",
       "    </tr>\n",
       "    <tr>\n",
       "      <th>$m_{T}({track},{p}_{{T}}^{{ miss}}) &gt; 130$ GeV</th>\n",
       "      <td>(3.8, 0.183)</td>\n",
       "    </tr>\n",
       "    <tr>\n",
       "      <th>Electron veto</th>\n",
       "      <td>(3.8, 0.183)</td>\n",
       "    </tr>\n",
       "    <tr>\n",
       "      <th>Hadron/tau veto</th>\n",
       "      <td>(3.8, 0.183)</td>\n",
       "    </tr>\n",
       "    <tr>\n",
       "      <th>(SR-Low - no mass Window)</th>\n",
       "      <td>(0.8, 0.039)</td>\n",
       "    </tr>\n",
       "    <tr>\n",
       "      <th>(SR-High - no mass Window)</th>\n",
       "      <td>(1.92, 0.092)</td>\n",
       "    </tr>\n",
       "  </tbody>\n",
       "</table>\n",
       "</div>"
      ],
      "text/plain": [
       "                                                            0\n",
       "mLLP                                                   1300.0\n",
       "tau_ns                                                     10\n",
       "Total                                             (20.8, 1.0)\n",
       "Event and jet Cleaning                          (20.6, 0.995)\n",
       "Trigger                                         (11.2, 0.539)\n",
       "Primary vertex                                  (11.2, 0.539)\n",
       "$E_{T}^{miss}>170$ GeV                           (7.9, 0.381)\n",
       "Track in PV                                      (7.8, 0.378)\n",
       "$p_{T} > 50$ GeV                                 (6.8, 0.326)\n",
       "Track quality requirements                       (5.8, 0.279)\n",
       "Track isolation                                  (5.1, 0.244)\n",
       "$p_{T} > 120$ GeV                                (5.0, 0.242)\n",
       "Track momentum uncertainty                       (4.8, 0.231)\n",
       "$|\\eta|<1.8$                                    (4.39, 0.211)\n",
       "$m_{T}({track},{p}_{{T}}^{{ miss}}) > 130$ GeV   (3.8, 0.183)\n",
       "Electron veto                                    (3.8, 0.183)\n",
       "Hadron/tau veto                                  (3.8, 0.183)\n",
       "(SR-Low - no mass Window)                        (0.8, 0.039)\n",
       "(SR-High - no mass Window)                      (1.92, 0.092)"
      ]
     },
     "execution_count": 8,
     "metadata": {},
     "output_type": "execute_result"
    }
   ],
   "source": [
    "df.T"
   ]
  },
  {
   "cell_type": "code",
   "execution_count": null,
   "id": "7b079b3a",
   "metadata": {},
   "outputs": [],
   "source": []
  }
 ],
 "metadata": {
  "kernelspec": {
   "display_name": "Python 3 (ipykernel)",
   "language": "python",
   "name": "python3"
  },
  "language_info": {
   "codemirror_mode": {
    "name": "ipython",
    "version": 3
   },
   "file_extension": ".py",
   "mimetype": "text/x-python",
   "name": "python",
   "nbconvert_exporter": "python",
   "pygments_lexer": "ipython3",
   "version": "3.9.7"
  }
 },
 "nbformat": 4,
 "nbformat_minor": 5
}
