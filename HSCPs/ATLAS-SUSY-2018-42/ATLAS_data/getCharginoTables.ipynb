{
 "cells": [
  {
   "cell_type": "code",
   "execution_count": 1,
   "metadata": {},
   "outputs": [],
   "source": [
    "import numpy as np\n",
    "import pandas as pd"
   ]
  },
  {
   "cell_type": "markdown",
   "metadata": {},
   "source": [
    "### Load ATLAS Data"
   ]
  },
  {
   "cell_type": "markdown",
   "metadata": {},
   "source": [
    "#### Acceptance"
   ]
  },
  {
   "cell_type": "code",
   "execution_count": 2,
   "metadata": {},
   "outputs": [],
   "source": [
    "tauDict = {'chargino': {0.2 : (9,95), 1.0 : (31,76), 4.0 : (53,57), 10.0 : (75,38), 30.0 : (97,19), 1e10 : (119,0)}\n",
    "         }\n",
    "           \n",
    "\n",
    "dfs = []\n",
    "files = {'chargino' : './HEPData-ins2080541-v1-csv/Acceptance,Chargino.csv'}\n",
    "for tag in tauDict:\n",
    "    for tau,(skip_header,skip_footer) in tauDict[tag].items():\n",
    "        data = np.genfromtxt(files[tag],skip_header=skip_header,delimiter=',',names=True,skip_footer=skip_footer)\n",
    "        newDF = pd.DataFrame.from_dict({'mLLP' : data['Mass_GeV']})\n",
    "        newDF['Acceptance'] = data['Acceptance']\n",
    "        newDF['tau_ns'] = tau\n",
    "        dfs.append(newDF)\n",
    "\n",
    "atlasAccDF = pd.concat(dfs, ignore_index=True)"
   ]
  },
  {
   "cell_type": "markdown",
   "metadata": {},
   "source": [
    "#### Event Level Efficiency"
   ]
  },
  {
   "cell_type": "code",
   "execution_count": 3,
   "metadata": {},
   "outputs": [],
   "source": [
    "dfs = []\n",
    "files = {'chargino' : './HEPData-ins2080541-v1-csv/Event-levelefficiency,Chargino.csv'}\n",
    "for tag in tauDict:\n",
    "    for tau,(skip_header,skip_footer) in tauDict[tag].items():\n",
    "        data = np.genfromtxt(files[tag],skip_header=skip_header,delimiter=',',names=True,skip_footer=skip_footer)\n",
    "        newDF = pd.DataFrame.from_dict({'mLLP' : data['Mass_GeV']})\n",
    "        newDF['Event Efficiency'] = data['Eventlevel_Efficiency']\n",
    "        newDF['tau_ns'] = tau\n",
    "        dfs.append(newDF)\n",
    "\n",
    "atlasEvtEffDF = pd.concat(dfs, ignore_index=True)"
   ]
  },
  {
   "cell_type": "markdown",
   "metadata": {},
   "source": [
    "#### SR Efficiency"
   ]
  },
  {
   "cell_type": "code",
   "execution_count": 4,
   "metadata": {},
   "outputs": [],
   "source": [
    "atlasSRs = []\n",
    "for sr in ['Inclusive_Low','Inclusive_High']:\n",
    "    sr_tag = sr.split('_')[1]\n",
    "    dfs = []\n",
    "    files = {'chargino' : './HEPData-ins2080541-v1-csv/Efficiency,SR-%s,Chargino.csv'%sr}\n",
    "    for tag in tauDict:\n",
    "        for tau,(skip_header,skip_footer) in tauDict[tag].items():\n",
    "            data = np.genfromtxt(files[tag],skip_header=skip_header,delimiter=',',names=True,skip_footer=skip_footer)\n",
    "            newDF = pd.DataFrame.from_dict({'mLLP' : data['Mass_GeV']})\n",
    "            newDF['(SR-%s - no mass Window)' %sr_tag] = data['Efficiency_%s' %sr]\n",
    "            newDF['tau_ns'] = tau\n",
    "            dfs.append(newDF)\n",
    "\n",
    "    atlasSRs.append(pd.concat(dfs, ignore_index=True))\n",
    "atlasSREffDF = pd.merge(*atlasSRs)"
   ]
  },
  {
   "cell_type": "code",
   "execution_count": 5,
   "metadata": {},
   "outputs": [],
   "source": [
    "atlasDF = pd.merge(atlasAccDF, atlasEvtEffDF,how='inner')\n",
    "atlasDF = pd.merge(atlasDF, atlasSREffDF,how='inner')"
   ]
  },
  {
   "cell_type": "code",
   "execution_count": 7,
   "metadata": {},
   "outputs": [],
   "source": [
    "orderColumns = ['mLLP','tau_ns']\n",
    "atlasDF.sort_values(orderColumns,inplace=True,\n",
    "                ascending=[True,True],ignore_index=True)\n",
    "res = atlasDF.reindex(columns=orderColumns+[c for c in atlasDF.columns if c not in orderColumns])"
   ]
  },
  {
   "cell_type": "code",
   "execution_count": 8,
   "metadata": {},
   "outputs": [],
   "source": [
    "atlasDF.to_pickle('charginoTables.pcl')"
   ]
  },
  {
   "cell_type": "code",
   "execution_count": null,
   "metadata": {},
   "outputs": [],
   "source": []
  }
 ],
 "metadata": {
  "kernelspec": {
   "display_name": "Python 3",
   "language": "python",
   "name": "python3"
  },
  "language_info": {
   "codemirror_mode": {
    "name": "ipython",
    "version": 3
   },
   "file_extension": ".py",
   "mimetype": "text/x-python",
   "name": "python",
   "nbconvert_exporter": "python",
   "pygments_lexer": "ipython3",
   "version": "3.10.12"
  }
 },
 "nbformat": 4,
 "nbformat_minor": 2
}
