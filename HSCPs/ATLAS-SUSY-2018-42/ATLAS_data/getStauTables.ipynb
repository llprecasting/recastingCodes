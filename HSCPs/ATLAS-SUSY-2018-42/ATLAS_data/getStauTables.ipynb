{
 "cells": [
  {
   "cell_type": "code",
   "execution_count": 14,
   "metadata": {},
   "outputs": [],
   "source": [
    "import numpy as np\n",
    "import pandas as pd"
   ]
  },
  {
   "cell_type": "markdown",
   "metadata": {},
   "source": [
    "### Load ATLAS Data"
   ]
  },
  {
   "cell_type": "markdown",
   "metadata": {},
   "source": [
    "#### Acceptance"
   ]
  },
  {
   "cell_type": "code",
   "execution_count": 15,
   "metadata": {},
   "outputs": [],
   "source": [
    "tauDict = {'stau': {0.2 : (9,70), 1.0 : (26,56), 3.0 : (43,42), 10.0 : (60,28), 30.0 : (77,14), 1e10 : (94,0)}\n",
    "         }\n",
    "           \n",
    "\n",
    "dfs = []\n",
    "files = {'stau' : './HEPData-ins2080541-v1-csv/Acceptance,Stau.csv'}\n",
    "for tag in tauDict:\n",
    "    for tau,(skip_header,skip_footer) in tauDict[tag].items():\n",
    "        data = np.genfromtxt(files[tag],skip_header=skip_header,delimiter=',',names=True,skip_footer=skip_footer)\n",
    "        newDF = pd.DataFrame.from_dict({'mLLP' : data['Mass_GeV']})\n",
    "        newDF['Acceptance'] = data['Acceptance']\n",
    "        newDF['tau_ns'] = tau\n",
    "        dfs.append(newDF)\n",
    "\n",
    "atlasAccDF = pd.concat(dfs, ignore_index=True)"
   ]
  },
  {
   "cell_type": "markdown",
   "metadata": {},
   "source": [
    "#### Event Level Efficiency"
   ]
  },
  {
   "cell_type": "code",
   "execution_count": 16,
   "metadata": {},
   "outputs": [],
   "source": [
    "dfs = []\n",
    "files = {'stau' : './HEPData-ins2080541-v1-csv/Event-levelefficiency,Stau.csv'}\n",
    "for tag in tauDict:\n",
    "    for tau,(skip_header,skip_footer) in tauDict[tag].items():\n",
    "        data = np.genfromtxt(files[tag],skip_header=skip_header,delimiter=',',names=True,skip_footer=skip_footer)\n",
    "        newDF = pd.DataFrame.from_dict({'mLLP' : data['Mass_GeV']})\n",
    "        newDF['Event Efficiency'] = data['Eventlevel_Efficiency']\n",
    "        newDF['tau_ns'] = tau\n",
    "        dfs.append(newDF)\n",
    "\n",
    "atlasEvtEffDF = pd.concat(dfs, ignore_index=True)"
   ]
  },
  {
   "cell_type": "markdown",
   "metadata": {},
   "source": [
    "#### SR Efficiency"
   ]
  },
  {
   "cell_type": "code",
   "execution_count": 17,
   "metadata": {},
   "outputs": [],
   "source": [
    "atlasSRs = []\n",
    "for sr in ['Inclusive_Low','Inclusive_High']:\n",
    "    sr_tag = sr.split('_')[1]\n",
    "    dfs = []\n",
    "    files = {'stau' : './HEPData-ins2080541-v1-csv/Efficiency,SR-%s,Stau.csv'%sr}\n",
    "    for tag in tauDict:\n",
    "        for tau,(skip_header,skip_footer) in tauDict[tag].items():\n",
    "            data = np.genfromtxt(files[tag],skip_header=skip_header,delimiter=',',names=True,skip_footer=skip_footer)\n",
    "            newDF = pd.DataFrame.from_dict({'mLLP' : data['Mass_GeV']})\n",
    "            newDF['(SR-%s - no mass Window)' %sr_tag] = data['Efficiency_%s' %sr]\n",
    "            newDF['tau_ns'] = tau\n",
    "            dfs.append(newDF)\n",
    "\n",
    "    atlasSRs.append(pd.concat(dfs, ignore_index=True))\n",
    "atlasSREffDF = pd.merge(*atlasSRs)"
   ]
  },
  {
   "cell_type": "code",
   "execution_count": 18,
   "metadata": {},
   "outputs": [],
   "source": [
    "atlasDF = pd.merge(atlasAccDF, atlasEvtEffDF,how='inner')\n",
    "atlasDF = pd.merge(atlasDF, atlasSREffDF,how='inner')"
   ]
  },
  {
   "cell_type": "code",
   "execution_count": 19,
   "metadata": {},
   "outputs": [],
   "source": [
    "orderColumns = ['mLLP','tau_ns']\n",
    "atlasDF.sort_values(orderColumns,inplace=True,\n",
    "                ascending=[True,True],ignore_index=True)\n",
    "res = atlasDF.reindex(columns=orderColumns+[c for c in atlasDF.columns if c not in orderColumns])"
   ]
  },
  {
   "cell_type": "code",
   "execution_count": 20,
   "metadata": {},
   "outputs": [],
   "source": [
    "atlasDF.to_pickle('stauTables.pcl')"
   ]
  },
  {
   "cell_type": "code",
   "execution_count": null,
   "metadata": {},
   "outputs": [],
   "source": []
  }
 ],
 "metadata": {
  "kernelspec": {
   "display_name": "Python 3",
   "language": "python",
   "name": "python3"
  },
  "language_info": {
   "codemirror_mode": {
    "name": "ipython",
    "version": 3
   },
   "file_extension": ".py",
   "mimetype": "text/x-python",
   "name": "python",
   "nbconvert_exporter": "python",
   "pygments_lexer": "ipython3",
   "version": "3.10.12"
  }
 },
 "nbformat": 4,
 "nbformat_minor": 2
}
