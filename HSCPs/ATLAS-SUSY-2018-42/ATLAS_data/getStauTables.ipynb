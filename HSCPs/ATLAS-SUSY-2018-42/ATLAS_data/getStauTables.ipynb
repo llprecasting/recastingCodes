{
 "cells": [
  {
   "cell_type": "code",
   "execution_count": 1,
   "metadata": {},
   "outputs": [],
   "source": [
    "import numpy as np\n",
    "import pandas as pd"
   ]
  },
  {
   "cell_type": "markdown",
   "metadata": {},
   "source": [
    "### Load ATLAS Data"
   ]
  },
  {
   "cell_type": "markdown",
   "metadata": {},
   "source": [
    "#### Acceptance"
   ]
  },
  {
   "cell_type": "code",
   "execution_count": 2,
   "metadata": {},
   "outputs": [],
   "source": [
    "tauDict = {'stau': {0.3 : (9,70), 1.0 : (26,56), 3.0 : (43,42), 10.0 : (60,28), 30.0 : (77,14), 1e10 : (94,0)}\n",
    "         }\n",
    "           \n",
    "\n",
    "dfs = []\n",
    "files = {'stau' : './HEPData-ins2080541-v1-csv/Acceptance,Stau.csv'}\n",
    "for tag in tauDict:\n",
    "    for tau,(skip_header,skip_footer) in tauDict[tag].items():\n",
    "        data = np.genfromtxt(files[tag],skip_header=skip_header,delimiter=',',names=True,skip_footer=skip_footer)\n",
    "        newDF = pd.DataFrame.from_dict({'mLLP' : data['Mass_GeV']})\n",
    "        newDF['Acceptance'] = data['Acceptance']\n",
    "        newDF['tau_ns'] = tau\n",
    "        dfs.append(newDF)\n",
    "\n",
    "atlasAccDF = pd.concat(dfs, ignore_index=True)"
   ]
  },
  {
   "cell_type": "markdown",
   "metadata": {},
   "source": [
    "#### Event Level Efficiency"
   ]
  },
  {
   "cell_type": "code",
   "execution_count": 3,
   "metadata": {},
   "outputs": [],
   "source": [
    "dfs = []\n",
    "files = {'stau' : './HEPData-ins2080541-v1-csv/Event-levelefficiency,Stau.csv'}\n",
    "for tag in tauDict:\n",
    "    for tau,(skip_header,skip_footer) in tauDict[tag].items():\n",
    "        data = np.genfromtxt(files[tag],skip_header=skip_header,delimiter=',',names=True,skip_footer=skip_footer)\n",
    "        newDF = pd.DataFrame.from_dict({'mLLP' : data['Mass_GeV']})\n",
    "        newDF['Event Efficiency'] = data['Eventlevel_Efficiency']\n",
    "        newDF['tau_ns'] = tau\n",
    "        dfs.append(newDF)\n",
    "\n",
    "atlasEvtEffDF = pd.concat(dfs, ignore_index=True)"
   ]
  },
  {
   "cell_type": "markdown",
   "metadata": {},
   "source": [
    "#### SR Efficiency"
   ]
  },
  {
   "cell_type": "code",
   "execution_count": 4,
   "metadata": {},
   "outputs": [],
   "source": [
    "atlasSRs = []\n",
    "for sr in ['Inclusive_Low','Inclusive_High']:\n",
    "    sr_tag = sr.split('_')[1]\n",
    "    dfs = []\n",
    "    files = {'stau' : './HEPData-ins2080541-v1-csv/Efficiency,SR-%s,Stau.csv'%sr}\n",
    "    for tag in tauDict:\n",
    "        for tau,(skip_header,skip_footer) in tauDict[tag].items():\n",
    "            data = np.genfromtxt(files[tag],skip_header=skip_header,delimiter=',',names=True,skip_footer=skip_footer)\n",
    "            newDF = pd.DataFrame.from_dict({'mLLP' : data['Mass_GeV']})\n",
    "            newDF['(SR-%s - no mass Window)' %sr_tag] = data['Efficiency_%s' %sr]\n",
    "            newDF['tau_ns'] = tau\n",
    "            dfs.append(newDF)\n",
    "\n",
    "    atlasSRs.append(pd.concat(dfs, ignore_index=True))\n",
    "atlasSREffDF = pd.merge(*atlasSRs)"
   ]
  },
  {
   "cell_type": "code",
   "execution_count": 5,
   "metadata": {},
   "outputs": [],
   "source": [
    "atlasDF = pd.merge(atlasAccDF, atlasEvtEffDF,how='inner')\n",
    "atlasDF = pd.merge(atlasDF, atlasSREffDF,how='inner')"
   ]
  },
  {
   "cell_type": "code",
   "execution_count": 6,
   "metadata": {},
   "outputs": [],
   "source": [
    "orderColumns = ['mLLP','tau_ns']\n",
    "atlasDF.sort_values(orderColumns,inplace=True,\n",
    "                ascending=[True,True],ignore_index=True)\n",
    "res = atlasDF.reindex(columns=orderColumns+[c for c in atlasDF.columns if c not in orderColumns])"
   ]
  },
  {
   "cell_type": "code",
   "execution_count": 7,
   "metadata": {},
   "outputs": [],
   "source": [
    "atlasDF.to_pickle('stauTables.pcl')"
   ]
  },
  {
   "cell_type": "code",
   "execution_count": 8,
   "metadata": {},
   "outputs": [],
   "source": [
    "pts = sorted(list(zip(atlasDF['mLLP'],atlasDF['tau_ns'],atlasDF['Acceptance'])))"
   ]
  },
  {
   "cell_type": "code",
   "execution_count": 9,
   "metadata": {},
   "outputs": [
    {
     "name": "stdout",
     "output_type": "stream",
     "text": [
      "[(100.00, 0.3), (100.00, 1), (100.00, 10), (100.00, 1e+10), (100.00, 3), (100.00, 30), (1000.00, 0.3), (1000.00, 1), (1000.00, 10), (1000.00, 1e+10), (1000.00, 3), (1000.00, 30), (200.00, 0.3), (200.00, 1), (200.00, 10), (200.00, 1e+10), (200.00, 3), (200.00, 30), (300.00, 0.3), (300.00, 1), (300.00, 10), (300.00, 1e+10), (300.00, 3), (300.00, 30), (400.00, 0.3), (400.00, 1), (400.00, 10), (400.00, 1e+10), (400.00, 3), (400.00, 30), (450.00, 0.3), (450.00, 1), (450.00, 10), (450.00, 1e+10), (450.00, 3), (450.00, 30), (500.00, 0.3), (500.00, 1), (500.00, 10), (500.00, 1e+10), (500.00, 3), (500.00, 30), (550.00, 0.3), (550.00, 1), (550.00, 10), (550.00, 1e+10), (550.00, 3), (550.00, 30), (600.00, 0.3), (600.00, 1), (600.00, 10), (600.00, 1e+10), (600.00, 3), (600.00, 30), (650.00, 0.3), (650.00, 1), (650.00, 10), (650.00, 1e+10), (650.00, 3), (650.00, 30), (700.00, 0.3), (700.00, 1), (700.00, 10), (700.00, 1e+10), (700.00, 3), (700.00, 30), (800.00, 0.3), (800.00, 1), (800.00, 10), (800.00, 1e+10), (800.00, 3), (800.00, 30), (900.00, 0.3), (900.00, 1), (900.00, 10), (900.00, 1e+10), (900.00, 3), (900.00, 30)]\n"
     ]
    }
   ],
   "source": [
    "ptsIni = sorted([(\"%1.2f\" %pt[0], \"%1.2g\" %float(pt[1])) for pt in pts])\n",
    "print(str(ptsIni).replace(\"'\", \"\"))"
   ]
  },
  {
   "cell_type": "code",
   "execution_count": null,
   "metadata": {},
   "outputs": [],
   "source": []
  }
 ],
 "metadata": {
  "kernelspec": {
   "display_name": "Python 3",
   "language": "python",
   "name": "python3"
  },
  "language_info": {
   "codemirror_mode": {
    "name": "ipython",
    "version": 3
   },
   "file_extension": ".py",
   "mimetype": "text/x-python",
   "name": "python",
   "nbconvert_exporter": "python",
   "pygments_lexer": "ipython3",
   "version": "3.10.12"
  }
 },
 "nbformat": 4,
 "nbformat_minor": 2
}
