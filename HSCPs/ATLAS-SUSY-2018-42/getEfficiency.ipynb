{
 "cells": [
  {
   "cell_type": "code",
   "execution_count": 1,
   "metadata": {},
   "outputs": [
    {
     "name": "stdout",
     "output_type": "stream",
     "text": [
      "Welcome to JupyROOT 6.24/06\n"
     ]
    }
   ],
   "source": [
    "import sys,os,glob,copy\n",
    "import numpy as np\n",
    "import pyslha\n",
    "import pandas as pd\n",
    "import ROOT\n",
    "import seaborn as sns\n",
    "from collections import namedtuple\n",
    "from matplotlib import pyplot as plt\n",
    "from scipy.interpolate import interp1d,griddata,LinearNDInterpolator\n",
    "from ATLAS_data.effFunctions import (getMuonRecoEff,getTriggerEff,getTrackEff,\n",
    "                                     getSelectionEff,getTargetMass,getMassSelEff)\n",
    "\n",
    "# os.environ['ROOT_INCLUDE_PATH'] = os.path.abspath('./MG5/Delphes/external')\n",
    "\n",
    "ROOT.gSystem.Load(os.path.abspath(\"./MG5/Delphes/libDelphes.so\"))\n",
    "\n",
    "\n",
    "ROOT.gInterpreter.Declare('#include \"classes/SortableObject.h\"')\n",
    "ROOT.gInterpreter.Declare('#include \"classes/DelphesClasses.h\"')\n",
    "ROOT.gInterpreter.Declare('#include \"external/ExRootAnalysis/ExRootTreeReader.h\"')\n",
    "\n",
    "plt.rcParams.update({\n",
    "    \"figure.figsize\" : (8,6),\n",
    "    \"lines.linewidth\" : 3.0,\n",
    "    \"text.usetex\": True,\n",
    "    \"font.family\": \"sans-serif\",\n",
    "    \"font.sans-serif\": [\"Helvetica\"]})\n",
    "\n",
    "plt.rcParams.update({\"savefig.dpi\" : 300}) #Figure resolution\n",
    "\n",
    "\n",
    "#Define plotting style:\n",
    "sns.set() #Set style\n",
    "sns.set_style('ticks',{'font.family':'Times New Roman', 'font.serif':'Times New Roman'})\n",
    "sns.set_context('paper', font_scale=1.8)\n",
    "cm = plt.cm.get_cmap('RdYlBu')"
   ]
  },
  {
   "cell_type": "code",
   "execution_count": 2,
   "metadata": {},
   "outputs": [],
   "source": [
    "inputFiles = {'stable' : './pp2C1N1/Events/run_02/10ns1300_delphes_events.root' }\n",
    "# xsecsPB = {'stable' : 7.133e-3, 'prompt' : 7.133e-3}"
   ]
  },
  {
   "cell_type": "code",
   "execution_count": 3,
   "metadata": {},
   "outputs": [
    {
     "name": "stdout",
     "output_type": "stream",
     "text": [
      "stable :\n",
      "mLLP =  1300.0\n",
      "tau (ns) =  9.999999999999998\n"
     ]
    }
   ],
   "source": [
    "modelInfoDict = {}\n",
    "for label,f in inputFiles.items():\n",
    "    if not os.path.isfile(f):\n",
    "        print('File %s not found' %f)\n",
    "        raise OSError()\n",
    "    parsDict = {}    \n",
    "    for banner in glob.glob(os.path.join(os.path.dirname(f),'*banner*txt')):\n",
    "        with open(banner,'r') as ff:\n",
    "            slhaData = ff.read().split('<slha>')[1].split('</slha>')[0]\n",
    "            slhaData = pyslha.readSLHA(slhaData)\n",
    "    parsDict = {}\n",
    "    parsDict['mLLP'] = slhaData.blocks['MASS'][1000024]\n",
    "    parsDict['mLSP'] = slhaData.blocks['MASS'][1000022]\n",
    "    parsDict['width'] = slhaData.decays[1000024].totalwidth\n",
    "    if parsDict['width']:\n",
    "        parsDict['tau_ns'] = (6.582e-25/parsDict['width'])*1e9\n",
    "    else:\n",
    "        parsDict['tau_ns'] = np.inf    \n",
    "    modelInfo = namedtuple('modelInfo', ' '.join(parsDict.keys()))\n",
    "    m = modelInfo(**parsDict)\n",
    "    modelInfoDict[label] = m\n",
    "    print(label,':')\n",
    "    print('mLLP = ',m.mLLP)\n",
    "    print('tau (ns) = ',m.tau_ns)"
   ]
  },
  {
   "cell_type": "markdown",
   "metadata": {},
   "source": [
    "### Loop over events, apply basic selection criterium and compute masses"
   ]
  },
  {
   "cell_type": "code",
   "execution_count": 18,
   "metadata": {},
   "outputs": [
    {
     "name": "stdout",
     "output_type": "stream",
     "text": [
      "Reading 5000 events\n",
      "Total cross-section =  0.00012611798592843115\n",
      "SR= {1600.0: {'Low': 0.004659272504941944, 'High': 0.014391183910452694}}\n"
     ]
    }
   ],
   "source": [
    "weightsDict = {}\n",
    "massesDict = {}\n",
    "gbetaDict = {}\n",
    "metDict = {}\n",
    "newMetDict = {}\n",
    "metCaloDict = {}\n",
    "genMetDict = {}\n",
    "\n",
    "for label,inputFile in inputFiles.items():\n",
    "    \n",
    "    modelPars = modelInfoDict[label]\n",
    "\n",
    "    f = ROOT.TFile(inputFile,'read')\n",
    "    tree = f.Get(\"Delphes\")\n",
    "    nevts = tree.GetEntries()\n",
    "    \n",
    "    gbetaDict[label] = []\n",
    "    metDict[label] = []\n",
    "    newMetDict[label] = []\n",
    "    metCaloDict[label] = []\n",
    "    genMetDict[label] = []\n",
    "    weightsDict[label] = []\n",
    "    isolation = []\n",
    "    rdecay = []\n",
    "    totalWeight = 0.0\n",
    "    totalWeight60 = 0.0\n",
    "    srWeights = {}\n",
    "    \n",
    "    acceptanceWeight = 0.0\n",
    "    eventLevelWeight = 0.0\n",
    "    srLowWeight = 0.0\n",
    "    srHighWeight = 0.0\n",
    "\n",
    "    weights = []\n",
    "    masses = []\n",
    "    nevts = 5000\n",
    "    print('Reading %i events' %nevts)\n",
    "    for ievt in range(nevts):\n",
    "        tree.GetEntry(ievt)\n",
    "        weight = tree.Event.At(0).Weight\n",
    "        totalWeight += weight\n",
    "        met = tree.MissingET.At(0).MET\n",
    "        metCalo = tree.MissingETCalo.At(0).MET\n",
    "        genMet = tree.GenMissingET.At(0).MET\n",
    "        metDict[label].append(met)\n",
    "        metCaloDict[label].append(metCalo)\n",
    "        genMetDict[label].append(genMet)\n",
    "        \n",
    "        \n",
    "        \n",
    "        hscpCandidates = []\n",
    "        charginos = []\n",
    "        neutralinos = []\n",
    "        for iptc in range(tree.Particle.GetEntries()):\n",
    "            particle = tree.Particle.At(iptc)\n",
    "            if abs(particle.PID) == 1000024 and particle.Status ==1:\n",
    "                charginos.append(particle)\n",
    "            elif abs(particle.PID) == 1000022 and particle.Status ==1:\n",
    "                neutralinos.append(particle)\n",
    "            # Get HSCP\n",
    "            if abs(particle.Charge) != 1: # Skip neutral particles\n",
    "                continue\n",
    "            if particle.Mass < 20.: # Skip light (SM) particles\n",
    "                continue\n",
    "            if particle.Status != 1: # If HSCP is unstable check if it is the last step\n",
    "                d1 = particle.D1\n",
    "                d2 = particle.D2\n",
    "                daughters = [tree.Particle.At(d) for d in range(d1,d2+1)]\n",
    "                if any(daughter.PID == particle.PID for daughter in daughters):\n",
    "                    continue\n",
    "                # Get the HSCP decay radius from the first daughter production vertex:\n",
    "                r_decay = np.sqrt(daughters[0].X**2 +daughters[0].Y**2)      \n",
    "                z_decay = daughters[0].Z\n",
    "            else:\n",
    "                r_decay = np.inf\n",
    "                z_decay = np.inf\n",
    "                \n",
    "            # Add decay position\n",
    "            particle.r_decay = r_decay\n",
    "            rdecay.append(r_decay)\n",
    "            particle.z_decay = z_decay\n",
    "            # Add beta and gamma*beta\n",
    "            p = np.sqrt(particle.Px**2 +particle.Py**2 + particle.Pz**2)\n",
    "            particle.beta = p/particle.E\n",
    "            particle.gbeta = p/particle.Mass\n",
    "            hscpCandidates.append(particle)\n",
    "        \n",
    "#         if len(charginos) != len(hscpCandidates):\n",
    "#             print('Found %i charginos and %i HSCP candidates' %(len(charginos),len(hscpCandidates)))\n",
    "#             break\n",
    "            \n",
    "        # Get gaugino pair pT\n",
    "        px = sum([hscp.Px for hscp in hscpCandidates])+sum([n1.Px for n1 in neutralinos])\n",
    "        py = sum([hscp.Py for hscp in hscpCandidates])+sum([n1.Py for n1 in neutralinos])\n",
    "        gauginoPT = np.sqrt(px**2 + py**2)\n",
    "        if gauginoPT > 60.:\n",
    "            totalWeight60 += weight\n",
    "            \n",
    "        # Apply selection to HSCP candidates (following ATLAS snippet)\n",
    "        hscpCandidates = [hscp for hscp in hscpCandidates[:] \n",
    "                          if (hscp.PT > 120. and abs(hscp.Eta) < 1.8 \n",
    "                              and hscp.r_decay > 500.0)]\n",
    "        \n",
    "        if not hscpCandidates:\n",
    "            continue\n",
    "        \n",
    "        if gauginoPT > 60.0:\n",
    "            acceptanceWeight += weight       \n",
    "            \n",
    "        # Apply isolation requirement for HSCP tracks\n",
    "        tracks = tree.Track\n",
    "        for hscp in hscpCandidates:\n",
    "            sumPT = 0.0\n",
    "            for itrk in range(tracks.GetEntries()):\n",
    "                track = tracks.At(itrk)\n",
    "                if abs(track.PID) > 10000:\n",
    "                    print(track.PID)\n",
    "                deltaR = np.sqrt((track.Phi-hscp.Phi)**2 +(track.Eta-hscp.Eta)**2)\n",
    "                if deltaR > 0.3:\n",
    "                    continue\n",
    "                sumPT += track.PT\n",
    "            hscp.iso = sumPT\n",
    "            isolation.append(sumPT)\n",
    "        # Remove non-isolated HSCPs\n",
    "#         hscpCandidates = [hscp for hscp in hscpCandidates[:] if hscp.iso < 5.0]\n",
    "        \n",
    "        if not hscpCandidates:\n",
    "            continue\n",
    "        \n",
    "        hscps = hscpCandidates[:]\n",
    "        muonsLLP = []\n",
    "        # Get probability of tagging the HSCP as muon:\n",
    "        for hscp in hscpCandidates:\n",
    "            continue\n",
    "            if hscp.r_decay < 3.9e3 and hscp.z_decay < 6e3: # Skip decays before MS\n",
    "                continue\n",
    "            beta = hscp.beta\n",
    "            eta = abs(hscp.Eta)\n",
    "            eff = getMuonRecoEff(beta,eta,hscp.PID)\n",
    "            # Randomly reconstrunct the HSCP as a muon\n",
    "            if np.random.uniform() < eff:\n",
    "                muonsLLP.append(hscp)\n",
    "        \n",
    "        if muonsLLP:\n",
    "            # Remove HSCPs:\n",
    "            hscps = [hscp for hscp in hscps[:] if hscp not in muonsLLP]\n",
    "            # Remove muonsLLp from MET:            \n",
    "            pxTot = sum([m.Px for m in muonsLLP])\n",
    "            pyTot = sum([m.Py for m in muonsLLP])\n",
    "            metx = met*np.cos(tree.MissingET.At(0).Phi)\n",
    "            mety = met*np.sin(tree.MissingET.At(0).Phi)\n",
    "            newMet = np.sqrt((metx-pxTot)**2 + (mety-pyTot)**2)\n",
    "            met = newMet\n",
    "        newMetDict[label].append(met)\n",
    "\n",
    "        triggerEff = getTriggerEff(metCalo)\n",
    "        eventEff = getSelectionEff(met)\n",
    "        if gauginoPT > 60.0:\n",
    "            eventLevelWeight += weight*triggerEff*eventEff        \n",
    "        \n",
    "        \n",
    "        if not hscps:\n",
    "            continue         \n",
    "#         if met < 170.0:\n",
    "#             continue\n",
    "            \n",
    "        \n",
    "        hscpEffs = {'SR-Inclusive_High' : [], 'SR-Inclusive_Low' : [], 'targetMass' : []}\n",
    "        for hscp in hscps:\n",
    "            gbeta = hscp.gbeta\n",
    "            targetMass = getTargetMass(hscp.Mass)\n",
    "            if targetMass is None:\n",
    "                continue # Skip event if mass is outside all the mass windows\n",
    "            trackEffHigh = getTrackEff(gbeta,sr='High')\n",
    "            trackEffLow = getTrackEff(gbeta,sr='Low')\n",
    "            wMassLow = getMassSelEff(targetMass,sr='Low')\n",
    "            wMassHigh = getMassSelEff(targetMass,sr='High')\n",
    "            hscpEffs['SR-Inclusive_High'].append(trackEffHigh*wMassHigh)\n",
    "            hscpEffs['SR-Inclusive_Low'].append(trackEffLow*wMassLow)\n",
    "            hscpEffs['targetMass'].append(targetMass)\n",
    "            gbetaDict[label].append(gbeta)        \n",
    "            \n",
    "                      \n",
    "        if not hscpEffs['targetMass']:\n",
    "            continue\n",
    "        \n",
    "        # If the HSCPs have distinct masses, use the highest one:\n",
    "        targetMass = max(hscpEffs['targetMass'])\n",
    "        # Total event weight\n",
    "        hscpLow = np.array(hscpEffs['SR-Inclusive_Low'])\n",
    "        eventWeightLow = weight*triggerEff*eventEff*(1-np.prod(1.0-hscpLow))\n",
    "\n",
    "        hscpHigh = np.array(hscpEffs['SR-Inclusive_High'])\n",
    "        eventWeightHigh = weight*triggerEff*eventEff*(1-np.prod(1.0-hscpHigh))\n",
    "\n",
    "        # Collect intermediate efficiencies for validation\n",
    "        if gauginoPT > 60.0:\n",
    "            srLowWeight += weight*triggerEff*eventEff*(1-np.prod(1.0-hscpLow/wMassLow))\n",
    "            srHighWeight += weight*triggerEff*eventEff*(1-np.prod(1.0-hscpHigh/wMassHigh))\n",
    "        \n",
    "        \n",
    "        if not targetMass in srWeights:\n",
    "            srWeights[targetMass] = {'Low' : 0.0, 'High' : 0.0}\n",
    "        srWeights[targetMass]['Low'] += eventWeightLow\n",
    "        srWeights[targetMass]['High'] += eventWeightHigh\n",
    "\n",
    "    # weights = np.array(weights)\n",
    "    # masses = np.array(masses)\n",
    "    # weightsDict[label] = weights\n",
    "    # massesDict[label] = masses\n",
    "print('Total cross-section = ',totalWeight/nevts)\n",
    "print('SR=',srWeights)"
   ]
  },
  {
   "cell_type": "code",
   "execution_count": 17,
   "metadata": {},
   "outputs": [
    {
     "name": "stdout",
     "output_type": "stream",
     "text": [
      "Mass = 1300.0 GeV, lifetime = 10.00 ns:\n",
      "\t acceptance = 0.551\n",
      "\t event-level efficiency = 0.196\n",
      "\t efficiency for SR-Inclusive_High = 0.062\n",
      "\t efficiency for SR-Inclusive_Low = 0.020\n"
     ]
    }
   ],
   "source": [
    "# Debug info:\n",
    "# ATLAS values for stable charginos with mass = 600 GeV\n",
    "# (S95_Low = 15, S95_High = 4.2, totalXsec = 2.85e-2 pb, xsecUL = 1.52e-3 pb, lumi = 139/fb)\n",
    "print('Mass = %1.1f GeV, lifetime = %1.2f ns:' %(modelPars.mLLP,modelPars.tau_ns)) \n",
    "print('\\t acceptance = %1.3f' %(acceptanceWeight/totalWeight60)) # 0.737\n",
    "print('\\t event-level efficiency = %1.3f' %(eventLevelWeight/acceptanceWeight)) # 0.156\n",
    "print('\\t efficiency for SR-Inclusive_High = %1.3f' %(srHighWeight/acceptanceWeight)) # 0.033\n",
    "print('\\t efficiency for SR-Inclusive_Low = %1.3f' %(srLowWeight/acceptanceWeight)) # 0.021"
   ]
  },
  {
   "cell_type": "markdown",
   "metadata": {},
   "source": [
    "### Check ATLAS official values"
   ]
  },
  {
   "cell_type": "code",
   "execution_count": 7,
   "metadata": {},
   "outputs": [
    {
     "data": {
      "text/html": [
       "<div>\n",
       "<style scoped>\n",
       "    .dataframe tbody tr th:only-of-type {\n",
       "        vertical-align: middle;\n",
       "    }\n",
       "\n",
       "    .dataframe tbody tr th {\n",
       "        vertical-align: top;\n",
       "    }\n",
       "\n",
       "    .dataframe thead th {\n",
       "        text-align: right;\n",
       "    }\n",
       "</style>\n",
       "<table border=\"1\" class=\"dataframe\">\n",
       "  <thead>\n",
       "    <tr style=\"text-align: right;\">\n",
       "      <th></th>\n",
       "      <th>mass (GeV)</th>\n",
       "      <th>lifetime (ns)</th>\n",
       "      <th>width (GeV)</th>\n",
       "      <th>acceptance</th>\n",
       "      <th>event eff</th>\n",
       "      <th>SR-Inclusive_Low eff</th>\n",
       "      <th>SR-Inclusive_High eff</th>\n",
       "      <th>Expected Limit (pb)</th>\n",
       "      <th>Observed Limit (pb)</th>\n",
       "      <th>Signal Cross-Section (pb)</th>\n",
       "    </tr>\n",
       "  </thead>\n",
       "  <tbody>\n",
       "    <tr>\n",
       "      <th>68</th>\n",
       "      <td>1300.0</td>\n",
       "      <td>10.0</td>\n",
       "      <td>6.582000e-17</td>\n",
       "      <td>0.634</td>\n",
       "      <td>0.395</td>\n",
       "      <td>0.061</td>\n",
       "      <td>0.146</td>\n",
       "      <td>0.000696</td>\n",
       "      <td>0.00164</td>\n",
       "      <td>0.000322</td>\n",
       "    </tr>\n",
       "  </tbody>\n",
       "</table>\n",
       "</div>"
      ],
      "text/plain": [
       "    mass (GeV)  lifetime (ns)   width (GeV)  acceptance  event eff  \\\n",
       "68      1300.0           10.0  6.582000e-17       0.634      0.395   \n",
       "\n",
       "    SR-Inclusive_Low eff  SR-Inclusive_High eff  Expected Limit (pb)  \\\n",
       "68                 0.061                  0.146             0.000696   \n",
       "\n",
       "    Observed Limit (pb)  Signal Cross-Section (pb)  \n",
       "68              0.00164                   0.000322  "
      ]
     },
     "execution_count": 7,
     "metadata": {},
     "output_type": "execute_result"
    }
   ],
   "source": [
    "charginoData = pd.read_pickle('./ATLAS_data/charginoData.pcl')\n",
    "vals = charginoData[(charginoData['mass (GeV)'] == round(modelPars.mLLP,-2)) \n",
    "                    & (charginoData['lifetime (ns)'] == round(modelPars.tau_ns,0))]\n",
    "vals"
   ]
  },
  {
   "cell_type": "code",
   "execution_count": 9,
   "metadata": {},
   "outputs": [
    {
     "data": {
      "image/png": "[encoded data removed]",
      "text/plain": [
       "<Figure size 576x432 with 1 Axes>"
      ]
     },
     "metadata": {},
     "output_type": "display_data"
    }
   ],
   "source": [
    "bins = np.linspace(0.,2000.,30)\n",
    "plt.hist(metCaloDict['stable'],bins=bins,label='MET (Calo)',histtype='step',linewidth=3)\n",
    "plt.hist(metDict['stable'],bins=bins,label='MET (Total)',histtype='step',linewidth=3,linestyle='--')\n",
    "plt.hist(newMetDict['stable'],bins=bins,label='MET (New)',histtype='step',linewidth=3)\n",
    "plt.yscale('log')\n",
    "plt.legend()\n",
    "plt.show()"
   ]
  },
  {
   "cell_type": "code",
   "execution_count": 10,
   "metadata": {},
   "outputs": [
    {
     "name": "stdout",
     "output_type": "stream",
     "text": [
      "108.03028569395244 148.46983042851744\n"
     ]
    }
   ],
   "source": [
    "print(np.array(metCaloDict['stable']).mean(),np.array(metCaloDict['stable']).std())"
   ]
  },
  {
   "cell_type": "code",
   "execution_count": 11,
   "metadata": {},
   "outputs": [
    {
     "data": {
      "image/png": "[encoded data removed]",
      "text/plain": [
       "<Figure size 576x432 with 1 Axes>"
      ]
     },
     "metadata": {},
     "output_type": "display_data"
    }
   ],
   "source": [
    "plt.hist(isolation,bins=np.linspace(0.,20.,100))\n",
    "plt.xlim(0,10)\n",
    "plt.show()"
   ]
  },
  {
   "cell_type": "code",
   "execution_count": 12,
   "metadata": {},
   "outputs": [
    {
     "data": {
      "image/png": "[encoded data removed]",
      "text/plain": [
       "<Figure size 576x432 with 1 Axes>"
      ]
     },
     "metadata": {},
     "output_type": "display_data"
    }
   ],
   "source": [
    "gbeta = np.linspace(0.,3.,100)\n",
    "effHigh = [getTrackEff(gb,sr='High') for gb in gbeta]\n",
    "effLow = [getTrackEff(gb,sr='Low') for gb in gbeta]\n",
    "a = plt.plot(gbeta,effHigh,label='SR-Inclusive_High')\n",
    "b = plt.plot(gbeta,effLow,label='SR-Inclusive_Low')\n",
    "plt.hist(gbetaDict['stable'],bins=np.arange(0.,4.,0.1),\n",
    "         density=True,histtype='step',color='red',linewidth=2)\n",
    "\n",
    "atlas = np.array([[0.10317460317460325, 0.08475120385232726],[0.16666666666666652, 0.22589620117709996],\n",
    "[0.2460317460317456, 0.3871589085072231],\n",
    "[0.3095238095238093, 0.5957196361690746],\n",
    "[0.6428571428571428, 1.0586409844836813],\n",
    "[1.0396825396825395, 0.6447298020331731],\n",
    "[1.3015873015873014, 0.35981808453718633]])\n",
    "\n",
    "plt.scatter(atlas[:,0],0.95*atlas[:,1])\n",
    "# plt.yscale('log')\n",
    "plt.legend()\n",
    "plt.xlim(0.,4.)\n",
    "plt.grid()\n",
    "plt.show()"
   ]
  },
  {
   "cell_type": "code",
   "execution_count": null,
   "metadata": {},
   "outputs": [],
   "source": []
  },
  {
   "cell_type": "code",
   "execution_count": null,
   "metadata": {},
   "outputs": [],
   "source": [
    "(6.582e-25/6.582e-17)*1e9"
   ]
  },
  {
   "cell_type": "code",
   "execution_count": null,
   "metadata": {},
   "outputs": [],
   "source": []
  }
 ],
 "metadata": {
  "kernelspec": {
   "display_name": "Python 3 (ipykernel)",
   "language": "python",
   "name": "python3"
  },
  "language_info": {
   "codemirror_mode": {
    "name": "ipython",
    "version": 3
   },
   "file_extension": ".py",
   "mimetype": "text/x-python",
   "name": "python",
   "nbconvert_exporter": "python",
   "pygments_lexer": "ipython3",
   "version": "3.9.7"
  },
  "vscode": {
   "interpreter": {
    "hash": "916dbcbb3f70747c44a77c7bcd40155683ae19c65e1c03b4aa3499c5328201f1"
   }
  }
 },
 "nbformat": 4,
 "nbformat_minor": 4
}
