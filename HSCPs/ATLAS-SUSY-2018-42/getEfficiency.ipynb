{
 "cells": [
  {
   "cell_type": "code",
   "execution_count": 1,
   "metadata": {},
   "outputs": [
    {
     "name": "stdout",
     "output_type": "stream",
     "text": [
      "Welcome to JupyROOT 6.26/04\n"
     ]
    }
   ],
   "source": [
    "import sys,os,glob,copy\n",
    "import numpy as np\n",
    "import pyslha\n",
    "import pandas as pd\n",
    "import ROOT\n",
    "import seaborn as sns\n",
    "from collections import namedtuple\n",
    "from matplotlib import pyplot as plt\n",
    "from scipy.interpolate import interp1d,griddata,LinearNDInterpolator\n",
    "from ATLAS_data.effFunctions import (getMuonRecoEff,getTriggerEff,getTrackEff,\n",
    "                                     getSelectionEff,getTargetMass,getMassSelEff)\n",
    "\n",
    "# os.environ['ROOT_INCLUDE_PATH'] = os.path.abspath('./MG5/Delphes/external')\n",
    "\n",
    "ROOT.gSystem.Load(os.path.abspath(\"./MG5/Delphes/libDelphes.so\"))\n",
    "\n",
    "\n",
    "ROOT.gInterpreter.Declare('#include \"classes/SortableObject.h\"')\n",
    "ROOT.gInterpreter.Declare('#include \"classes/DelphesClasses.h\"')\n",
    "ROOT.gInterpreter.Declare('#include \"external/ExRootAnalysis/ExRootTreeReader.h\"')\n",
    "\n",
    "plt.rcParams.update({\n",
    "    \"figure.figsize\" : (8,6),\n",
    "    \"lines.linewidth\" : 3.0,\n",
    "    \"text.usetex\": True,\n",
    "    \"font.family\": \"sans-serif\",\n",
    "    \"font.sans-serif\": [\"Helvetica\"]})\n",
    "\n",
    "plt.rcParams.update({\"savefig.dpi\" : 300}) #Figure resolution\n",
    "\n",
    "\n",
    "#Define plotting style:\n",
    "sns.set() #Set style\n",
    "sns.set_style('ticks',{'font.family':'Times New Roman', 'font.serif':'Times New Roman'})\n",
    "sns.set_context('paper', font_scale=1.8)\n",
    "cm = plt.cm.get_cmap('RdYlBu')"
   ]
  },
  {
   "cell_type": "code",
   "execution_count": 2,
   "metadata": {},
   "outputs": [],
   "source": [
    "inputFiles = {'10ns' : ['./pp2C1X1_0j/Events/run_01/c1x1_10ns_13000GeV_0j_delphes_events.root','./pp2C1X1_1j/Events/run_01/c1x1_10ns_13000GeV_1j_delphes_events.root'] }\n",
    "# xsecsPB = {'stable' : 7.133e-3, 'prompt' : 7.133e-3}"
   ]
  },
  {
   "cell_type": "code",
   "execution_count": 3,
   "metadata": {},
   "outputs": [
    {
     "name": "stdout",
     "output_type": "stream",
     "text": [
      "10ns :\n",
      "mLLP =  1300.0\n",
      "tau (ns) =  9.999999999999998\n"
     ]
    }
   ],
   "source": [
    "modelInfoDict = {}\n",
    "for label,f in inputFiles.items():\n",
    "    f = f[0]\n",
    "    if not os.path.isfile(f):\n",
    "        print('File %s not found' %f)\n",
    "        raise OSError()\n",
    "    parsDict = {}    \n",
    "    for banner in glob.glob(os.path.join(os.path.dirname(f),'*banner*txt')):\n",
    "        with open(banner,'r') as ff:\n",
    "            slhaData = ff.read().split('<slha>')[1].split('</slha>')[0]\n",
    "            slhaData = pyslha.readSLHA(slhaData)\n",
    "    parsDict = {}\n",
    "    parsDict['mLLP'] = slhaData.blocks['MASS'][1000024]\n",
    "    parsDict['mLSP'] = slhaData.blocks['MASS'][1000022]\n",
    "    parsDict['width'] = slhaData.decays[1000024].totalwidth\n",
    "    if parsDict['width']:\n",
    "        parsDict['tau_ns'] = (6.582e-25/parsDict['width'])*1e9\n",
    "    else:\n",
    "        parsDict['tau_ns'] = np.inf    \n",
    "    modelInfo = namedtuple('modelInfo', ' '.join(parsDict.keys()))\n",
    "    m = modelInfo(**parsDict)\n",
    "    modelInfoDict[label] = m\n",
    "    print(label,':')\n",
    "    print('mLLP = ',m.mLLP)\n",
    "    print('tau (ns) = ',m.tau_ns)"
   ]
  },
  {
   "attachments": {},
   "cell_type": "markdown",
   "metadata": {},
   "source": [
    "### Define useful functions"
   ]
  },
  {
   "cell_type": "code",
   "execution_count": 4,
   "metadata": {},
   "outputs": [],
   "source": [
    "def getHSCPCandidates(hscps,allParticles):\n",
    "\n",
    "    candidates = []\n",
    "    for ip in range(hscps.GetEntries()):\n",
    "        p = hscps.At(ip)\n",
    "        if p.Mass < 20.:\n",
    "            continue\n",
    "        if abs(p.Charge) != 1: # Skip neutral particles\n",
    "            continue\n",
    "        if p.Status == 1:\n",
    "            p.r_decay = np.inf\n",
    "            p.z_decay = np.inf\n",
    "            candidates.append(p)\n",
    "            continue\n",
    "        \n",
    "        # If HSCP is unstable check if it is the last step\n",
    "        d1 = p.D1\n",
    "        d2 = p.D2\n",
    "        if d1 == d2: # If it decays to the same particle, it is an intermediate stage\n",
    "            continue \n",
    "        # Check if the daughters include the mother\n",
    "        daughters = [allParticles.At(d) for d in range(d1,d2+1)]\n",
    "        if any(daughter.PID == p.PID for daughter in daughters):\n",
    "            continue\n",
    "        # Get the HSCP decay radius from the first daughter production vertex:\n",
    "        p.r_decay = np.sqrt(daughters[0].X**2+daughters[0].Y**2)      \n",
    "        p.z_decay = daughters[0].Z        \n",
    "        candidates.append(p)\n",
    "\n",
    "    for p in candidates:\n",
    "        # Add beta and gamma*beta\n",
    "        trimom = np.sqrt(p.Px**2 +p.Py**2 + p.Pz**2)\n",
    "        p.beta = trimom/p.E\n",
    "        p.gbeta = trimom/p.Mass\n",
    "\n",
    "    return candidates\n",
    "\n",
    "def applyHSCPSelection(hscpList,pT=50.,eta=2.4,r=500.):\n",
    "\n",
    "    selHSCPs = []\n",
    "    for hscp in hscpList:\n",
    "        if hscp.PT < pT: continue \n",
    "        if abs(hscp.Eta) > eta: continue\n",
    "        if hscp.r_decay < r: continue\n",
    "        selHSCPs.append(hscp)\n",
    "    \n",
    "    return selHSCPs\n",
    "\n",
    "def applyIsolation(hscpList,tracks):\n",
    "\n",
    "    isoHSCPs = []\n",
    "    # Apply isolation requirement for HSCP tracks\n",
    "    for hscp in hscpList:\n",
    "        sumPT = 0.0\n",
    "        for itrk in range(tracks.GetEntries()):\n",
    "            track = tracks.At(itrk)\n",
    "            if abs(track.PID) > 10000:\n",
    "                continue\n",
    "            deltaR = np.sqrt((track.Phi-hscp.Phi)**2 +(track.Eta-hscp.Eta)**2)\n",
    "            if deltaR > 0.3:\n",
    "                continue\n",
    "            sumPT += track.PT\n",
    "        if sumPT > 5.0: continue\n",
    "        isoHSCPs.append(hscp)\n",
    "    return isoHSCPs\n",
    "\n",
    "\n",
    "def applyMuonTagging(hscpList):\n",
    "\n",
    "    \"\"\"\n",
    "    Computes the probability of reconstructing the hscp as a muon.\n",
    "    :param hscpList: List of GenParticle objects\n",
    "    \"\"\"\n",
    "\n",
    "    muonsLLP = []\n",
    "    for hscp in hscpList:\n",
    "        if hscp.r_decay < 3.9e3 and hscp.z_decay < 6e3: # Skip decays before MS\n",
    "            continue\n",
    "        \n",
    "        beta = hscp.beta\n",
    "        eta = abs(hscp.Eta)\n",
    "        eff = getMuonRecoEff(beta,eta,hscp.PID)\n",
    "        # Randomly reconstrunct the HSCP as a muon\n",
    "        if np.random.uniform() < eff:\n",
    "            continue\n",
    "        muonsLLP.append(hscp)\n",
    "    \n",
    "    return muonsLLP\n",
    "\n",
    "def removeFromMET(particles,METobj):\n",
    "    \"\"\"\n",
    "    Removes the contribution from the particles in the list\n",
    "    to the total MET.\n",
    "    \"\"\"\n",
    "\n",
    "    metx = METobj.MET*np.cos(METobj.Phi)\n",
    "    mety = METobj.MET*np.sin(METobj.Phi)\n",
    "\n",
    "    if particles:\n",
    "        # Remove particles from MET:            \n",
    "        pxTot = sum([p.Px for p in particles])\n",
    "        pyTot = sum([p.Py for p in particles])        \n",
    "        metx = (metx-pxTot)\n",
    "        mety = (mety-pyTot)\n",
    "    \n",
    "    return [metx,mety]\n",
    "\n",
    "def applyMTCut(hscps,METvector):\n",
    "    \"\"\"\n",
    "    Remove tracks which have mT < 130 GeV\n",
    "    \"\"\"\n",
    "\n",
    "    selHSCPs = []\n",
    "    met = np.sqrt(METvector[0]**2 + METvector[1]**2)    \n",
    "    for hscp in hscps:\n",
    "        pThscp = [hscp.Px,hscp.Py]\n",
    "        cosdphi = np.dot(pThscp,METvector)/(hscp.PT*met)\n",
    "        mT = np.sqrt(2*hscp.PT*met*(1-cosdphi))\n",
    "        if mT < 130.: continue\n",
    "        selHSCPs.append(hscp)\n",
    "    \n",
    "    return selHSCPs\n"
   ]
  },
  {
   "cell_type": "markdown",
   "metadata": {},
   "source": [
    "### Loop over events, apply basic selection criterium and compute masses"
   ]
  },
  {
   "cell_type": "code",
   "execution_count": 60,
   "metadata": {},
   "outputs": [
    {
     "name": "stdout",
     "output_type": "stream",
     "text": [
      "Reading 19998 events\n"
     ]
    }
   ],
   "source": [
    "weightsDict = {}\n",
    "massesDict = {}\n",
    "nhscps = {}\n",
    "gbetaDict = {}\n",
    "trackEffDict = {}\n",
    "metDict = {}\n",
    "newMetDict = {}\n",
    "metCaloDict = {}\n",
    "genMetDict = {}\n",
    "cutFlowDict = {}\n",
    "\n",
    "for label,inputFileList in inputFiles.items():\n",
    "\n",
    "    modelPars = modelInfoDict[label]\n",
    "\n",
    "    \n",
    "    gbetaDict[label] = []\n",
    "    nhscps[label] = []\n",
    "    trackEffDict[label] = []\n",
    "    metDict[label] = []\n",
    "    newMetDict[label] = []\n",
    "    metCaloDict[label] = []\n",
    "    genMetDict[label] = []\n",
    "    weightsDict[label] = []\n",
    "    isolation = []\n",
    "    rdecay = []\n",
    "    totalWeight = 0.0\n",
    "    srWeights = {}\n",
    "    \n",
    "    cutFlow = { \"Total\" : 0.0,\n",
    "                \"Trigger\" : 0.0,\n",
    "                \"ETmiss > 170 GeV\" : 0.0,\n",
    "                \"pT > 50 GeV\" : 0.0,\n",
    "                \"Track isolation\" : 0.0,\n",
    "                \"pT > 120 GeV\" : 0.0,\n",
    "                \"eta < 1.8\" : 0.0,\n",
    "                \"mT(track,pTmiss) > 130 GeV\" : 0.0,\n",
    "                \"(Acceptance)\" : 0.0,\n",
    "                \"(SR-Low - no mass Window)\" : 0.0,\n",
    "                \"(SR-High - no mass Window)\" : 0.0          \n",
    "                }\n",
    "\n",
    "    weights = []\n",
    "    masses = []\n",
    "    \n",
    "    for inputFile in inputFileList:    \n",
    "        \n",
    "        f = ROOT.TFile(inputFile,'read')\n",
    "        tree = f.Get(\"Delphes\")\n",
    "        nevts = tree.GetEntries()\n",
    "\n",
    "        # nevts = 100\n",
    "        print('Reading %i events' %nevts)\n",
    "        for ievt in range(nevts):\n",
    "            tree.GetEntry(ievt)\n",
    "            weight = tree.Weight.At(1).Weight\n",
    "            totalWeight += weight\n",
    "            metCalo = tree.MissingETCalo.At(0).MET\n",
    "            electrons = tree.Electron\n",
    "            \n",
    "            hscpCandidates = getHSCPCandidates(tree.hscpParticles,tree.Particle)\n",
    "            nhscps[label].append(len(hscpCandidates))\n",
    "            if not hscpCandidates:\n",
    "                continue\n",
    "\n",
    "            hscpPT = sum([h.Px for h in hscpCandidates])**2\n",
    "            hscpPT += sum([h.Py for h in hscpCandidates])**2\n",
    "            hscpPT = np.sqrt(hscpPT)\n",
    "            # Apply pT cut on HSCP system to reproduce ATLAS selection\n",
    "            if hscpPT < 60.0:\n",
    "                continue\n",
    "\n",
    "            hscpsFilter = applyHSCPSelection(hscpCandidates,pT=120.,eta=1.8,r=500.0)\n",
    "            if hscpsFilter:\n",
    "                cutFlow['(Acceptance)'] += weight\n",
    "\n",
    "            muonsLLP = applyMuonTagging(hscpCandidates)\n",
    "            hscps = [hscp for hscp in hscpCandidates if hscp not in muonsLLP]\n",
    "            newMETv = removeFromMET(muonsLLP,tree.MissingET.At(0))\n",
    "            newMET = np.sqrt(newMETv[0]**2+newMETv[1]**2)\n",
    "            triggerEff = getTriggerEff(metCalo)\n",
    "            \n",
    "            cutFlow['Total'] += weight\n",
    "            weight = weight*triggerEff\n",
    "            if not weight: continue\n",
    "            cutFlow['Trigger'] += weight\n",
    "            # Apply event selection efficiency\n",
    "            eventEff = getSelectionEff(newMET)\n",
    "            weight = weight*eventEff\n",
    "            if not weight: continue\n",
    "            cutFlow[\"ETmiss > 170 GeV\"] += weight\n",
    "\n",
    "            # Apply selection to HSCP candidates (following ATLAS snippet)\n",
    "            hscps = applyHSCPSelection(hscps,pT=50.,eta=3.0,r=500.0)\n",
    "            if not hscps: continue\n",
    "            cutFlow['pT > 50 GeV'] += weight        \n",
    "            hscps = applyIsolation(hscps,tree.Track)\n",
    "            if not hscps: continue\n",
    "            cutFlow['Track isolation'] += weight     \n",
    "            hscps = applyHSCPSelection(hscps,pT=120.)\n",
    "            if not hscps: continue\n",
    "            cutFlow['pT > 120 GeV'] += weight  \n",
    "            if not hscps: continue\n",
    "            hscps = applyHSCPSelection(hscps,pT=120.,eta=1.8)\n",
    "            if not hscps: continue\n",
    "            cutFlow['eta < 1.8'] += weight\n",
    "            hscps = applyMTCut(hscps,newMETv)\n",
    "            if not hscps: continue\n",
    "            cutFlow['mT(track,pTmiss) > 130 GeV'] += weight\n",
    "\n",
    "\n",
    "            # Select hscps which fall into one of the mass windows:\n",
    "            # htargetMass = [(hscp,getTargetMass(hscp.Mass)) for hscp in hscps]\n",
    "            # htargetMass = [x for x in htargetMass[:] if x[1] is not None]\n",
    "            # hscps = [x[0] for x in htargetMass]\n",
    "            gbetas = [h.gbeta for h in hscps]\n",
    "            # targetMass = [x[1] for x in htargetMass]\n",
    "            targetMass = [h.Mass for h in hscps]\n",
    "            trackEffHigh = getTrackEff(gbetas,sr='High')\n",
    "            trackEffLow =  getTrackEff(gbetas,sr='Low')\n",
    "            wMassHigh = getMassSelEff(targetMass,sr='High')\n",
    "            wMassLow = getMassSelEff(targetMass,sr='Low')\n",
    "            eventWeightLow = weight*(1-np.prod(1.0-trackEffLow*wMassLow))\n",
    "            eventWeightHigh = weight*(1-np.prod(1.0-trackEffHigh*wMassLow))\n",
    "\n",
    "            cutFlow['(SR-High - no mass Window)'] += weight*(1-np.prod(1.0-trackEffHigh))\n",
    "            cutFlow['(SR-Low - no mass Window)'] += weight*(1-np.prod(1.0-trackEffLow))\n",
    "            # if ievt < 100:\n",
    "                # print('gb=',gbetas)\n",
    "                # print('effLow=',trackEffLow,'weight=',weight)\n",
    "                # print('res=',weight*(1-np.prod(1.0-trackEffLow)),'\\n')\n",
    "\n",
    "\n",
    "            gbetaDict[label] += gbetas\n",
    "            trackEffDict[label] += trackEffLow.tolist()\n",
    "\n",
    "            genMetDict[label].append(tree.GenMissingET.At(0).MET)\n",
    "            metDict[label].append(tree.MissingET.At(0).MET)\n",
    "            newMetDict[label].append(newMET)\n",
    "            \n",
    "            # Use maximum mass to select final mass window\n",
    "            targetMass = max(targetMass)\n",
    "            if not targetMass in srWeights:\n",
    "                srWeights[targetMass] = {'Low' : 0.0, 'High' : 0.0}\n",
    "            srWeights[targetMass]['Low'] += eventWeightLow\n",
    "            srWeights[targetMass]['High'] += eventWeightHigh\n",
    "        \n",
    "        cutFlowDict[label] = cutFlow\n",
    "        f.Close()\n",
    "        \n",
    "    print(\"%s :\" %label)\n",
    "    print('Total cross-section = %1.3e pb' %totalWeight)\n",
    "    print('Total cross-section (pT > 60 GeV) = %1.3e pb' %cutFlow['Total'])\n",
    "    print('SR=',srWeights)"
   ]
  },
  {
   "cell_type": "code",
   "execution_count": 39,
   "metadata": {},
   "outputs": [
    {
     "name": "stdout",
     "output_type": "stream",
     "text": [
      "                            10ns:    Events     (Efficiency)\n",
      "                            Total  = 3.064e+01  (1.000)\n",
      "                          Trigger  = 1.048e+01  (0.342)\n",
      "                 ETmiss > 170 GeV  = 7.106e+00  (0.232)\n",
      "                      pT > 50 GeV  = 4.704e+00  (0.154)\n",
      "                  Track isolation  = 4.563e+00  (0.149)\n",
      "                     pT > 120 GeV  = 4.488e+00  (0.146)\n",
      "                        eta < 1.8  = 4.193e+00  (0.137)\n",
      "       mT(track,pTmiss) > 130 GeV  = 3.434e+00  (0.112)\n",
      "                     (Acceptance)  = 1.862e+01  (0.608)\n",
      "        (SR-Low - no mass Window)  = 5.269e-01  (0.017)\n",
      "       (SR-High - no mass Window)  = 1.464e+00  (0.048)\n"
     ]
    }
   ],
   "source": [
    "lumi = 139.0\n",
    "for labe,cutFlow in cutFlowDict.items():\n",
    "    print('  %s: '%label.rjust(30),'Events'.rjust(8),'(Efficiency)'.rjust(16))\n",
    "    for c,val in cutFlow.items():\n",
    "        print('   %s'%c.rjust(30),' = %8.3e'%(val*1e3*139),' (%1.3f)' %(val/cutFlow['Total']))"
   ]
  },
  {
   "cell_type": "code",
   "execution_count": 40,
   "metadata": {},
   "outputs": [
    {
     "name": "stdout",
     "output_type": "stream",
     "text": [
      "Mass = 1300.0 GeV, lifetime = 10.00 ns:\n",
      "\t acceptance = 0.608\n",
      "\t event-level efficiency = 0.382\n",
      "\t efficiency for SR-Inclusive_Low = 0.028\n",
      "\t efficiency for SR-Inclusive_High = 0.079\n"
     ]
    }
   ],
   "source": [
    "# Debug info:\n",
    "# ATLAS values for 10ns charginos with mass = 1300 GeV\n",
    "# (S95_Low = 15, S95_High = 4.2, totalXsec = 2.85e-2 pb, xsecUL = 1.52e-3 pb, lumi = 139/fb)\n",
    "acceptance = cutFlow['(Acceptance)']/cutFlow['Total']\n",
    "evtEff = (cutFlow['ETmiss > 170 GeV']/cutFlow['Total'])/acceptance\n",
    "effLow = (cutFlow['(SR-Low - no mass Window)']/cutFlow['Total'])/acceptance\n",
    "effHigh = (cutFlow['(SR-High - no mass Window)']/cutFlow['Total'])/acceptance\n",
    "print('Mass = %1.1f GeV, lifetime = %1.2f ns:' %(modelPars.mLLP,modelPars.tau_ns)) \n",
    "print('\\t acceptance = %1.3f' %(acceptance)) # 0.634\n",
    "print('\\t event-level efficiency = %1.3f' %(evtEff)) # 0.395\n",
    "print('\\t efficiency for SR-Inclusive_Low = %1.3f' %(effLow)) # 0.061\n",
    "print('\\t efficiency for SR-Inclusive_High = %1.3f' %(effHigh)) # 0.146\n"
   ]
  },
  {
   "cell_type": "markdown",
   "metadata": {},
   "source": [
    "### Check ATLAS official values"
   ]
  },
  {
   "cell_type": "code",
   "execution_count": 8,
   "metadata": {},
   "outputs": [],
   "source": [
    "# charginoData = pd.read_pickle('./ATLAS_data/charginoData.pcl')\n",
    "# vals = charginoData[(charginoData['mass (GeV)'] == round(modelPars.mLLP,-2)) \n",
    "#                     & (charginoData['lifetime (ns)'] == round(modelPars.tau_ns,0))]\n",
    "# vals"
   ]
  },
  {
   "cell_type": "code",
   "execution_count": 41,
   "metadata": {},
   "outputs": [
    {
     "data": {
      "image/png": "[encoded data removed]",
      "text/plain": [
       "<Figure size 576x432 with 1 Axes>"
      ]
     },
     "metadata": {
      "needs_background": "light"
     },
     "output_type": "display_data"
    }
   ],
   "source": [
    "bins = np.linspace(0.,2000.,30)\n",
    "fig = plt.figure(figsize=(8,6))\n",
    "plt.hist(genMetDict['10ns'],bins=bins,label='MET (Truth)',histtype='step',linewidth=3)\n",
    "plt.hist(metDict['10ns'],bins=bins,label='MET (Total)',histtype='step',linewidth=3)\n",
    "plt.hist(newMetDict['10ns'],bins=bins,label='MET (New)',histtype='step',linewidth=3,linestyle='--')\n",
    "plt.yscale('log')\n",
    "plt.legend()\n",
    "plt.show()"
   ]
  },
  {
   "cell_type": "code",
   "execution_count": 42,
   "metadata": {},
   "outputs": [
    {
     "data": {
      "image/png": "[encoded data removed]",
      "text/plain": [
       "<Figure size 864x432 with 1 Axes>"
      ]
     },
     "metadata": {
      "needs_background": "light"
     },
     "output_type": "display_data"
    }
   ],
   "source": [
    "fig = plt.figure(figsize=(12,6))\n",
    "bins = np.arange(0.,4.,0.0666)\n",
    "plt.hist(gbetaDict['10ns'],bins=bins,histtype='step',linewidth=3)\n",
    "plt.title(r'$\\langle \\gamma \\beta \\rangle = %1.2f$' %np.mean(gbetaDict['10ns']))\n",
    "plt.xlabel(r'$\\gamma \\beta$')\n",
    "plt.vlines(x=0.3,ymin=0.,ymax=1000,linestyles='--',color='gray')\n",
    "plt.vlines(x=0.9,ymin=0.,ymax=1000,linestyles='--',color='gray')\n",
    "plt.grid()\n",
    "plt.minorticks_on()\n",
    "plt.xlim(0.,4.)\n",
    "plt.show()"
   ]
  },
  {
   "cell_type": "code",
   "execution_count": 43,
   "metadata": {},
   "outputs": [
    {
     "data": {
      "image/png": "[encoded data removed]",
      "text/plain": [
       "<Figure size 432x288 with 1 Axes>"
      ]
     },
     "metadata": {
      "needs_background": "light"
     },
     "output_type": "display_data"
    }
   ],
   "source": [
    "plt.scatter(gbetaDict['10ns'],trackEffDict['10ns'])\n",
    "plt.xlim(0.5,2.0)\n",
    "plt.grid()\n",
    "plt.title(r'$\\langle \\epsilon_{trk} \\rangle = %1.2f \\pm %1.2f$' %(np.mean(trackEffDict['10ns']),np.std(trackEffDict['10ns'])))\n",
    "plt.show()"
   ]
  },
  {
   "cell_type": "code",
   "execution_count": 44,
   "metadata": {},
   "outputs": [
    {
     "data": {
      "image/png": "[encoded data removed]",
      "text/plain": [
       "<Figure size 864x432 with 1 Axes>"
      ]
     },
     "metadata": {
      "needs_background": "light"
     },
     "output_type": "display_data"
    }
   ],
   "source": [
    "fig = plt.figure(figsize=(12,6))\n",
    "plt.hist(trackEffDict['10ns'],bins=50,histtype='step',linewidth=3)\n",
    "plt.title(r'$\\langle \\epsilon_{trk} \\rangle = %1.2f \\pm %1.2f$' %(np.mean(trackEffDict['10ns']),np.std(trackEffDict['10ns'])))\n",
    "plt.xlabel(r'$\\epsilon_{trk}$')\n",
    "plt.grid()\n",
    "plt.yscale('log')\n",
    "plt.minorticks_on()\n",
    "# plt.xlim(0.,4.)\n",
    "plt.show()"
   ]
  },
  {
   "cell_type": "code",
   "execution_count": 46,
   "metadata": {},
   "outputs": [
    {
     "data": {
      "image/png": "[encoded data removed]",
      "text/plain": [
       "<Figure size 432x288 with 1 Axes>"
      ]
     },
     "metadata": {
      "needs_background": "light"
     },
     "output_type": "display_data"
    }
   ],
   "source": [
    "plt.hist(nhscps['10ns'],bins=30)\n",
    "plt.show()"
   ]
  },
  {
   "cell_type": "code",
   "execution_count": 52,
   "metadata": {},
   "outputs": [
    {
     "data": {
      "text/plain": [
       "(24164, 10814)"
      ]
     },
     "execution_count": 52,
     "metadata": {},
     "output_type": "execute_result"
    }
   ],
   "source": [
    "np.count_nonzero(np.array(nhscps['10ns']) == 1),np.count_nonzero(np.array(nhscps['10ns']) == 2)"
   ]
  },
  {
   "cell_type": "code",
   "execution_count": null,
   "metadata": {},
   "outputs": [],
   "source": [
    "xsecC1N1 = 0.240739 #fb\n",
    "xsecC1C1 = 0.115645 #fb"
   ]
  }
 ],
 "metadata": {
  "kernelspec": {
   "display_name": "Python 3",
   "language": "python",
   "name": "python3"
  },
  "language_info": {
   "codemirror_mode": {
    "name": "ipython",
    "version": 3
   },
   "file_extension": ".py",
   "mimetype": "text/x-python",
   "name": "python",
   "nbconvert_exporter": "python",
   "pygments_lexer": "ipython3",
   "version": "3.10.6"
  },
  "vscode": {
   "interpreter": {
    "hash": "e7370f93d1d0cde622a1f8e1c04877d8463912d04d973331ad4851f04de6915a"
   }
  }
 },
 "nbformat": 4,
 "nbformat_minor": 4
}
