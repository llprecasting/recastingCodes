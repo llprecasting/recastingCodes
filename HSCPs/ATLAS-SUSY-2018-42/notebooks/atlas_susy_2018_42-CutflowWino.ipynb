{
 "cells": [
  {
   "cell_type": "code",
   "execution_count": 1,
   "id": "ffa05a34",
   "metadata": {},
   "outputs": [],
   "source": [
    "import sys,os,glob,copy\n",
    "sys.path.append('../')\n",
    "import numpy as np\n",
    "from numpy.linalg import norm\n",
    "import pandas as pd\n",
    "from matplotlib import pyplot as plt\n",
    "import seaborn as sns\n",
    "from scipy.interpolate import LinearNDInterpolator,interp2d\n",
    "import matplotlib as mpl\n",
    "from matplotlib.colors import LogNorm\n",
    "from IPython.display import display, Markdown\n",
    "import glob\n",
    "plt.rcParams.update({\n",
    "    \"text.usetex\": True,\n",
    "    \"font.family\": \"sans-serif\",\n",
    "    \"font.sans-serif\": [\"Helvetica\"]})\n",
    "\n",
    "plt.rcParams.update({\"savefig.dpi\" : 300}) #Figure resolution\n",
    "\n",
    "\n",
    "#Define plotting style:\n",
    "sns.set() #Set style\n",
    "sns.set_style('ticks',{'font.family':'Times New Roman', 'font.serif':'Times New Roman'})\n",
    "sns.set_context('paper', font_scale=1.8)\n",
    "cm = plt.cm.get_cmap('RdYlBu')\n",
    "\n",
    "\n",
    "pd.set_option('display.max_rows', 200)"
   ]
  },
  {
   "cell_type": "code",
   "execution_count": 74,
   "id": "215736cd",
   "metadata": {},
   "outputs": [],
   "source": [
    "atlasData = pd.read_pickle('../ATLAS_data/CutFlow_Chargino.pcl')\n",
    "atlasData['label'] = 'ATLAS'"
   ]
  },
  {
   "cell_type": "code",
   "execution_count": 75,
   "id": "6dd7ece5",
   "metadata": {},
   "outputs": [],
   "source": [
    "files = {'10 ns' : '../Wino_0j_match/Events/run_70/wino_1000_10ns_atlas_2018_42.pcl'}\n",
    "# files = {'10 ns' : '../Wino_0j_match/Events/run_88/wino_1300_10ns_atlas_2018_42.pcl'}"
   ]
  },
  {
   "cell_type": "code",
   "execution_count": 76,
   "id": "c43b7f29",
   "metadata": {},
   "outputs": [],
   "source": [
    "allData = atlasData\n",
    "for label,f in files.items():\n",
    "    recastData = pd.read_pickle(f)\n",
    "    recastData['label'] = label\n",
    "    columns = [c for c in atlasData.columns if c in recastData]\n",
    "    recastData = recastData[columns]\n",
    "    allData = pd.concat((allData,recastData))\n",
    "    \n",
    "allData.sort_values(['mLLP','tau_ns'],inplace=True)        "
   ]
  },
  {
   "cell_type": "code",
   "execution_count": 77,
   "id": "8af0f620",
   "metadata": {},
   "outputs": [
    {
     "data": {
      "text/html": [
       "<div>\n",
       "<style scoped>\n",
       "    .dataframe tbody tr th:only-of-type {\n",
       "        vertical-align: middle;\n",
       "    }\n",
       "\n",
       "    .dataframe tbody tr th {\n",
       "        vertical-align: top;\n",
       "    }\n",
       "\n",
       "    .dataframe thead th {\n",
       "        text-align: right;\n",
       "    }\n",
       "</style>\n",
       "<table border=\"1\" class=\"dataframe\">\n",
       "  <thead>\n",
       "    <tr style=\"text-align: right;\">\n",
       "      <th></th>\n",
       "      <th>0</th>\n",
       "      <th>1</th>\n",
       "      <th>0</th>\n",
       "    </tr>\n",
       "  </thead>\n",
       "  <tbody>\n",
       "    <tr>\n",
       "      <th>mLLP</th>\n",
       "      <td>1000.0</td>\n",
       "      <td>1000.0</td>\n",
       "      <td>1300.0</td>\n",
       "    </tr>\n",
       "    <tr>\n",
       "      <th>tau_ns</th>\n",
       "      <td>10.0</td>\n",
       "      <td>10.0</td>\n",
       "      <td>10.0</td>\n",
       "    </tr>\n",
       "    <tr>\n",
       "      <th>Total</th>\n",
       "      <td>(100.0, 1.0)</td>\n",
       "      <td>(100.0, 1.0)</td>\n",
       "      <td>(20.8, 1.0)</td>\n",
       "    </tr>\n",
       "    <tr>\n",
       "      <th>Event and jet Cleaning</th>\n",
       "      <td>NaN</td>\n",
       "      <td>NaN</td>\n",
       "      <td>(20.6, 0.995)</td>\n",
       "    </tr>\n",
       "    <tr>\n",
       "      <th>Trigger</th>\n",
       "      <td>(56.64, 0.5662)</td>\n",
       "      <td>(56.64, 0.5662)</td>\n",
       "      <td>(11.2, 0.539)</td>\n",
       "    </tr>\n",
       "    <tr>\n",
       "      <th>Primary vertex</th>\n",
       "      <td>NaN</td>\n",
       "      <td>NaN</td>\n",
       "      <td>(11.2, 0.539)</td>\n",
       "    </tr>\n",
       "    <tr>\n",
       "      <th>$E_{T}^{miss}&gt;170$ GeV</th>\n",
       "      <td>NaN</td>\n",
       "      <td>NaN</td>\n",
       "      <td>(7.9, 0.381)</td>\n",
       "    </tr>\n",
       "    <tr>\n",
       "      <th>Track in PV</th>\n",
       "      <td>NaN</td>\n",
       "      <td>NaN</td>\n",
       "      <td>(7.8, 0.378)</td>\n",
       "    </tr>\n",
       "    <tr>\n",
       "      <th>$p_{T} &gt; 50$ GeV</th>\n",
       "      <td>NaN</td>\n",
       "      <td>NaN</td>\n",
       "      <td>(6.8, 0.326)</td>\n",
       "    </tr>\n",
       "    <tr>\n",
       "      <th>Track quality requirements</th>\n",
       "      <td>NaN</td>\n",
       "      <td>NaN</td>\n",
       "      <td>(5.8, 0.279)</td>\n",
       "    </tr>\n",
       "    <tr>\n",
       "      <th>Track isolation</th>\n",
       "      <td>(25.93, 0.2592)</td>\n",
       "      <td>(25.93, 0.2592)</td>\n",
       "      <td>(5.1, 0.244)</td>\n",
       "    </tr>\n",
       "    <tr>\n",
       "      <th>$p_{T} &gt; 120$ GeV</th>\n",
       "      <td>NaN</td>\n",
       "      <td>NaN</td>\n",
       "      <td>(5.0, 0.242)</td>\n",
       "    </tr>\n",
       "    <tr>\n",
       "      <th>Track momentum uncertainty</th>\n",
       "      <td>NaN</td>\n",
       "      <td>NaN</td>\n",
       "      <td>(4.8, 0.231)</td>\n",
       "    </tr>\n",
       "    <tr>\n",
       "      <th>$|\\eta|&lt;1.8$</th>\n",
       "      <td>NaN</td>\n",
       "      <td>NaN</td>\n",
       "      <td>(4.39, 0.211)</td>\n",
       "    </tr>\n",
       "    <tr>\n",
       "      <th>$m_{T}({track},{p}_{{T}}^{{ miss}}) &gt; 130$ GeV</th>\n",
       "      <td>NaN</td>\n",
       "      <td>NaN</td>\n",
       "      <td>(3.8, 0.183)</td>\n",
       "    </tr>\n",
       "    <tr>\n",
       "      <th>Electron veto</th>\n",
       "      <td>NaN</td>\n",
       "      <td>NaN</td>\n",
       "      <td>(3.8, 0.183)</td>\n",
       "    </tr>\n",
       "    <tr>\n",
       "      <th>Hadron/tau veto</th>\n",
       "      <td>NaN</td>\n",
       "      <td>NaN</td>\n",
       "      <td>(3.8, 0.183)</td>\n",
       "    </tr>\n",
       "    <tr>\n",
       "      <th>(SR-Low - no mass Window)</th>\n",
       "      <td>(3.217, 0.03216)</td>\n",
       "      <td>(3.217, 0.03216)</td>\n",
       "      <td>(0.8, 0.039)</td>\n",
       "    </tr>\n",
       "    <tr>\n",
       "      <th>(SR-High - no mass Window)</th>\n",
       "      <td>(7.256, 0.07254)</td>\n",
       "      <td>(7.256, 0.07254)</td>\n",
       "      <td>(1.92, 0.092)</td>\n",
       "    </tr>\n",
       "    <tr>\n",
       "      <th>label</th>\n",
       "      <td>10 ns</td>\n",
       "      <td>10 ns</td>\n",
       "      <td>ATLAS</td>\n",
       "    </tr>\n",
       "  </tbody>\n",
       "</table>\n",
       "</div>"
      ],
      "text/plain": [
       "                                                               0  \\\n",
       "mLLP                                                      1000.0   \n",
       "tau_ns                                                      10.0   \n",
       "Total                                               (100.0, 1.0)   \n",
       "Event and jet Cleaning                                       NaN   \n",
       "Trigger                                          (56.64, 0.5662)   \n",
       "Primary vertex                                               NaN   \n",
       "$E_{T}^{miss}>170$ GeV                                       NaN   \n",
       "Track in PV                                                  NaN   \n",
       "$p_{T} > 50$ GeV                                             NaN   \n",
       "Track quality requirements                                   NaN   \n",
       "Track isolation                                  (25.93, 0.2592)   \n",
       "$p_{T} > 120$ GeV                                            NaN   \n",
       "Track momentum uncertainty                                   NaN   \n",
       "$|\\eta|<1.8$                                                 NaN   \n",
       "$m_{T}({track},{p}_{{T}}^{{ miss}}) > 130$ GeV               NaN   \n",
       "Electron veto                                                NaN   \n",
       "Hadron/tau veto                                              NaN   \n",
       "(SR-Low - no mass Window)                       (3.217, 0.03216)   \n",
       "(SR-High - no mass Window)                      (7.256, 0.07254)   \n",
       "label                                                      10 ns   \n",
       "\n",
       "                                                               1  \\\n",
       "mLLP                                                      1000.0   \n",
       "tau_ns                                                      10.0   \n",
       "Total                                               (100.0, 1.0)   \n",
       "Event and jet Cleaning                                       NaN   \n",
       "Trigger                                          (56.64, 0.5662)   \n",
       "Primary vertex                                               NaN   \n",
       "$E_{T}^{miss}>170$ GeV                                       NaN   \n",
       "Track in PV                                                  NaN   \n",
       "$p_{T} > 50$ GeV                                             NaN   \n",
       "Track quality requirements                                   NaN   \n",
       "Track isolation                                  (25.93, 0.2592)   \n",
       "$p_{T} > 120$ GeV                                            NaN   \n",
       "Track momentum uncertainty                                   NaN   \n",
       "$|\\eta|<1.8$                                                 NaN   \n",
       "$m_{T}({track},{p}_{{T}}^{{ miss}}) > 130$ GeV               NaN   \n",
       "Electron veto                                                NaN   \n",
       "Hadron/tau veto                                              NaN   \n",
       "(SR-Low - no mass Window)                       (3.217, 0.03216)   \n",
       "(SR-High - no mass Window)                      (7.256, 0.07254)   \n",
       "label                                                      10 ns   \n",
       "\n",
       "                                                            0  \n",
       "mLLP                                                   1300.0  \n",
       "tau_ns                                                   10.0  \n",
       "Total                                             (20.8, 1.0)  \n",
       "Event and jet Cleaning                          (20.6, 0.995)  \n",
       "Trigger                                         (11.2, 0.539)  \n",
       "Primary vertex                                  (11.2, 0.539)  \n",
       "$E_{T}^{miss}>170$ GeV                           (7.9, 0.381)  \n",
       "Track in PV                                      (7.8, 0.378)  \n",
       "$p_{T} > 50$ GeV                                 (6.8, 0.326)  \n",
       "Track quality requirements                       (5.8, 0.279)  \n",
       "Track isolation                                  (5.1, 0.244)  \n",
       "$p_{T} > 120$ GeV                                (5.0, 0.242)  \n",
       "Track momentum uncertainty                       (4.8, 0.231)  \n",
       "$|\\eta|<1.8$                                    (4.39, 0.211)  \n",
       "$m_{T}({track},{p}_{{T}}^{{ miss}}) > 130$ GeV   (3.8, 0.183)  \n",
       "Electron veto                                    (3.8, 0.183)  \n",
       "Hadron/tau veto                                  (3.8, 0.183)  \n",
       "(SR-Low - no mass Window)                        (0.8, 0.039)  \n",
       "(SR-High - no mass Window)                      (1.92, 0.092)  \n",
       "label                                                   ATLAS  "
      ]
     },
     "execution_count": 77,
     "metadata": {},
     "output_type": "execute_result"
    }
   ],
   "source": [
    "allData.T"
   ]
  },
  {
   "cell_type": "code",
   "execution_count": 79,
   "id": "45fe23c4",
   "metadata": {},
   "outputs": [
    {
     "data": {
      "text/html": [
       "<div>\n",
       "<style scoped>\n",
       "    .dataframe tbody tr th:only-of-type {\n",
       "        vertical-align: middle;\n",
       "    }\n",
       "\n",
       "    .dataframe tbody tr th {\n",
       "        vertical-align: top;\n",
       "    }\n",
       "\n",
       "    .dataframe thead th {\n",
       "        text-align: right;\n",
       "    }\n",
       "</style>\n",
       "<table border=\"1\" class=\"dataframe\">\n",
       "  <thead>\n",
       "    <tr style=\"text-align: right;\">\n",
       "      <th></th>\n",
       "      <th>0</th>\n",
       "      <th>1</th>\n",
       "    </tr>\n",
       "  </thead>\n",
       "  <tbody>\n",
       "    <tr>\n",
       "      <th>Luminosity (1/fb)</th>\n",
       "      <td>139.0</td>\n",
       "      <td>139.0</td>\n",
       "    </tr>\n",
       "    <tr>\n",
       "      <th>Regime</th>\n",
       "      <td>Long Lifetime</td>\n",
       "      <td>Long Lifetime</td>\n",
       "    </tr>\n",
       "    <tr>\n",
       "      <th>SR</th>\n",
       "      <td>SR-Inclusive_Low</td>\n",
       "      <td>SR-Inclusive_High</td>\n",
       "    </tr>\n",
       "    <tr>\n",
       "      <th>Target Mass [GeV]</th>\n",
       "      <td>1000.0</td>\n",
       "      <td>1000.0</td>\n",
       "    </tr>\n",
       "    <tr>\n",
       "      <th>$N_s$</th>\n",
       "      <td>1.944689</td>\n",
       "      <td>5.059421</td>\n",
       "    </tr>\n",
       "    <tr>\n",
       "      <th>$\\sigma_{Ns}$</th>\n",
       "      <td>0.025184</td>\n",
       "      <td>0.062456</td>\n",
       "    </tr>\n",
       "    <tr>\n",
       "      <th>mLLP</th>\n",
       "      <td>1000.0</td>\n",
       "      <td>1000.0</td>\n",
       "    </tr>\n",
       "    <tr>\n",
       "      <th>mLSP</th>\n",
       "      <td>999.0</td>\n",
       "      <td>999.0</td>\n",
       "    </tr>\n",
       "    <tr>\n",
       "      <th>width</th>\n",
       "      <td>0.0</td>\n",
       "      <td>0.0</td>\n",
       "    </tr>\n",
       "    <tr>\n",
       "      <th>tau_ns</th>\n",
       "      <td>10.0</td>\n",
       "      <td>10.0</td>\n",
       "    </tr>\n",
       "    <tr>\n",
       "      <th>Total MC Events</th>\n",
       "      <td>65503</td>\n",
       "      <td>65503</td>\n",
       "    </tr>\n",
       "    <tr>\n",
       "      <th>Total xsec-pTcut (pb)</th>\n",
       "      <td>0.00072</td>\n",
       "      <td>0.00072</td>\n",
       "    </tr>\n",
       "    <tr>\n",
       "      <th>Total xsec (pb)</th>\n",
       "      <td>0.001478</td>\n",
       "      <td>0.001478</td>\n",
       "    </tr>\n",
       "    <tr>\n",
       "      <th>Total</th>\n",
       "      <td>(100.0, 1.0)</td>\n",
       "      <td>(100.0, 1.0)</td>\n",
       "    </tr>\n",
       "    <tr>\n",
       "      <th>Trigger</th>\n",
       "      <td>(56.64, 0.5662)</td>\n",
       "      <td>(56.64, 0.5662)</td>\n",
       "    </tr>\n",
       "    <tr>\n",
       "      <th>ETmiss &gt; 170 GeV</th>\n",
       "      <td>(38.49, 0.3847)</td>\n",
       "      <td>(38.49, 0.3847)</td>\n",
       "    </tr>\n",
       "    <tr>\n",
       "      <th>pT &gt; 50 GeV</th>\n",
       "      <td>(25.93, 0.2592)</td>\n",
       "      <td>(25.93, 0.2592)</td>\n",
       "    </tr>\n",
       "    <tr>\n",
       "      <th>Track isolation</th>\n",
       "      <td>(25.93, 0.2592)</td>\n",
       "      <td>(25.93, 0.2592)</td>\n",
       "    </tr>\n",
       "    <tr>\n",
       "      <th>pT &gt; 120 GeV</th>\n",
       "      <td>(25.34, 0.2533)</td>\n",
       "      <td>(25.34, 0.2533)</td>\n",
       "    </tr>\n",
       "    <tr>\n",
       "      <th>eta &lt; 1.8</th>\n",
       "      <td>(23.56, 0.2355)</td>\n",
       "      <td>(23.56, 0.2355)</td>\n",
       "    </tr>\n",
       "    <tr>\n",
       "      <th>mT(track,pTmiss) &gt; 130 GeV</th>\n",
       "      <td>(23.56, 0.2355)</td>\n",
       "      <td>(23.56, 0.2355)</td>\n",
       "    </tr>\n",
       "    <tr>\n",
       "      <th>(Acceptance)</th>\n",
       "      <td>(63.36, 0.6333)</td>\n",
       "      <td>(63.36, 0.6333)</td>\n",
       "    </tr>\n",
       "    <tr>\n",
       "      <th>(SR-Low - no mass Window)</th>\n",
       "      <td>(3.217, 0.03216)</td>\n",
       "      <td>(3.217, 0.03216)</td>\n",
       "    </tr>\n",
       "    <tr>\n",
       "      <th>(SR-High - no mass Window)</th>\n",
       "      <td>(7.256, 0.07254)</td>\n",
       "      <td>(7.256, 0.07254)</td>\n",
       "    </tr>\n",
       "  </tbody>\n",
       "</table>\n",
       "</div>"
      ],
      "text/plain": [
       "                                           0                  1\n",
       "Luminosity (1/fb)                      139.0              139.0\n",
       "Regime                         Long Lifetime      Long Lifetime\n",
       "SR                          SR-Inclusive_Low  SR-Inclusive_High\n",
       "Target Mass [GeV]                     1000.0             1000.0\n",
       "$N_s$                               1.944689           5.059421\n",
       "$\\sigma_{Ns}$                       0.025184           0.062456\n",
       "mLLP                                  1000.0             1000.0\n",
       "mLSP                                   999.0              999.0\n",
       "width                                    0.0                0.0\n",
       "tau_ns                                  10.0               10.0\n",
       "Total MC Events                        65503              65503\n",
       "Total xsec-pTcut (pb)                0.00072            0.00072\n",
       "Total xsec (pb)                     0.001478           0.001478\n",
       "Total                           (100.0, 1.0)       (100.0, 1.0)\n",
       "Trigger                      (56.64, 0.5662)    (56.64, 0.5662)\n",
       "ETmiss > 170 GeV             (38.49, 0.3847)    (38.49, 0.3847)\n",
       "pT > 50 GeV                  (25.93, 0.2592)    (25.93, 0.2592)\n",
       "Track isolation              (25.93, 0.2592)    (25.93, 0.2592)\n",
       "pT > 120 GeV                 (25.34, 0.2533)    (25.34, 0.2533)\n",
       "eta < 1.8                    (23.56, 0.2355)    (23.56, 0.2355)\n",
       "mT(track,pTmiss) > 130 GeV   (23.56, 0.2355)    (23.56, 0.2355)\n",
       "(Acceptance)                 (63.36, 0.6333)    (63.36, 0.6333)\n",
       "(SR-Low - no mass Window)   (3.217, 0.03216)   (3.217, 0.03216)\n",
       "(SR-High - no mass Window)  (7.256, 0.07254)   (7.256, 0.07254)"
      ]
     },
     "execution_count": 79,
     "metadata": {},
     "output_type": "execute_result"
    }
   ],
   "source": [
    "recastData = pd.read_pickle(f)\n",
    "recastData.T"
   ]
  },
  {
   "cell_type": "code",
   "execution_count": 90,
   "id": "6bf3a3de",
   "metadata": {},
   "outputs": [
    {
     "data": {
      "text/plain": [
       "6.15"
      ]
     },
     "execution_count": 90,
     "metadata": {},
     "output_type": "execute_result"
    }
   ],
   "source": [
    "5*1.23"
   ]
  },
  {
   "cell_type": "code",
   "execution_count": 84,
   "id": "6fc150a3",
   "metadata": {},
   "outputs": [
    {
     "name": "stdout",
     "output_type": "stream",
     "text": [
      "0.05078162008526765\n",
      "0.11454287067740407\n"
     ]
    }
   ],
   "source": [
    "print(recastData['(SR-Low - no mass Window)'].iloc[0][1]/recastData['(Acceptance)'].iloc[0][1])\n",
    "print(recastData['(SR-High - no mass Window)'].iloc[0][1]/recastData['(Acceptance)'].iloc[0][1])"
   ]
  },
  {
   "cell_type": "code",
   "execution_count": 85,
   "id": "0daddd41",
   "metadata": {},
   "outputs": [
    {
     "data": {
      "text/plain": [
       "(0.9968503937007874, 1.014102564102564, 0.9745762711864407, 0.894736842105263)"
      ]
     },
     "execution_count": 85,
     "metadata": {},
     "output_type": "execute_result"
    }
   ],
   "source": [
    "0.633 / 0.635,0.3955 / 0.390, 0.115 / 0.118,0.051 / 0.057"
   ]
  },
  {
   "cell_type": "code",
   "execution_count": 96,
   "id": "69576b53",
   "metadata": {},
   "outputs": [
    {
     "name": "stdout",
     "output_type": "stream",
     "text": [
      "SR-Inclusive_Low xsec UL (pb) = 0.00730\n",
      "SR-Inclusive_High xsec UL (pb) = 0.00219\n"
     ]
    }
   ],
   "source": [
    "s95 = {'SR-Inclusive_Low': 9.6, 'SR-Inclusive_High': 7.5}\n",
    "xsecATLAS = 0.00182\n",
    "for sr,nmax in s95.items():\n",
    "    r = recastData[recastData['SR'] == sr]\n",
    "    ns = r['$N_s$'].iloc[0]\n",
    "    xsec = r['Total xsec (pb)'].iloc[0]\n",
    "    lumi = r['Luminosity (1/fb)'].iloc[0]\n",
    "    totalEff = ns/(xsec*1e3*lumi)\n",
    "    xsecUL = nmax*1e-3/(totalEff*lumi)\n",
    "    print(sr,'xsec UL (pb) = %1.5f' %xsecUL)"
   ]
  },
  {
   "cell_type": "code",
   "execution_count": 97,
   "id": "9656285a",
   "metadata": {},
   "outputs": [
    {
     "data": {
      "text/plain": [
       "6.228326385159144"
      ]
     },
     "execution_count": 97,
     "metadata": {},
     "output_type": "execute_result"
    }
   ],
   "source": [
    "(xsecATLAS/r['Total xsec (pb)'].iloc[0])*r['$N_s$'].iloc[0]"
   ]
  },
  {
   "cell_type": "code",
   "execution_count": 89,
   "id": "046d0a72",
   "metadata": {},
   "outputs": [
    {
     "data": {
      "text/plain": [
       "0.46"
      ]
     },
     "execution_count": 89,
     "metadata": {},
     "output_type": "execute_result"
    }
   ],
   "source": [
    "(0.00219-0.0015)/0.0015"
   ]
  },
  {
   "cell_type": "code",
   "execution_count": 29,
   "id": "9c9cdf88",
   "metadata": {},
   "outputs": [
    {
     "data": {
      "text/plain": [
       "7.47537552"
      ]
     },
     "execution_count": 29,
     "metadata": {},
     "output_type": "execute_result"
    }
   ],
   "source": [
    "0.633*0.118*0.00072*1e3*139.0"
   ]
  },
  {
   "cell_type": "code",
   "execution_count": 26,
   "id": "4df3238e",
   "metadata": {},
   "outputs": [
    {
     "data": {
      "text/plain": [
       "1.2313937753721245"
      ]
     },
     "execution_count": 26,
     "metadata": {},
     "output_type": "execute_result"
    }
   ],
   "source": [
    "0.00182/0.001478"
   ]
  },
  {
   "cell_type": "code",
   "execution_count": 56,
   "id": "d358f3d9",
   "metadata": {},
   "outputs": [
    {
     "name": "stdout",
     "output_type": "stream",
     "text": [
      "totalEff= 0.036386792963464136\n",
      "0.0014828686492528206\n"
     ]
    }
   ],
   "source": [
    "# ATLAS values:\n",
    "effSR = 0.118\n",
    "lumi = 139.0\n",
    "accep = 0.633\n",
    "xsecCut = 0.00072/0.001478\n",
    "# massWindow = 0.75\n",
    "massWindow = 1.0\n",
    "totalEff = xsecCut*accep*effSR*massWindow\n",
    "print('totalEff=',totalEff)\n",
    "sigmaULpb = 7.5*1e-3/(totalEff*lumi)\n",
    "print(sigmaULpb)"
   ]
  },
  {
   "cell_type": "code",
   "execution_count": 57,
   "id": "a62eeddb",
   "metadata": {},
   "outputs": [
    {
     "name": "stdout",
     "output_type": "stream",
     "text": [
      "totalEff= 0.03533748308525034\n",
      "0.0015269008945035865\n"
     ]
    }
   ],
   "source": [
    "# Recast values:\n",
    "effSRtimesAccep = 0.07254\n",
    "xsecCut = 0.00072/0.001478\n",
    "# massWindow = 0.75\n",
    "massWindow = 1.0\n",
    "totalEff = xsecCut*effSRtimesAccep*massWindow\n",
    "sigmaULpb = 7.5*1e-3/(totalEff*lumi)\n",
    "print('totalEff=',totalEff)\n",
    "print(sigmaULpb)"
   ]
  },
  {
   "cell_type": "code",
   "execution_count": 51,
   "id": "fb9af292",
   "metadata": {},
   "outputs": [
    {
     "name": "stdout",
     "output_type": "stream",
     "text": [
      "0.02462982252898628\n"
     ]
    }
   ],
   "source": [
    "xsecTotal = 0.001478*1e3\n",
    "Ns = 5.06\n",
    "totalEff2 = Ns/(lumi*xsecTotal)\n",
    "print(totalEff2)"
   ]
  },
  {
   "cell_type": "code",
   "execution_count": null,
   "id": "911378f9",
   "metadata": {},
   "outputs": [],
   "source": []
  }
 ],
 "metadata": {
  "kernelspec": {
   "display_name": "Python 3 (ipykernel)",
   "language": "python",
   "name": "python3"
  },
  "language_info": {
   "codemirror_mode": {
    "name": "ipython",
    "version": 3
   },
   "file_extension": ".py",
   "mimetype": "text/x-python",
   "name": "python",
   "nbconvert_exporter": "python",
   "pygments_lexer": "ipython3",
   "version": "3.10.6"
  },
  "vscode": {
   "interpreter": {
    "hash": "e7370f93d1d0cde622a1f8e1c04877d8463912d04d973331ad4851f04de6915a"
   }
  }
 },
 "nbformat": 4,
 "nbformat_minor": 5
}
