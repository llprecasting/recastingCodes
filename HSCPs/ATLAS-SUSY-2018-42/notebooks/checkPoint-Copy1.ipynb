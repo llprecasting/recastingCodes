{
 "cells": [
  {
   "cell_type": "code",
   "execution_count": 1,
   "id": "ffa05a34",
   "metadata": {},
   "outputs": [
    {
     "name": "stdout",
     "output_type": "stream",
     "text": [
      "Welcome to JupyROOT 6.24/06\n"
     ]
    },
    {
     "data": {
      "text/plain": [
       "True"
      ]
     },
     "execution_count": 1,
     "metadata": {},
     "output_type": "execute_result"
    }
   ],
   "source": [
    "import os,glob\n",
    "import numpy as np\n",
    "import pandas as pd\n",
    "import glob\n",
    "import pyslha\n",
    "import time\n",
    "from matplotlib import pyplot as plt\n",
    "\n",
    "\n",
    "delphesDir = os.path.abspath(\"../DelphesHSCP\")\n",
    "os.environ['ROOT_INCLUDE_PATH'] = os.path.join(delphesDir,\"external\")\n",
    "\n",
    "import ROOT\n",
    "import xml.etree.ElementTree as ET\n",
    "\n",
    "\n",
    "ROOT.gSystem.Load(os.path.join(delphesDir,\"libDelphes.so\"))\n",
    "\n",
    "ROOT.gInterpreter.Declare('#include \"classes/SortableObject.h\"')\n",
    "ROOT.gInterpreter.Declare('#include \"classes/DelphesClasses.h\"')\n",
    "ROOT.gInterpreter.Declare('#include \"external/ExRootAnalysis/ExRootTreeReader.h\"')"
   ]
  },
  {
   "cell_type": "code",
   "execution_count": 2,
   "id": "911378f9",
   "metadata": {},
   "outputs": [],
   "source": [
    "# inputFile = '../test.root'\n",
    "inputFile = '../Stau_0j_match/Events/run_01/stau_400_10.00ns_delphes_events.root'\n",
    "f = ROOT.TFile(inputFile,'read')\n",
    "tree = f.Get(\"Delphes\")\n",
    "nevts = tree.GetEntries()\n",
    "# nevts = 3\n",
    "towerParticlesR = []\n",
    "towerParticlesZ = []\n",
    "for ievt in range(nevts):    \n",
    "\n",
    "    tree.GetEntry(ievt)        \n",
    "\n",
    "    metCalo = tree.MissingETCalo.At(0)\n",
    "    dmParticles = [tree.dmParticles.At(idm) for idm in range(tree.dmParticles.GetEntries())]\n",
    "    dmPDGs = set([dm.PID for dm in dmParticles])\n",
    "\n",
    "    \n",
    "\n",
    "    for itower in range(tree.Tower.GetEntries()):\n",
    "        tower = tree.Tower.At(itower)\n",
    "        for ip in range(tower.Particles.GetEntries()):\n",
    "            p = tower.Particles.At(ip)\n",
    "            towerParticlesR.append(np.sqrt(p.X**2 + p.Y**2))    \n",
    "            towerParticlesZ.append(np.sqrt(p.Z**2))\n",
    "    "
   ]
  },
  {
   "cell_type": "code",
   "execution_count": 3,
   "id": "4c933d44",
   "metadata": {},
   "outputs": [
    {
     "data": {
      "image/png": "[encoded data removed]",
      "text/plain": [
       "<Figure size 432x288 with 1 Axes>"
      ]
     },
     "metadata": {
      "needs_background": "light"
     },
     "output_type": "display_data"
    }
   ],
   "source": [
    "plt.hist(towerParticlesR,bins=100)\n",
    "plt.yscale('log')\n",
    "plt.show()"
   ]
  },
  {
   "cell_type": "code",
   "execution_count": 5,
   "id": "8a963b8a",
   "metadata": {},
   "outputs": [
    {
     "data": {
      "image/png": "[encoded data removed]",
      "text/plain": [
       "<Figure size 432x288 with 1 Axes>"
      ]
     },
     "metadata": {
      "needs_background": "light"
     },
     "output_type": "display_data"
    }
   ],
   "source": [
    "plt.hist(towerParticlesZ,bins=100)\n",
    "plt.yscale('log')\n",
    "plt.show()"
   ]
  },
  {
   "cell_type": "code",
   "execution_count": 6,
   "id": "cd2c62b8",
   "metadata": {},
   "outputs": [
    {
     "data": {
      "text/plain": [
       "(3899.8431429077964, 5999.93359375)"
      ]
     },
     "execution_count": 6,
     "metadata": {},
     "output_type": "execute_result"
    }
   ],
   "source": [
    "max(towerParticlesR),max(towerParticlesZ)"
   ]
  },
  {
   "cell_type": "code",
   "execution_count": 7,
   "id": "5b467aa0",
   "metadata": {},
   "outputs": [],
   "source": [
    "pTtot = np.array([0.,0.])\n",
    "ETtot = 0.0\n",
    "for itower in range(tree.Tower.GetEntries()):\n",
    "    tower = tree.Tower.At(itower)\n",
    "    ETtot += tower.ET\n",
    "    pTtot += np.array([tower.ET*np.cos(tower.Phi),tower.ET*np.sin(tower.Phi)])\n",
    "    "
   ]
  },
  {
   "cell_type": "code",
   "execution_count": 8,
   "id": "0150b76e",
   "metadata": {},
   "outputs": [
    {
     "data": {
      "text/plain": [
       "(221.02741847280413, 37.43902350081925, 37.439022064208984)"
      ]
     },
     "execution_count": 8,
     "metadata": {},
     "output_type": "execute_result"
    }
   ],
   "source": [
    "ETtot,np.sqrt(pTtot[0]**2+pTtot[1]**2),metCalo.MET"
   ]
  },
  {
   "cell_type": "code",
   "execution_count": 9,
   "id": "8d690460",
   "metadata": {},
   "outputs": [
    {
     "name": "stdout",
     "output_type": "stream",
     "text": [
      "21.555695125699398 -30.610986399376216\n",
      "-21.55569578006794 30.610984181523605\n"
     ]
    }
   ],
   "source": [
    "print(pTtot[0],pTtot[1])\n",
    "print(metCalo.MET*np.cos(metCalo.Phi),metCalo.MET*np.sin(metCalo.Phi))"
   ]
  },
  {
   "cell_type": "code",
   "execution_count": 10,
   "id": "af5434a6",
   "metadata": {},
   "outputs": [],
   "source": [
    "towerParticles = []\n",
    "for itower in range(tree.Tower.GetEntries()):\n",
    "    tower = tree.Tower.At(itower)\n",
    "    for ip in range(tower.Particles.GetEntries()):\n",
    "        p = tower.Particles.At(ip)\n",
    "        towerParticles.append(p)"
   ]
  },
  {
   "cell_type": "code",
   "execution_count": 11,
   "id": "893b2052",
   "metadata": {},
   "outputs": [
    {
     "name": "stdout",
     "output_type": "stream",
     "text": [
      "1000015\n",
      "-1000015\n"
     ]
    }
   ],
   "source": [
    "finalHSCPDaughters = []\n",
    "for i in range(tree.isoHSCPs.GetEntries()):\n",
    "    p = tree.isoHSCPs.At(i)\n",
    "    print(p.PID)"
   ]
  },
  {
   "cell_type": "code",
   "execution_count": 12,
   "id": "2dfc30f0",
   "metadata": {},
   "outputs": [
    {
     "name": "stdout",
     "output_type": "stream",
     "text": [
      "15\n",
      "1000039\n",
      "-15\n",
      "1000039\n"
     ]
    }
   ],
   "source": [
    "finalHSCPDaughters = []\n",
    "for i in range(tree.hscpDaughters.GetEntries()):\n",
    "    p = tree.hscpDaughters.At(i)\n",
    "    print(p.PID)"
   ]
  },
  {
   "cell_type": "code",
   "execution_count": 13,
   "id": "c8918c44",
   "metadata": {},
   "outputs": [],
   "source": [
    "def getDaughters(p):\n",
    "    if p.Status == 1:\n",
    "        return []\n",
    "    daughters = [tree.Particle.At(d) for d in range(p.D1,p.D2+1)]\n",
    "    return daughters\n",
    "\n",
    "stableDaughters = []\n",
    "for i in range(tree.Particle.GetEntries()):\n",
    "    p = tree.Particle.At(i)\n",
    "    if abs(p.PID) not in [2000015,1000015]:\n",
    "        continue\n",
    "    if p.D1 == p.D2:\n",
    "        continue\n",
    "    daughters = getDaughters(p)\n",
    "    unstable = []\n",
    "    for d in daughters:\n",
    "        if d.Status == 1:\n",
    "            stableDaughters.append(d)\n",
    "        else:\n",
    "            unstable.append(d)\n",
    "    while len(unstable) > 0:\n",
    "        daughters = []\n",
    "        for d in unstable:\n",
    "            daughters += getDaughters(d)\n",
    "        unstable = []\n",
    "        for d in daughters:\n",
    "            if d.Status == 1:\n",
    "                stableDaughters.append(d)\n",
    "            else:\n",
    "                unstable.append(d)\n",
    "    "
   ]
  },
  {
   "cell_type": "code",
   "execution_count": 21,
   "id": "00d46ee0",
   "metadata": {
    "scrolled": false
   },
   "outputs": [
    {
     "name": "stdout",
     "output_type": "stream",
     "text": [
      "9\n",
      "22 1 5.6935416381520554e-08 1448.8411284606602 1230.7181396484375 -1.2144017219543457\n",
      "1000039 1 397.4970397949219 1448.8411284606602 1230.7181396484375 -0.4917527735233307\n",
      "16 1 51.47553253173828 1450.9878586460713 1234.5655517578125 -0.8181523680686951\n",
      "13 1 70.23114013671875 1450.9878586460713 1234.5655517578125 -0.8196094632148743\n",
      "-14 1 83.60552978515625 1450.9878586460713 1234.5655517578125 -0.8218570351600647\n",
      "1000039 1 85.2042236328125 1780.05945147528 4435.95263671875 -2.185584783554077\n",
      "-16 1 200.39602661132812 1867.3604668527614 4584.142578125 -1.292176365852356\n",
      "-11 1 94.72628021240234 1867.3604668527614 4584.142578125 -1.284305214881897\n",
      "12 1 234.2896728515625 1867.3604668527614 4584.142578125 -1.2885730266571045\n"
     ]
    }
   ],
   "source": [
    "print(len(stableDaughters))\n",
    "for d in stableDaughters:\n",
    "    print(d.PID,d.Status,d.PT,np.sqrt(d.X**2 + d.Y**2),np.abs(d.Z),d.Eta)"
   ]
  },
  {
   "cell_type": "code",
   "execution_count": 17,
   "id": "13598b85",
   "metadata": {},
   "outputs": [
    {
     "name": "stdout",
     "output_type": "stream",
     "text": [
      "-11 94.72628021240234 -1.284305214881897 1867.3604668527614\n",
      "-211 0.05413650721311569 -4.335975170135498 129.64927379169282\n",
      "-211 1.0950117111206055 -2.036285400390625 151.18095261333104\n"
     ]
    }
   ],
   "source": [
    "for d in towerParticles:\n",
    "    if d.PID not in [22,16,-211,211,12,-11,-16,11,12,-12,13,-13]:\n",
    "        continue\n",
    "#     if d.PT < 0.02: continue\n",
    "    if np.sqrt(d.X**2 + d.Y**2) < 100.0: continue\n",
    "    print(d.PID,d.PT,d.Eta,np.sqrt(d.X**2 + d.Y**2))"
   ]
  },
  {
   "cell_type": "code",
   "execution_count": 20,
   "id": "16a12326",
   "metadata": {},
   "outputs": [
    {
     "name": "stdout",
     "output_type": "stream",
     "text": [
      "-11 94.72628021240234 -1.284305214881897\n",
      "11 0.17232050001621246 1.9722315073013306\n"
     ]
    }
   ],
   "source": [
    "for d in towerParticles:\n",
    "    if d.PID not in [11,-11]: continue\n",
    "    print(d.PID,d.PT,d.Eta)"
   ]
  },
  {
   "cell_type": "code",
   "execution_count": null,
   "id": "9362fcf6",
   "metadata": {},
   "outputs": [],
   "source": []
  }
 ],
 "metadata": {
  "kernelspec": {
   "display_name": "Python 3 (ipykernel)",
   "language": "python",
   "name": "python3"
  },
  "language_info": {
   "codemirror_mode": {
    "name": "ipython",
    "version": 3
   },
   "file_extension": ".py",
   "mimetype": "text/x-python",
   "name": "python",
   "nbconvert_exporter": "python",
   "pygments_lexer": "ipython3",
   "version": "3.9.7"
  },
  "vscode": {
   "interpreter": {
    "hash": "e7370f93d1d0cde622a1f8e1c04877d8463912d04d973331ad4851f04de6915a"
   }
  }
 },
 "nbformat": 4,
 "nbformat_minor": 5
}
