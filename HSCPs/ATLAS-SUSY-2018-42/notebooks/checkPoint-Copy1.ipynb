{
 "cells": [
  {
   "cell_type": "code",
   "execution_count": 75,
   "id": "ffa05a34",
   "metadata": {},
   "outputs": [
    {
     "data": {
      "text/plain": [
       "True"
      ]
     },
     "execution_count": 75,
     "metadata": {},
     "output_type": "execute_result"
    }
   ],
   "source": [
    "import os,glob\n",
    "import numpy as np\n",
    "import pandas as pd\n",
    "import glob\n",
    "import pyslha\n",
    "import time\n",
    "from matplotlib import pyplot as plt\n",
    "\n",
    "\n",
    "delphesDir = os.path.abspath(\"../DelphesHSCP\")\n",
    "os.environ['ROOT_INCLUDE_PATH'] = os.path.join(delphesDir,\"external\")\n",
    "\n",
    "import ROOT\n",
    "import xml.etree.ElementTree as ET\n",
    "\n",
    "\n",
    "ROOT.gSystem.Load(os.path.join(delphesDir,\"libDelphes.so\"))\n",
    "\n",
    "ROOT.gInterpreter.Declare('#include \"classes/SortableObject.h\"')\n",
    "ROOT.gInterpreter.Declare('#include \"classes/DelphesClasses.h\"')\n",
    "ROOT.gInterpreter.Declare('#include \"external/ExRootAnalysis/ExRootTreeReader.h\"')"
   ]
  },
  {
   "cell_type": "code",
   "execution_count": 74,
   "id": "911378f9",
   "metadata": {},
   "outputs": [],
   "source": [
    "inputFile = '../test.root'\n",
    "inputFile = '../Stau_0j_match/Events/run_01/stau_400_10.00ns_delphes_events.root'\n",
    "f = ROOT.TFile(inputFile,'read')\n",
    "tree = f.Get(\"Delphes\")\n",
    "nevts = tree.GetEntries()\n",
    "# nevts = 3\n",
    "towerParticlesR = []\n",
    "towerParticlesZ = []\n",
    "for ievt in range(nevts):    \n",
    "\n",
    "    tree.GetEntry(ievt)        \n",
    "\n",
    "    metCalo = tree.MissingETCalo.At(0)\n",
    "    dmParticles = [tree.dmParticles.At(idm) for idm in range(tree.dmParticles.GetEntries())]\n",
    "    dmPDGs = set([dm.PID for dm in dmParticles])\n",
    "\n",
    "    \n",
    "\n",
    "    for itower in range(tree.Tower.GetEntries()):\n",
    "        tower = tree.Tower.At(itower)\n",
    "        for ip in range(tower.Particles.GetEntries()):\n",
    "            p = tower.Particles.At(ip)\n",
    "            towerParticlesR.append(np.sqrt(p.X**2 + p.Y**2))    \n",
    "            towerParticlesZ.append(np.sqrt(p.Z**2))\n",
    "    "
   ]
  },
  {
   "cell_type": "code",
   "execution_count": 76,
   "id": "4c933d44",
   "metadata": {},
   "outputs": [
    {
     "data": {
      "image/png": "[encoded data removed]",
      "text/plain": [
       "<Figure size 432x288 with 1 Axes>"
      ]
     },
     "metadata": {
      "needs_background": "light"
     },
     "output_type": "display_data"
    }
   ],
   "source": [
    "plt.hist(towerParticlesR,bins=100)\n",
    "plt.yscale('log')\n",
    "plt.show()"
   ]
  },
  {
   "cell_type": "code",
   "execution_count": 77,
   "id": "8a963b8a",
   "metadata": {},
   "outputs": [
    {
     "data": {
      "image/png": "[encoded data removed]",
      "text/plain": [
       "<Figure size 432x288 with 1 Axes>"
      ]
     },
     "metadata": {
      "needs_background": "light"
     },
     "output_type": "display_data"
    }
   ],
   "source": [
    "plt.hist(towerParticlesZ,bins=100)\n",
    "plt.yscale('log')\n",
    "plt.show()"
   ]
  },
  {
   "cell_type": "code",
   "execution_count": 78,
   "id": "cd2c62b8",
   "metadata": {},
   "outputs": [
    {
     "data": {
      "text/plain": [
       "(1149.998121154544, 3509.624755859375)"
      ]
     },
     "execution_count": 78,
     "metadata": {},
     "output_type": "execute_result"
    }
   ],
   "source": [
    "max(towerParticlesR),max(towerParticlesZ)"
   ]
  },
  {
   "cell_type": "code",
   "execution_count": 64,
   "id": "5b467aa0",
   "metadata": {},
   "outputs": [],
   "source": [
    "pTtot = np.array([0.,0.])\n",
    "ETtot = 0.0\n",
    "for itower in range(tree.Tower.GetEntries()):\n",
    "    tower = tree.Tower.At(itower)\n",
    "    ETtot += tower.ET\n",
    "    pTtot += np.array([tower.ET*np.cos(tower.Phi),tower.ET*np.sin(tower.Phi)])\n",
    "    "
   ]
  },
  {
   "cell_type": "code",
   "execution_count": 65,
   "id": "0150b76e",
   "metadata": {},
   "outputs": [
    {
     "data": {
      "text/plain": [
       "(79.0394103648141, 14.434925255335076, 14.434925079345703)"
      ]
     },
     "execution_count": 65,
     "metadata": {},
     "output_type": "execute_result"
    }
   ],
   "source": [
    "ETtot,np.sqrt(pTtot[0]**2+pTtot[1]**2),metCalo.MET"
   ]
  },
  {
   "cell_type": "code",
   "execution_count": 66,
   "id": "8d690460",
   "metadata": {},
   "outputs": [
    {
     "name": "stdout",
     "output_type": "stream",
     "text": [
      "13.487200297756246 5.144170997868773\n",
      "-13.487199540489096 -5.144172489463616\n"
     ]
    }
   ],
   "source": [
    "print(pTtot[0],pTtot[1])\n",
    "print(metCalo.MET*np.cos(metCalo.Phi),metCalo.MET*np.sin(metCalo.Phi))"
   ]
  },
  {
   "cell_type": "code",
   "execution_count": 67,
   "id": "af5434a6",
   "metadata": {},
   "outputs": [],
   "source": [
    "towerParticles = []\n",
    "for itower in range(tree.Tower.GetEntries()):\n",
    "    tower = tree.Tower.At(itower)\n",
    "    for ip in range(tower.Particles.GetEntries()):\n",
    "        p = tower.Particles.At(ip)\n",
    "        towerParticles.append(p)"
   ]
  },
  {
   "cell_type": "code",
   "execution_count": 68,
   "id": "893b2052",
   "metadata": {},
   "outputs": [
    {
     "name": "stdout",
     "output_type": "stream",
     "text": [
      "1000015\n",
      "-1000015\n"
     ]
    }
   ],
   "source": [
    "finalHSCPDaughters = []\n",
    "for i in range(tree.isoHSCPs.GetEntries()):\n",
    "    p = tree.isoHSCPs.At(i)\n",
    "    print(p.PID)"
   ]
  },
  {
   "cell_type": "code",
   "execution_count": 69,
   "id": "2dfc30f0",
   "metadata": {},
   "outputs": [
    {
     "name": "stdout",
     "output_type": "stream",
     "text": [
      "15\n",
      "1000039\n",
      "-15\n",
      "1000039\n"
     ]
    }
   ],
   "source": [
    "finalHSCPDaughters = []\n",
    "for i in range(tree.hscpDaughters.GetEntries()):\n",
    "    p = tree.hscpDaughters.At(i)\n",
    "    print(p.PID)"
   ]
  },
  {
   "cell_type": "code",
   "execution_count": 70,
   "id": "c8918c44",
   "metadata": {},
   "outputs": [],
   "source": [
    "def getDaughters(p):\n",
    "    if p.Status == 1:\n",
    "        return []\n",
    "    daughters = [tree.Particle.At(d) for d in range(p.D1,p.D2+1)]\n",
    "    return daughters\n",
    "\n",
    "stableDaughters = []\n",
    "for i in range(tree.Particle.GetEntries()):\n",
    "    p = tree.Particle.At(i)\n",
    "    if abs(p.PID) not in [2000015,1000015]:\n",
    "        continue\n",
    "    if p.D1 == p.D2:\n",
    "        continue\n",
    "    daughters = getDaughters(p)\n",
    "    unstable = []\n",
    "    for d in daughters:\n",
    "        if d.Status == 1:\n",
    "            stableDaughters.append(d)\n",
    "        else:\n",
    "            unstable.append(d)\n",
    "    while len(unstable) > 0:\n",
    "        daughters = []\n",
    "        for d in unstable:\n",
    "            daughters += getDaughters(d)\n",
    "        unstable = []\n",
    "        for d in daughters:\n",
    "            if d.Status == 1:\n",
    "                stableDaughters.append(d)\n",
    "            else:\n",
    "                unstable.append(d)\n",
    "    "
   ]
  },
  {
   "cell_type": "code",
   "execution_count": 71,
   "id": "00d46ee0",
   "metadata": {},
   "outputs": [
    {
     "name": "stdout",
     "output_type": "stream",
     "text": [
      "19\n",
      "22 1 5.760156795986404e-09 0.0\n",
      "1000039 1 186.2373504638672 3399.1295716458335\n",
      "22 1 0.004081607796251774 3399.1295716458335\n",
      "22 1 195.64251708984375 3399.1295716458335\n",
      "-16 1 96.56175231933594 3416.2878880240173\n",
      "211 1 30.261798858642578 3416.2878880240173\n",
      "22 1 3.971322803408839e-05 6071.820369314743\n",
      "1000039 1 329.0074768066406 6071.820369314743\n",
      "16 1 22.716028213500977 6072.28070957919\n",
      "-211 1 3.864588975906372 6072.28070957919\n",
      "-211 1 22.522241592407227 6072.28070957919\n",
      "211 1 24.54989242553711 6072.28070957919\n",
      "22 1 7.769928932189941 6072.282163338579\n",
      "22 1 6.703354835510254 6072.282163338579\n",
      "1000039 1 186.2373504638672 3399.1295716458335\n",
      "22 1 0.004081607796251774 3399.1295716458335\n",
      "22 1 195.64251708984375 3399.1295716458335\n",
      "-16 1 96.56175231933594 3416.2878880240173\n",
      "211 1 30.261798858642578 3416.2878880240173\n"
     ]
    }
   ],
   "source": [
    "print(len(stableDaughters))\n",
    "for d in stableDaughters:\n",
    "    print(d.PID,d.Status,d.PT,np.sqrt(d.X**2 + d.Y**2))"
   ]
  },
  {
   "cell_type": "code",
   "execution_count": 72,
   "id": "13598b85",
   "metadata": {},
   "outputs": [
    {
     "name": "stdout",
     "output_type": "stream",
     "text": [
      "211 0.23201099038124084 3.234790086746216 150.4820704502029\n"
     ]
    }
   ],
   "source": [
    "for d in towerParticles:\n",
    "    if d.PID not in [22,16,-211,211,12,-11,-16,11,12,-12]:\n",
    "        continue\n",
    "#     if d.PT < 0.02: continue\n",
    "    if np.sqrt(d.X**2 + d.Y**2) < 100.0: continue\n",
    "    print(d.PID,d.PT,d.Eta,np.sqrt(d.X**2 + d.Y**2))"
   ]
  },
  {
   "cell_type": "code",
   "execution_count": 73,
   "id": "16a12326",
   "metadata": {},
   "outputs": [
    {
     "name": "stdout",
     "output_type": "stream",
     "text": [
      "-11 0.2050178498029709 2.829033136367798\n",
      "11 0.133854940533638 2.846956491470337\n",
      "-11 0.227779820561409 3.558393716812134\n",
      "11 0.03138941526412964 3.541213274002075\n"
     ]
    }
   ],
   "source": [
    "for d in towerParticles:\n",
    "    if d.PID not in [11,-11]: continue\n",
    "    print(d.PID,d.PT,d.Eta)"
   ]
  },
  {
   "cell_type": "code",
   "execution_count": null,
   "id": "9362fcf6",
   "metadata": {},
   "outputs": [],
   "source": []
  }
 ],
 "metadata": {
  "kernelspec": {
   "display_name": "Python 3 (ipykernel)",
   "language": "python",
   "name": "python3"
  },
  "language_info": {
   "codemirror_mode": {
    "name": "ipython",
    "version": 3
   },
   "file_extension": ".py",
   "mimetype": "text/x-python",
   "name": "python",
   "nbconvert_exporter": "python",
   "pygments_lexer": "ipython3",
   "version": "3.9.7"
  },
  "vscode": {
   "interpreter": {
    "hash": "e7370f93d1d0cde622a1f8e1c04877d8463912d04d973331ad4851f04de6915a"
   }
  }
 },
 "nbformat": 4,
 "nbformat_minor": 5
}
