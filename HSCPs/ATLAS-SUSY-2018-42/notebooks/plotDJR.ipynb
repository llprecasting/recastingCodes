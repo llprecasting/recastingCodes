{
 "cells": [
  {
   "cell_type": "code",
   "execution_count": 1,
   "id": "bd8e0fc3",
   "metadata": {},
   "outputs": [],
   "source": [
    "import sys,os,glob,copy\n",
    "sys.path.append('../')\n",
    "import numpy as np\n",
    "from numpy.linalg import norm\n",
    "import pandas as pd\n",
    "from matplotlib import pyplot as plt\n",
    "import seaborn as sns\n",
    "from scipy.interpolate import LinearNDInterpolator,interp2d\n",
    "import matplotlib as mpl\n",
    "from matplotlib.colors import LogNorm\n",
    "from IPython.display import display, Markdown\n",
    "import glob\n",
    "plt.rcParams.update({\n",
    "    \"text.usetex\": True,\n",
    "    \"font.family\": \"sans-serif\",\n",
    "    \"font.sans-serif\": [\"Helvetica\"]})\n",
    "\n",
    "plt.rcParams.update({\"savefig.dpi\" : 300}) #Figure resolution\n",
    "\n",
    "\n",
    "#Define plotting style:\n",
    "sns.set() #Set style\n",
    "sns.set_style('ticks',{'font.family':'Times New Roman', 'font.serif':'Times New Roman'})\n",
    "sns.set_context('paper', font_scale=1.8)\n",
    "cm = plt.cm.get_cmap('RdYlBu')\n",
    "\n",
    "\n",
    "pd.set_option('display.max_rows', 200)"
   ]
  },
  {
   "cell_type": "code",
   "execution_count": 19,
   "id": "d49a4f2e",
   "metadata": {},
   "outputs": [],
   "source": [
    "inputFiles = ['../Wino_0j_match/Events/run_75/wino_1100_4ns_djrs.dat',\n",
    "              '../Wino_1j_match/Events/run_75/wino_1100_4ns_djrs.dat']\n"
   ]
  },
  {
   "cell_type": "markdown",
   "id": "10a45b2c",
   "metadata": {},
   "source": [
    "### Get Qcut"
   ]
  },
  {
   "cell_type": "code",
   "execution_count": 20,
   "id": "1868b6b1",
   "metadata": {},
   "outputs": [
    {
     "name": "stdout",
     "output_type": "stream",
     "text": [
      "qcut = 109.50\n",
      "qcut = 109.50\n"
     ]
    }
   ],
   "source": [
    "qcut = None\n",
    "for inputFile in inputFiles:\n",
    "    dirname = os.path.dirname(inputFile)\n",
    "    filename = os.path.basename(inputFile).replace('_djrs.dat','_merged_xsecs.txt')\n",
    "    matchFile = os.path.join(dirname,filename)\n",
    "    with open(matchFile,'r') as f:\n",
    "        qcutNew = eval(f.readlines()[1].split()[0])\n",
    "    if qcut is None:\n",
    "        qcut = qcutNew\n",
    "    elif qcutNew != qcut:\n",
    "        print('!!!Using files with distinct qcut values!!!')\n",
    "    print('qcut = %1.2f' %qcut)"
   ]
  },
  {
   "cell_type": "markdown",
   "id": "ec689f23",
   "metadata": {},
   "source": [
    "### Get histograms"
   ]
  },
  {
   "cell_type": "code",
   "execution_count": 21,
   "id": "877602ee",
   "metadata": {},
   "outputs": [],
   "source": [
    "histsDict = {}\n",
    "\n",
    "for inputFile in inputFiles:\n",
    "    with open(inputFile,'r') as f:\n",
    "        data = f.read()\n",
    "    data = data.split('<histogram>')[1:]\n",
    "    for block in data:\n",
    "        block = block.split('<\\\\histogram>')[0]\n",
    "        block = block.split('\\n')\n",
    "        header = block[0]\n",
    "        pts = np.array([[eval(x) for x in l.split() if x] for l in block[1:] if l.strip()])\n",
    "        label = header.split('|')\n",
    "        label = (label[0].split()[1].replace('\"',''),label[-1].replace('\"',''))\n",
    "        if not label[0] in histsDict:\n",
    "            histsDict[label[0]] = {}\n",
    "        if not label[1] in histsDict[label[0]]:\n",
    "            histsDict[label[0]].update({label[1] : pts})\n",
    "        else:\n",
    "            histsDict[label[0]][label[1]][:,-2] += pts[:,-2]\n",
    "            histsDict[label[0]][label[1]][:,-1] += pts[:,-1]"
   ]
  },
  {
   "cell_type": "code",
   "execution_count": 22,
   "id": "60ef5693",
   "metadata": {},
   "outputs": [],
   "source": [
    "### Remove plots for DJR larger than nJetmax:\n",
    "nJetmax = max([eval(x.split('@')[1]) for x in list(histsDict.values())[0].keys()])\n",
    "for label in list(histsDict.keys()):\n",
    "    if eval(label.strip()[-1]) > nJetmax:\n",
    "        histsDict.pop(label)"
   ]
  },
  {
   "cell_type": "code",
   "execution_count": 24,
   "id": "a8cb899c",
   "metadata": {},
   "outputs": [
    {
     "data": {
      "image/png": "[encoded data removed]",
      "text/plain": [
       "<Figure size 576x360 with 1 Axes>"
      ]
     },
     "metadata": {
      "needs_background": "light"
     },
     "output_type": "display_data"
    }
   ],
   "source": [
    "nplots = len(histsDict)\n",
    "if nplots > 1:\n",
    "    fig,axarr = plt.subplots(figsize=(16,5*int(nplots/2.)),nrows=int(nplots/2.),ncols=2,\n",
    "                         sharey=True)\n",
    "else:\n",
    "    fig,axarr = plt.subplots(figsize=(8,5),nrows=1,ncols=1,\n",
    "                         sharey=True)\n",
    "    axarr = np.array([axarr])\n",
    "nbins = 2 # Controls how many bins are merged together (from the original histogram)\n",
    "for iplot,label in enumerate(histsDict):\n",
    "    ax = axarr.ravel()[iplot]\n",
    "    total = None\n",
    "    for sample,pts in histsDict[label].items():\n",
    "        binc,bins,_ = ax.hist(pts[:,0],weights=pts[:,-2],\n",
    "                 label=sample,bins=pts[:,0][::nbins],\n",
    "                 histtype='step',linewidth=3,alpha=0.5)\n",
    "        if total is None:\n",
    "            total = np.zeros(len(bins)-1)\n",
    "        total += binc    \n",
    "    ax.hist(bins[:-1],weights=total,bins=bins,label='Total',histtype='step',color='black',linewidth=2)    \n",
    "    ax.vlines(x=np.log10(qcut),ymin=total.min(),ymax=total.max(),linestyle='--',\n",
    "              color='black',linewidth=2,label='Match Scale')\n",
    "    \n",
    "#     ax.vlines(x=np.log10(25.0),ymin=total.min(),ymax=total.max(),linestyle='--',\n",
    "#               color='gray',linewidth=2,label=r'min $p_T(j)$',alpha=0.5)\n",
    "    \n",
    "    ax.set_xlabel('log(DJR)')\n",
    "    ax.set_ylabel('Weight')\n",
    "#     ax.set_yscale('log')\n",
    "    ax.set_title(label)\n",
    "    if iplot == 0:    \n",
    "        ax.legend(loc='upper left',framealpha=0.7)\n",
    "plt.tight_layout()\n",
    "# plt.savefig(inputFile.replace('.dat','.png'))\n",
    "plt.show()"
   ]
  },
  {
   "cell_type": "code",
   "execution_count": null,
   "id": "a797937f",
   "metadata": {},
   "outputs": [],
   "source": []
  },
  {
   "cell_type": "code",
   "execution_count": null,
   "id": "3841aa0c",
   "metadata": {},
   "outputs": [],
   "source": []
  }
 ],
 "metadata": {
  "kernelspec": {
   "display_name": "Python 3 (ipykernel)",
   "language": "python",
   "name": "python3"
  },
  "language_info": {
   "codemirror_mode": {
    "name": "ipython",
    "version": 3
   },
   "file_extension": ".py",
   "mimetype": "text/x-python",
   "name": "python",
   "nbconvert_exporter": "python",
   "pygments_lexer": "ipython3",
   "version": "3.10.6"
  },
  "vscode": {
   "interpreter": {
    "hash": "e7370f93d1d0cde622a1f8e1c04877d8463912d04d973331ad4851f04de6915a"
   }
  }
 },
 "nbformat": 4,
 "nbformat_minor": 5
}
