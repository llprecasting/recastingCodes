{
 "cells": [
  {
   "cell_type": "code",
   "execution_count": 1,
   "id": "28b52523",
   "metadata": {},
   "outputs": [],
   "source": [
    "import itertools\n",
    "import numpy as np\n",
    "import pandas as pd\n",
    "from matplotlib import pyplot as plt\n",
    "import seaborn as sns\n",
    "from scipy import stats"
   ]
  },
  {
   "cell_type": "code",
   "execution_count": 2,
   "id": "9060207b",
   "metadata": {},
   "outputs": [
    {
     "name": "stdout",
     "output_type": "stream",
     "text": [
      "200\n"
     ]
    }
   ],
   "source": [
    "pairs = set([])\n",
    "tau_vals = np.logspace(-1,2,10,base=10.0)\n",
    "mLLP_vals = np.linspace(100.,1600.,20)\n",
    "for mLLP, tau in itertools.product(mLLP_vals,tau_vals):\n",
    "    tau = float('%1.2f' %tau)\n",
    "    mLLP = int(mLLP)\n",
    "    pairs.add((mLLP,tau))\n",
    "pairs = sorted(list(pairs))\n",
    "print(len(pairs))"
   ]
  },
  {
   "cell_type": "code",
   "execution_count": 3,
   "id": "b3d3cc3f",
   "metadata": {},
   "outputs": [
    {
     "name": "stdout",
     "output_type": "stream",
     "text": [
      "[(100, 0.1), (100, 0.22), (100, 0.46), (100, 1.0), (100, 2.15), (100, 4.64), (100, 10.0), (100, 21.54), (100, 46.42), (100, 100.0), (178, 0.1), (178, 0.22), (178, 0.46), (178, 1.0), (178, 2.15), (178, 4.64), (178, 10.0), (178, 21.54), (178, 46.42), (178, 100.0), (257, 0.1), (257, 0.22), (257, 0.46), (257, 1.0), (257, 2.15), (257, 4.64), (257, 10.0), (257, 21.54), (257, 46.42), (257, 100.0), (336, 0.1), (336, 0.22), (336, 0.46), (336, 1.0), (336, 2.15), (336, 4.64), (336, 10.0), (336, 21.54), (336, 46.42), (336, 100.0), (415, 0.1), (415, 0.22), (415, 0.46), (415, 1.0), (415, 2.15), (415, 4.64), (415, 10.0), (415, 21.54), (415, 46.42), (415, 100.0), (494, 0.1), (494, 0.22), (494, 0.46), (494, 1.0), (494, 2.15), (494, 4.64), (494, 10.0), (494, 21.54), (494, 46.42), (494, 100.0), (573, 0.1), (573, 0.22), (573, 0.46), (573, 1.0), (573, 2.15), (573, 4.64), (573, 10.0), (573, 21.54), (573, 46.42), (573, 100.0), (652, 0.1), (652, 0.22), (652, 0.46), (652, 1.0), (652, 2.15), (652, 4.64), (652, 10.0), (652, 21.54), (652, 46.42), (652, 100.0), (731, 0.1), (731, 0.22), (731, 0.46), (731, 1.0), (731, 2.15), (731, 4.64), (731, 10.0), (731, 21.54), (731, 46.42), (731, 100.0), (810, 0.1), (810, 0.22), (810, 0.46), (810, 1.0), (810, 2.15), (810, 4.64), (810, 10.0), (810, 21.54), (810, 46.42), (810, 100.0), (889, 0.1), (889, 0.22), (889, 0.46), (889, 1.0), (889, 2.15), (889, 4.64), (889, 10.0), (889, 21.54), (889, 46.42), (889, 100.0), (968, 0.1), (968, 0.22), (968, 0.46), (968, 1.0), (968, 2.15), (968, 4.64), (968, 10.0), (968, 21.54), (968, 46.42), (968, 100.0), (1047, 0.1), (1047, 0.22), (1047, 0.46), (1047, 1.0), (1047, 2.15), (1047, 4.64), (1047, 10.0), (1047, 21.54), (1047, 46.42), (1047, 100.0), (1126, 0.1), (1126, 0.22), (1126, 0.46), (1126, 1.0), (1126, 2.15), (1126, 4.64), (1126, 10.0), (1126, 21.54), (1126, 46.42), (1126, 100.0), (1205, 0.1), (1205, 0.22), (1205, 0.46), (1205, 1.0), (1205, 2.15), (1205, 4.64), (1205, 10.0), (1205, 21.54), (1205, 46.42), (1205, 100.0), (1284, 0.1), (1284, 0.22), (1284, 0.46), (1284, 1.0), (1284, 2.15), (1284, 4.64), (1284, 10.0), (1284, 21.54), (1284, 46.42), (1284, 100.0), (1363, 0.1), (1363, 0.22), (1363, 0.46), (1363, 1.0), (1363, 2.15), (1363, 4.64), (1363, 10.0), (1363, 21.54), (1363, 46.42), (1363, 100.0), (1442, 0.1), (1442, 0.22), (1442, 0.46), (1442, 1.0), (1442, 2.15), (1442, 4.64), (1442, 10.0), (1442, 21.54), (1442, 46.42), (1442, 100.0), (1521, 0.1), (1521, 0.22), (1521, 0.46), (1521, 1.0), (1521, 2.15), (1521, 4.64), (1521, 10.0), (1521, 21.54), (1521, 46.42), (1521, 100.0), (1600, 0.1), (1600, 0.22), (1600, 0.46), (1600, 1.0), (1600, 2.15), (1600, 4.64), (1600, 10.0), (1600, 21.54), (1600, 46.42), (1600, 100.0)]\n"
     ]
    }
   ],
   "source": [
    "print(pairs)"
   ]
  },
  {
   "cell_type": "code",
   "execution_count": 4,
   "id": "cb32de7b",
   "metadata": {},
   "outputs": [
    {
     "name": "stdout",
     "output_type": "stream",
     "text": [
      "[(100, 'inf'), (178, 'inf'), (257, 'inf'), (336, 'inf'), (415, 'inf'), (494, 'inf'), (573, 'inf'), (652, 'inf'), (731, 'inf'), (810, 'inf'), (889, 'inf'), (968, 'inf'), (1047, 'inf'), (1126, 'inf'), (1205, 'inf'), (1284, 'inf'), (1363, 'inf'), (1442, 'inf'), (1521, 'inf'), (1600, 'inf')]\n"
     ]
    }
   ],
   "source": [
    "pairsStable = sorted(list(zip([int(m) for m in mLLP_vals],['inf']*len(mLLP_vals))))\n",
    "print(pairsStable)"
   ]
  },
  {
   "cell_type": "code",
   "execution_count": null,
   "id": "0165231b",
   "metadata": {},
   "outputs": [],
   "source": []
  },
  {
   "cell_type": "code",
   "execution_count": 5,
   "id": "b91494b3",
   "metadata": {},
   "outputs": [],
   "source": [
    "df = pd.read_pickle('../scanResults_Wino.pcl')"
   ]
  },
  {
   "cell_type": "code",
   "execution_count": 6,
   "id": "6840645f",
   "metadata": {},
   "outputs": [],
   "source": [
    "slope, intercept, r, p, se = stats.linregress(df['mLLP'], np.log10(df['Total xsec (pb)']*139.0*1e3*5))"
   ]
  },
  {
   "cell_type": "code",
   "execution_count": 7,
   "id": "557bc3c3",
   "metadata": {},
   "outputs": [
    {
     "name": "stdout",
     "output_type": "stream",
     "text": [
      "6.349713209722852 -0.00318029082663901\n"
     ]
    }
   ],
   "source": [
    "print(intercept,slope)"
   ]
  },
  {
   "cell_type": "code",
   "execution_count": 8,
   "id": "202cb756",
   "metadata": {},
   "outputs": [
    {
     "data": {
      "image/png": "[encoded data removed]",
      "text/plain": [
       "<Figure size 432x288 with 1 Axes>"
      ]
     },
     "metadata": {
      "needs_background": "light"
     },
     "output_type": "display_data"
    }
   ],
   "source": [
    "@np.vectorize\n",
    "def nevts(m):      \n",
    "    nLog = intercept + slope*m\n",
    "    n = 10**nLog\n",
    "    n = 2*min(100000,max(5000,10**(6.35 -0.003*m)))\n",
    "    return n\n",
    "    \n",
    "plt.scatter(df['mLLP'],df['Total xsec (pb)']*139.0*1e3*10)\n",
    "plt.scatter(df['mLLP'],nevts(df['mLLP']),c='red')\n",
    "plt.yscale('log')\n",
    "# plt.xscale('log')\n",
    "plt.show()"
   ]
  },
  {
   "cell_type": "code",
   "execution_count": 9,
   "id": "d1123c8b",
   "metadata": {},
   "outputs": [
    {
     "data": {
      "text/html": [
       "<div>\n",
       "<style scoped>\n",
       "    .dataframe tbody tr th:only-of-type {\n",
       "        vertical-align: middle;\n",
       "    }\n",
       "\n",
       "    .dataframe tbody tr th {\n",
       "        vertical-align: top;\n",
       "    }\n",
       "\n",
       "    .dataframe thead th {\n",
       "        text-align: right;\n",
       "    }\n",
       "</style>\n",
       "<table border=\"1\" class=\"dataframe\">\n",
       "  <thead>\n",
       "    <tr style=\"text-align: right;\">\n",
       "      <th></th>\n",
       "      <th>mLLP</th>\n",
       "      <th>Total xsec (pb)</th>\n",
       "    </tr>\n",
       "  </thead>\n",
       "  <tbody>\n",
       "    <tr>\n",
       "      <th>0</th>\n",
       "      <td>200.0</td>\n",
       "      <td>2.195715</td>\n",
       "    </tr>\n",
       "    <tr>\n",
       "      <th>1</th>\n",
       "      <td>200.0</td>\n",
       "      <td>2.195715</td>\n",
       "    </tr>\n",
       "    <tr>\n",
       "      <th>2</th>\n",
       "      <td>250.0</td>\n",
       "      <td>0.953167</td>\n",
       "    </tr>\n",
       "    <tr>\n",
       "      <th>3</th>\n",
       "      <td>250.0</td>\n",
       "      <td>0.953167</td>\n",
       "    </tr>\n",
       "    <tr>\n",
       "      <th>4</th>\n",
       "      <td>200.0</td>\n",
       "      <td>2.195715</td>\n",
       "    </tr>\n",
       "    <tr>\n",
       "      <th>...</th>\n",
       "      <td>...</td>\n",
       "      <td>...</td>\n",
       "    </tr>\n",
       "    <tr>\n",
       "      <th>153</th>\n",
       "      <td>1600.0</td>\n",
       "      <td>0.000052</td>\n",
       "    </tr>\n",
       "    <tr>\n",
       "      <th>154</th>\n",
       "      <td>1600.0</td>\n",
       "      <td>0.000052</td>\n",
       "    </tr>\n",
       "    <tr>\n",
       "      <th>155</th>\n",
       "      <td>1600.0</td>\n",
       "      <td>0.000052</td>\n",
       "    </tr>\n",
       "    <tr>\n",
       "      <th>156</th>\n",
       "      <td>1600.0</td>\n",
       "      <td>0.000052</td>\n",
       "    </tr>\n",
       "    <tr>\n",
       "      <th>157</th>\n",
       "      <td>1600.0</td>\n",
       "      <td>0.000052</td>\n",
       "    </tr>\n",
       "  </tbody>\n",
       "</table>\n",
       "<p>158 rows × 2 columns</p>\n",
       "</div>"
      ],
      "text/plain": [
       "       mLLP  Total xsec (pb)\n",
       "0     200.0         2.195715\n",
       "1     200.0         2.195715\n",
       "2     250.0         0.953167\n",
       "3     250.0         0.953167\n",
       "4     200.0         2.195715\n",
       "..      ...              ...\n",
       "153  1600.0         0.000052\n",
       "154  1600.0         0.000052\n",
       "155  1600.0         0.000052\n",
       "156  1600.0         0.000052\n",
       "157  1600.0         0.000052\n",
       "\n",
       "[158 rows x 2 columns]"
      ]
     },
     "execution_count": 9,
     "metadata": {},
     "output_type": "execute_result"
    }
   ],
   "source": [
    "df[['mLLP','Total xsec (pb)']]"
   ]
  },
  {
   "cell_type": "code",
   "execution_count": null,
   "id": "aa2c849c",
   "metadata": {},
   "outputs": [],
   "source": []
  }
 ],
 "metadata": {
  "kernelspec": {
   "display_name": "Python 3 (ipykernel)",
   "language": "python",
   "name": "python3"
  },
  "language_info": {
   "codemirror_mode": {
    "name": "ipython",
    "version": 3
   },
   "file_extension": ".py",
   "mimetype": "text/x-python",
   "name": "python",
   "nbconvert_exporter": "python",
   "pygments_lexer": "ipython3",
   "version": "3.10.6"
  }
 },
 "nbformat": 4,
 "nbformat_minor": 5
}
