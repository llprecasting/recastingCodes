{
 "cells": [
  {
   "cell_type": "code",
   "execution_count": 1,
   "id": "28b52523",
   "metadata": {},
   "outputs": [],
   "source": [
    "import itertools\n",
    "import numpy as np\n",
    "import pandas as pd\n",
    "from matplotlib import pyplot as plt\n",
    "import seaborn as sns\n",
    "from scipy import stats"
   ]
  },
  {
   "cell_type": "code",
   "execution_count": 2,
   "id": "9060207b",
   "metadata": {},
   "outputs": [
    {
     "name": "stdout",
     "output_type": "stream",
     "text": [
      "260\n"
     ]
    }
   ],
   "source": [
    "pairs = set([])\n",
    "tau_vals = np.logspace(-1,3,10,base=10.0)\n",
    "mLLP_vals = [100,200,300,400,450,500,550,600,650,\n",
    "             700,800,900,1000,1100,1200,1300,1400,1500,\n",
    "             1600,1800,2000,2200,2400,2600,2800,3000]\n",
    "for mLLP, tau in itertools.product(mLLP_vals,tau_vals):\n",
    "    tau = float('%1.2f' %tau)\n",
    "    mLLP = int(mLLP)\n",
    "    pairs.add((mLLP,tau))\n",
    "pairs = sorted(list(pairs))\n",
    "print(len(pairs))"
   ]
  },
  {
   "cell_type": "code",
   "execution_count": 3,
   "id": "b3d3cc3f",
   "metadata": {},
   "outputs": [
    {
     "name": "stdout",
     "output_type": "stream",
     "text": [
      "[(100, 0.1), (100, 0.28), (100, 0.77), (100, 2.15), (100, 5.99), (100, 16.68), (100, 46.42), (100, 129.15), (100, 359.38), (100, 1000.0), (200, 0.1), (200, 0.28), (200, 0.77), (200, 2.15), (200, 5.99), (200, 16.68), (200, 46.42), (200, 129.15), (200, 359.38), (200, 1000.0), (300, 0.1), (300, 0.28), (300, 0.77), (300, 2.15), (300, 5.99), (300, 16.68), (300, 46.42), (300, 129.15), (300, 359.38), (300, 1000.0), (400, 0.1), (400, 0.28), (400, 0.77), (400, 2.15), (400, 5.99), (400, 16.68), (400, 46.42), (400, 129.15), (400, 359.38), (400, 1000.0), (450, 0.1), (450, 0.28), (450, 0.77), (450, 2.15), (450, 5.99), (450, 16.68), (450, 46.42), (450, 129.15), (450, 359.38), (450, 1000.0), (500, 0.1), (500, 0.28), (500, 0.77), (500, 2.15), (500, 5.99), (500, 16.68), (500, 46.42), (500, 129.15), (500, 359.38), (500, 1000.0), (550, 0.1), (550, 0.28), (550, 0.77), (550, 2.15), (550, 5.99), (550, 16.68), (550, 46.42), (550, 129.15), (550, 359.38), (550, 1000.0), (600, 0.1), (600, 0.28), (600, 0.77), (600, 2.15), (600, 5.99), (600, 16.68), (600, 46.42), (600, 129.15), (600, 359.38), (600, 1000.0), (650, 0.1), (650, 0.28), (650, 0.77), (650, 2.15), (650, 5.99), (650, 16.68), (650, 46.42), (650, 129.15), (650, 359.38), (650, 1000.0), (700, 0.1), (700, 0.28), (700, 0.77), (700, 2.15), (700, 5.99), (700, 16.68), (700, 46.42), (700, 129.15), (700, 359.38), (700, 1000.0), (800, 0.1), (800, 0.28), (800, 0.77), (800, 2.15), (800, 5.99), (800, 16.68), (800, 46.42), (800, 129.15), (800, 359.38), (800, 1000.0), (900, 0.1), (900, 0.28), (900, 0.77), (900, 2.15), (900, 5.99), (900, 16.68), (900, 46.42), (900, 129.15), (900, 359.38), (900, 1000.0), (1000, 0.1), (1000, 0.28), (1000, 0.77), (1000, 2.15), (1000, 5.99), (1000, 16.68), (1000, 46.42), (1000, 129.15), (1000, 359.38), (1000, 1000.0), (1100, 0.1), (1100, 0.28), (1100, 0.77), (1100, 2.15), (1100, 5.99), (1100, 16.68), (1100, 46.42), (1100, 129.15), (1100, 359.38), (1100, 1000.0), (1200, 0.1), (1200, 0.28), (1200, 0.77), (1200, 2.15), (1200, 5.99), (1200, 16.68), (1200, 46.42), (1200, 129.15), (1200, 359.38), (1200, 1000.0), (1300, 0.1), (1300, 0.28), (1300, 0.77), (1300, 2.15), (1300, 5.99), (1300, 16.68), (1300, 46.42), (1300, 129.15), (1300, 359.38), (1300, 1000.0), (1400, 0.1), (1400, 0.28), (1400, 0.77), (1400, 2.15), (1400, 5.99), (1400, 16.68), (1400, 46.42), (1400, 129.15), (1400, 359.38), (1400, 1000.0), (1500, 0.1), (1500, 0.28), (1500, 0.77), (1500, 2.15), (1500, 5.99), (1500, 16.68), (1500, 46.42), (1500, 129.15), (1500, 359.38), (1500, 1000.0), (1600, 0.1), (1600, 0.28), (1600, 0.77), (1600, 2.15), (1600, 5.99), (1600, 16.68), (1600, 46.42), (1600, 129.15), (1600, 359.38), (1600, 1000.0), (1800, 0.1), (1800, 0.28), (1800, 0.77), (1800, 2.15), (1800, 5.99), (1800, 16.68), (1800, 46.42), (1800, 129.15), (1800, 359.38), (1800, 1000.0), (2000, 0.1), (2000, 0.28), (2000, 0.77), (2000, 2.15), (2000, 5.99), (2000, 16.68), (2000, 46.42), (2000, 129.15), (2000, 359.38), (2000, 1000.0), (2200, 0.1), (2200, 0.28), (2200, 0.77), (2200, 2.15), (2200, 5.99), (2200, 16.68), (2200, 46.42), (2200, 129.15), (2200, 359.38), (2200, 1000.0), (2400, 0.1), (2400, 0.28), (2400, 0.77), (2400, 2.15), (2400, 5.99), (2400, 16.68), (2400, 46.42), (2400, 129.15), (2400, 359.38), (2400, 1000.0), (2600, 0.1), (2600, 0.28), (2600, 0.77), (2600, 2.15), (2600, 5.99), (2600, 16.68), (2600, 46.42), (2600, 129.15), (2600, 359.38), (2600, 1000.0), (2800, 0.1), (2800, 0.28), (2800, 0.77), (2800, 2.15), (2800, 5.99), (2800, 16.68), (2800, 46.42), (2800, 129.15), (2800, 359.38), (2800, 1000.0), (3000, 0.1), (3000, 0.28), (3000, 0.77), (3000, 2.15), (3000, 5.99), (3000, 16.68), (3000, 46.42), (3000, 129.15), (3000, 359.38), (3000, 1000.0)]\n"
     ]
    }
   ],
   "source": [
    "print(pairs)"
   ]
  },
  {
   "cell_type": "code",
   "execution_count": 4,
   "id": "cb32de7b",
   "metadata": {},
   "outputs": [
    {
     "name": "stdout",
     "output_type": "stream",
     "text": [
      "[(100, 'inf'), (178, 'inf'), (257, 'inf'), (336, 'inf'), (415, 'inf'), (494, 'inf'), (573, 'inf'), (652, 'inf'), (731, 'inf'), (810, 'inf'), (889, 'inf'), (968, 'inf'), (1047, 'inf'), (1126, 'inf'), (1205, 'inf'), (1284, 'inf'), (1363, 'inf'), (1442, 'inf'), (1521, 'inf'), (1600, 'inf')]\n"
     ]
    }
   ],
   "source": [
    "pairsStable = sorted(list(zip([int(m) for m in mLLP_vals],['inf']*len(mLLP_vals))))\n",
    "print(pairsStable)"
   ]
  },
  {
   "cell_type": "code",
   "execution_count": null,
   "id": "0165231b",
   "metadata": {},
   "outputs": [],
   "source": []
  },
  {
   "cell_type": "code",
   "execution_count": 5,
   "id": "b91494b3",
   "metadata": {},
   "outputs": [],
   "source": [
    "df = pd.read_pickle('../scanResults_Wino.pcl')"
   ]
  },
  {
   "cell_type": "code",
   "execution_count": 6,
   "id": "6840645f",
   "metadata": {},
   "outputs": [],
   "source": [
    "slope, intercept, r, p, se = stats.linregress(df['mLLP'], np.log10(df['Total xsec (pb)']*139.0*1e3*5))"
   ]
  },
  {
   "cell_type": "code",
   "execution_count": 7,
   "id": "557bc3c3",
   "metadata": {},
   "outputs": [
    {
     "name": "stdout",
     "output_type": "stream",
     "text": [
      "6.349713209722852 -0.00318029082663901\n"
     ]
    }
   ],
   "source": [
    "print(intercept,slope)"
   ]
  },
  {
   "cell_type": "code",
   "execution_count": 8,
   "id": "202cb756",
   "metadata": {},
   "outputs": [
    {
     "data": {
      "image/png": "[encoded data removed]",
      "text/plain": [
       "<Figure size 432x288 with 1 Axes>"
      ]
     },
     "metadata": {
      "needs_background": "light"
     },
     "output_type": "display_data"
    }
   ],
   "source": [
    "@np.vectorize\n",
    "def nevts(m):      \n",
    "    nLog = intercept + slope*m\n",
    "    n = 10**nLog\n",
    "    n = 2*min(100000,max(5000,10**(6.35 -0.003*m)))\n",
    "    return n\n",
    "    \n",
    "plt.scatter(df['mLLP'],df['Total xsec (pb)']*139.0*1e3*10)\n",
    "plt.scatter(df['mLLP'],nevts(df['mLLP']),c='red')\n",
    "plt.yscale('log')\n",
    "# plt.xscale('log')\n",
    "plt.show()"
   ]
  },
  {
   "cell_type": "code",
   "execution_count": 9,
   "id": "d1123c8b",
   "metadata": {},
   "outputs": [
    {
     "data": {
      "text/html": [
       "<div>\n",
       "<style scoped>\n",
       "    .dataframe tbody tr th:only-of-type {\n",
       "        vertical-align: middle;\n",
       "    }\n",
       "\n",
       "    .dataframe tbody tr th {\n",
       "        vertical-align: top;\n",
       "    }\n",
       "\n",
       "    .dataframe thead th {\n",
       "        text-align: right;\n",
       "    }\n",
       "</style>\n",
       "<table border=\"1\" class=\"dataframe\">\n",
       "  <thead>\n",
       "    <tr style=\"text-align: right;\">\n",
       "      <th></th>\n",
       "      <th>mLLP</th>\n",
       "      <th>Total xsec (pb)</th>\n",
       "    </tr>\n",
       "  </thead>\n",
       "  <tbody>\n",
       "    <tr>\n",
       "      <th>0</th>\n",
       "      <td>200.0</td>\n",
       "      <td>2.195715</td>\n",
       "    </tr>\n",
       "    <tr>\n",
       "      <th>1</th>\n",
       "      <td>200.0</td>\n",
       "      <td>2.195715</td>\n",
       "    </tr>\n",
       "    <tr>\n",
       "      <th>2</th>\n",
       "      <td>250.0</td>\n",
       "      <td>0.953167</td>\n",
       "    </tr>\n",
       "    <tr>\n",
       "      <th>3</th>\n",
       "      <td>250.0</td>\n",
       "      <td>0.953167</td>\n",
       "    </tr>\n",
       "    <tr>\n",
       "      <th>4</th>\n",
       "      <td>200.0</td>\n",
       "      <td>2.195715</td>\n",
       "    </tr>\n",
       "    <tr>\n",
       "      <th>...</th>\n",
       "      <td>...</td>\n",
       "      <td>...</td>\n",
       "    </tr>\n",
       "    <tr>\n",
       "      <th>153</th>\n",
       "      <td>1600.0</td>\n",
       "      <td>0.000052</td>\n",
       "    </tr>\n",
       "    <tr>\n",
       "      <th>154</th>\n",
       "      <td>1600.0</td>\n",
       "      <td>0.000052</td>\n",
       "    </tr>\n",
       "    <tr>\n",
       "      <th>155</th>\n",
       "      <td>1600.0</td>\n",
       "      <td>0.000052</td>\n",
       "    </tr>\n",
       "    <tr>\n",
       "      <th>156</th>\n",
       "      <td>1600.0</td>\n",
       "      <td>0.000052</td>\n",
       "    </tr>\n",
       "    <tr>\n",
       "      <th>157</th>\n",
       "      <td>1600.0</td>\n",
       "      <td>0.000052</td>\n",
       "    </tr>\n",
       "  </tbody>\n",
       "</table>\n",
       "<p>158 rows × 2 columns</p>\n",
       "</div>"
      ],
      "text/plain": [
       "       mLLP  Total xsec (pb)\n",
       "0     200.0         2.195715\n",
       "1     200.0         2.195715\n",
       "2     250.0         0.953167\n",
       "3     250.0         0.953167\n",
       "4     200.0         2.195715\n",
       "..      ...              ...\n",
       "153  1600.0         0.000052\n",
       "154  1600.0         0.000052\n",
       "155  1600.0         0.000052\n",
       "156  1600.0         0.000052\n",
       "157  1600.0         0.000052\n",
       "\n",
       "[158 rows x 2 columns]"
      ]
     },
     "execution_count": 9,
     "metadata": {},
     "output_type": "execute_result"
    }
   ],
   "source": [
    "df[['mLLP','Total xsec (pb)']]"
   ]
  },
  {
   "cell_type": "code",
   "execution_count": null,
   "id": "aa2c849c",
   "metadata": {},
   "outputs": [],
   "source": []
  }
 ],
 "metadata": {
  "kernelspec": {
   "display_name": "Python 3 (ipykernel)",
   "language": "python",
   "name": "python3"
  },
  "language_info": {
   "codemirror_mode": {
    "name": "ipython",
    "version": 3
   },
   "file_extension": ".py",
   "mimetype": "text/x-python",
   "name": "python",
   "nbconvert_exporter": "python",
   "pygments_lexer": "ipython3",
   "version": "3.9.7"
  }
 },
 "nbformat": 4,
 "nbformat_minor": 5
}
