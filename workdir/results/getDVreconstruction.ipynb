{
 "cells": [
  {
   "cell_type": "code",
   "execution_count": 1,
   "metadata": {},
   "outputs": [
    {
     "name": "stdout",
     "output_type": "stream",
     "text": [
      "Welcome to JupyROOT 6.20/06\n"
     ]
    }
   ],
   "source": [
    "import sys,os,glob\n",
    "import numpy as np\n",
    "import ROOT\n",
    "from matplotlib import pyplot as plt\n",
    "import seaborn as sns\n",
    "from scipy.interpolate import LinearNDInterpolator,interp2d\n",
    "sns.set() #Set style\n",
    "sns.set_style('ticks',{'font.family':'serif', 'font.serif':'Times New Roman'})\n",
    "sns.set_context('paper', font_scale=1.8)\n",
    "sns.set_palette(sns.color_palette(\"Paired\"))"
   ]
  },
  {
   "cell_type": "code",
   "execution_count": 2,
   "metadata": {},
   "outputs": [
    {
     "data": {
      "text/plain": [
       "0"
      ]
     },
     "execution_count": 2,
     "metadata": {},
     "output_type": "execute_result"
    }
   ],
   "source": [
    "ROOT.gSystem.Load(os.path.abspath(\"../Delphes/libDelphes.so\"))"
   ]
  },
  {
   "cell_type": "code",
   "execution_count": 3,
   "metadata": {},
   "outputs": [],
   "source": [
    "try:\n",
    "    ROOT.gInterpreter.Declare('#include \"classes/SortableObject.h\"')\n",
    "    ROOT.gInterpreter.Declare('#include \"classes/DelphesClasses.h\"')\n",
    "    ROOT.gInterpreter.Declare('#include \"external/ExRootAnalysis/ExRootTreeReader.h\"')\n",
    "except:\n",
    "    pass"
   ]
  },
  {
   "cell_type": "markdown",
   "metadata": {},
   "source": [
    "### Load ATLAS vertex reconstruction efficiencies:"
   ]
  },
  {
   "cell_type": "code",
   "execution_count": 4,
   "metadata": {},
   "outputs": [],
   "source": [
    "interpDict = {}\n",
    "for f in glob.glob('./HEPData-ins1630632-v2-csv/*csv'):\n",
    "    with open(f,'r') as ff:\n",
    "        data = []\n",
    "        lines = ff.readlines()\n",
    "        nheader = len([l for l in lines if (l.strip() and l.strip()[0] == '#')])\n",
    "        description = [l for l in lines if 'description' in l][0]\n",
    "        if not 'Parameterized vertex level efficiencies' in description:\n",
    "            continue\n",
    "        Rrange = description.split(' for truth decays with')[1].split('.')[0]\n",
    "        Rmin = eval(Rrange.split()[0].replace('$',''))\n",
    "        Rmax = eval(Rrange.split()[-2].replace('$',''))\n",
    "        pts = np.genfromtxt(f,delimiter=',',comments='#',names=True,skip_header=nheader)\n",
    "        for pt in pts:\n",
    "            mDV = pt['m_Truth_vertex_GeV_LOW']\n",
    "            nTracks = pt['Number_of_tracks_Truth_vertex_LOW']\n",
    "            eff = pt['Vertex_selection_efficiency']\n",
    "            data.append([mDV,nTracks,eff])\n",
    "        data = np.array(data)\n",
    "        interpDict[(Rmin,Rmax)] = LinearNDInterpolator(data[:,0:2],data[:,-1],\n",
    "                                            fill_value=0.0)"
   ]
  },
  {
   "cell_type": "markdown",
   "metadata": {},
   "source": [
    "### Load ATLAS benchmark results"
   ]
  },
  {
   "cell_type": "code",
   "execution_count": 5,
   "metadata": {},
   "outputs": [
    {
     "name": "stdout",
     "output_type": "stream",
     "text": [
      "('DV_radius_mm', 'Vertex_reconstruction_efficiency_with_LRT', 'error_', 'error__1')\n"
     ]
    }
   ],
   "source": [
    "f = './HEPData-ins1630632-v2-csv/Table1.csv'\n",
    "ptsNoLRT = np.genfromtxt(f,delimiter=',',comments='#',names=True,skip_footer=61,skip_header=10)\n",
    "ptsLRT = np.genfromtxt(f,delimiter=',',comments='#',names=True,skip_header=73)\n",
    "print(ptsLRT.dtype.names)"
   ]
  },
  {
   "cell_type": "markdown",
   "metadata": {},
   "source": [
    "### Define DisplacedVertex class"
   ]
  },
  {
   "cell_type": "code",
   "execution_count": 6,
   "metadata": {},
   "outputs": [],
   "source": [
    "class DisplacedVertex(object):\n",
    "    \n",
    "    def __init__(self):\n",
    "        self.tracks = []\n",
    "        self.R = 0.0\n",
    "        \n",
    "    def computeRDV(self):\n",
    "        RDV = np.mean([np.sqrt(track.X**2 + track.Y**2 + track.Z**2)\n",
    "        \n",
    "                       for track in self.tracks])\n",
    "        return RDV\n",
    "        \n",
    "    def distanceTo(self,track):\n",
    "        \n",
    "        d = np.abs(self.R-np.sqrt(track.X**2 + track.Y**2 + track.Z**2))\n",
    "        \n",
    "        return d\n",
    "    \n",
    "    def addTrack(self,track):\n",
    "        self.tracks.append(track)\n",
    "        self.R = self.computeRDV()\n",
    "        \n",
    "    def getMass(self):\n",
    "        pX = np.array([track.PT*np.cos(track.Phi) for track in self.tracks])\n",
    "        pY = np.array([track.PT*np.sin(track.Phi) for track in self.tracks])\n",
    "        pZ = np.array([track.PT*np.sinh(track.Eta) for track in self.tracks])\n",
    "        #Track energy assuming pion mass:\n",
    "        E = np.sqrt(pX**2 + pY**2 + pZ**2 + 0.139**2)\n",
    "        \n",
    "        #Compute total invariant mass:\n",
    "        mDV = np.sqrt(E.sum()**2 - pX.sum()**2 - pY.sum()**2 - pZ.sum()**2)\n",
    "        \n",
    "        return mDV\n",
    "        \n",
    "    def getNTracks(self):\n",
    "        \n",
    "        return len(self.tracks)\n",
    "        "
   ]
  },
  {
   "cell_type": "code",
   "execution_count": 7,
   "metadata": {},
   "outputs": [],
   "source": [
    "inputFile = '../data/gluino_1200_lsp_100_tau_1.root'\n",
    "\n",
    "# Create chain of root trees\n",
    "chain = ROOT.TChain(\"Delphes\")\n",
    "chain.Add(inputFile)\n",
    "\n",
    "# Create object of class ExRootTreeReader\n",
    "treeReader = ROOT.ExRootTreeReader(chain)\n",
    "numberOfEntries = treeReader.GetEntries()"
   ]
  },
  {
   "cell_type": "code",
   "execution_count": 8,
   "metadata": {},
   "outputs": [],
   "source": [
    "# Get pointers to branches used in this analysis\n",
    "tracks = treeReader.UseBranch(\"Track\")\n",
    "particles = treeReader.UseBranch(\"Particle\")"
   ]
  },
  {
   "cell_type": "code",
   "execution_count": 9,
   "metadata": {},
   "outputs": [],
   "source": [
    "# %% Loop over all events\n",
    "effList = []\n",
    "for entry in range(0, numberOfEntries):\n",
    "    # Load selected branches with data from specified event\n",
    "    treeReader.ReadEntry(entry)\n",
    "\n",
    "    #Get DVs\n",
    "    DVs = []\n",
    "    for itrack in range(0,tracks.GetEntries()):\n",
    "        track = tracks.At(itrack)\n",
    "        #Apply basic selection:\n",
    "        if track.PT < 1.0: continue\n",
    "        if abs(track.D0) < 2.0: continue\n",
    "        Rtrack = np.sqrt(track.X**2 + track.Y**2 + track.Z**2)\n",
    "        matches = False        \n",
    "        for DV in DVs:\n",
    "            if DV.distanceTo(track) < 1.0:\n",
    "                DV.addTrack(track)\n",
    "                matches = True\n",
    "        if not matches:\n",
    "            newDV = DisplacedVertex()\n",
    "            newDV.addTrack(track)\n",
    "            DVs.append(newDV)\n",
    "    \n",
    "    #Compute reconstruction efficiency:\n",
    "    for DV in DVs:\n",
    "        mDV = DV.getMass()\n",
    "        RDV = DV.R\n",
    "        ntracks = DV.getNTracks()\n",
    "        if mDV < 10: continue\n",
    "        if ntracks < 5: continue\n",
    "        if RDV > 300: continue\n",
    "        ntracks = min(ntracks,45) #Assume the efficiency is flat for more than 45 tracks\n",
    "        \n",
    "        eff = 0.0\n",
    "        for Rmin,Rmax in interpDict.keys():\n",
    "            if Rmin <= RDV < Rmax:\n",
    "                eff = interpDict[(Rmin,Rmax)]([mDV,ntracks])[0]\n",
    "                break\n",
    "        effList.append([RDV,eff])\n",
    "#         print(mDV,RDV,ntracks,eff)\n"
   ]
  },
  {
   "cell_type": "code",
   "execution_count": 10,
   "metadata": {},
   "outputs": [],
   "source": [
    "effList = np.array(effList)"
   ]
  },
  {
   "cell_type": "code",
   "execution_count": 11,
   "metadata": {},
   "outputs": [
    {
     "name": "stdout",
     "output_type": "stream",
     "text": [
      "(67769, 2)\n"
     ]
    }
   ],
   "source": [
    "print(effList.shape)"
   ]
  },
  {
   "cell_type": "code",
   "execution_count": 12,
   "metadata": {},
   "outputs": [],
   "source": [
    "bins = np.arange(2.5,300.0,5.0)\n",
    "effHist = np.histogram(effList[:,0],weights=effList[:,1],bins=bins)[0]\n",
    "hist = np.histogram(effList[:,0],bins=bins)[0]\n",
    "effHistAvg = effHist/hist"
   ]
  },
  {
   "cell_type": "code",
   "execution_count": 13,
   "metadata": {},
   "outputs": [
    {
     "data": {
      "text/plain": [
       "((59,), (60,))"
      ]
     },
     "execution_count": 13,
     "metadata": {},
     "output_type": "execute_result"
    }
   ],
   "source": [
    "effHistAvg.shape,bins.shape"
   ]
  },
  {
   "cell_type": "code",
   "execution_count": 14,
   "metadata": {},
   "outputs": [
    {
     "data": {
      "image/png": "[encoded data removed]",
      "text/plain": [
       "<Figure size 432x288 with 1 Axes>"
      ]
     },
     "metadata": {},
     "output_type": "display_data"
    }
   ],
   "source": [
    "plt.hist(effList[:,0],bins=50,weights=[1./2500.]*len(effList))\n",
    "plt.plot(ptsLRT['DV_radius_mm'],ptsLRT['Vertex_reconstruction_efficiency_with_LRT'],'o',c='black',\n",
    "         label='ATLAS (with LRT)')\n",
    "plt.xlabel('R [mm]')\n",
    "plt.ylabel('# Events')\n",
    "plt.savefig('RDV_delphes.png')\n",
    "plt.show()"
   ]
  },
  {
   "cell_type": "code",
   "execution_count": 15,
   "metadata": {},
   "outputs": [
    {
     "data": {
      "image/png": "[encoded data removed]",
      "text/plain": [
       "<Figure size 432x288 with 1 Axes>"
      ]
     },
     "metadata": {},
     "output_type": "display_data"
    }
   ],
   "source": [
    "plt.plot(bins[:-1],effHistAvg,'o',c='red',label='Delphes')\n",
    "plt.plot(ptsLRT['DV_radius_mm'],ptsLRT['Vertex_reconstruction_efficiency_with_LRT'],'o',c='black',\n",
    "         label='ATLAS (with LRT)')\n",
    "plt.plot(ptsNoLRT['DV_radius_mm'],ptsNoLRT['Vertex_reconstruction_efficiency_without_LRT'],'x',c='black',\n",
    "         label='ATLAS (without LRT)')\n",
    "plt.xlabel('R [mm]')\n",
    "plt.ylabel('Average Vertex Reco Eff')\n",
    "plt.ylim(0,1.2)\n",
    "plt.legend()\n",
    "plt.savefig('RDVeff_delphes.png')\n",
    "plt.show()"
   ]
  },
  {
   "cell_type": "code",
   "execution_count": null,
   "metadata": {},
   "outputs": [],
   "source": []
  }
 ],
 "metadata": {
  "kernelspec": {
   "display_name": "Python 3",
   "language": "python",
   "name": "python3"
  },
  "language_info": {
   "codemirror_mode": {
    "name": "ipython",
    "version": 3
   },
   "file_extension": ".py",
   "mimetype": "text/x-python",
   "name": "python",
   "nbconvert_exporter": "python",
   "pygments_lexer": "ipython3",
   "version": "3.8.5"
  }
 },
 "nbformat": 4,
 "nbformat_minor": 4
}
